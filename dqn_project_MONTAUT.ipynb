{
 "cells": [
  {
   "cell_type": "code",
   "execution_count": 1,
   "metadata": {},
   "outputs": [],
   "source": [
    "## coding=utf-8"
   ]
  },
  {
   "cell_type": "code",
   "execution_count": 2,
   "metadata": {
    "colab": {},
    "colab_type": "code",
    "id": "P7aSqYk3coLM"
   },
   "outputs": [
    {
     "name": "stderr",
     "output_type": "stream",
     "text": [
      "Using TensorFlow backend.\n"
     ]
    }
   ],
   "source": [
    "import keras\n",
    "import numpy as np\n",
    "import io\n",
    "import base64\n",
    "from IPython.display import HTML\n",
    "import skvideo.io\n",
    "import cv2\n",
    "import json\n",
    "\n",
    "    \n",
    "\n",
    "from keras.models import Sequential,model_from_json\n",
    "from keras.layers.core import Dense\n",
    "from keras.optimizers import sgd\n",
    "from keras.layers import Conv2D,MaxPooling2D,Activation,AveragePooling2D,Reshape,BatchNormalization"
   ]
  },
  {
   "cell_type": "markdown",
   "metadata": {
    "colab_type": "text",
    "id": "KLlZJwvmcoLo"
   },
   "source": [
    "# MiniProject on Deep Reinforcement Learning"
   ]
  },
  {
   "cell_type": "markdown",
   "metadata": {},
   "source": [
    "Student: Louis Montaut"
   ]
  },
  {
   "cell_type": "markdown",
   "metadata": {
    "colab_type": "text",
    "id": "AF2PrEbucoLy"
   },
   "source": [
    "__Notations__: $E_p$ is the expectation under probability $p$. Please justify each of your answer and widely comment your code."
   ]
  },
  {
   "cell_type": "markdown",
   "metadata": {
    "colab_type": "text",
    "id": "_WEKMifScoL7"
   },
   "source": [
    "# Context"
   ]
  },
  {
   "cell_type": "markdown",
   "metadata": {
    "colab_type": "text",
    "id": "En-PNuJocoMB"
   },
   "source": [
    "In a reinforcement learning algorithm, we modelize each step $t$ as an action $a_t$ obtained from a state $s_t$, i.e. $\\{(a_{t},s_{t})_{t\\leq T}\\}$ having the Markov property. We consider a discount factor $\\gamma \\in [0,1]$ that ensures convergence. The goal is to find among all the policies $\\pi$, one that maximizes the expected reward:\n",
    "\n",
    "\\begin{equation*}\n",
    "R(\\pi)=\\sum_{t\\leq T}E_{p^{\\pi}}[\\gamma^t r(s_{t},a_{t})] \\> ,\n",
    "\\end{equation*}\n",
    "\n",
    "where: \n",
    "\\begin{equation*}p^{\\pi}(a_{0},a_{1},s_{1},...,a_{T},s_{T})=p(a_{0})\\prod_{t=1}^{T}\\pi(a_{t}|s_{t})p(s_{t+1}|s_{t},a_{t}) \\> .\n",
    "\\end{equation*}\n",
    "\n",
    "We note the $Q$-function:\n",
    "\n",
    "\\begin{equation*}Q^\\pi(s,a)=E_{p^{\\pi}}[\\sum_{t\\leq T}\\gamma^{t}r(s_{t},a_{t})|s_{0}=s,a_{0}=a] \\> .\n",
    "\\end{equation*}\n",
    "\n",
    "Thus, the optimal Q function is:\n",
    "\\begin{equation*}\n",
    "Q^*(s,a)=\\max_{\\pi}Q^\\pi(s,a) \\> .\n",
    "\\end{equation*}\n",
    "\n",
    "In this project, we will apply the deep reinforcement learning techniques to a simple game: an agent will have to learn from scratch a policy that will permit it maximizing a reward."
   ]
  },
  {
   "cell_type": "markdown",
   "metadata": {
    "colab_type": "text",
    "id": "vKWGMYkFcoMH"
   },
   "source": [
    "## The environment, the agent and the game"
   ]
  },
  {
   "cell_type": "markdown",
   "metadata": {
    "colab_type": "text",
    "id": "f2V2_f9rcoMN"
   },
   "source": [
    "### The environment"
   ]
  },
  {
   "cell_type": "markdown",
   "metadata": {
    "colab_type": "text",
    "id": "F9E8gE4ZcoMT"
   },
   "source": [
    "```Environment``` is an abstract class that represents the states, rewards, and actions to obtain the new state."
   ]
  },
  {
   "cell_type": "code",
   "execution_count": 3,
   "metadata": {
    "colab": {},
    "colab_type": "code",
    "id": "m0lGbB9gcoMZ"
   },
   "outputs": [],
   "source": [
    "class Environment(object):\n",
    "    def __init__(self):\n",
    "        pass\n",
    "\n",
    "    def act(self, act):\n",
    "        \"\"\"\n",
    "        One can act on the environment and obtain its reaction:\n",
    "        - the new state\n",
    "        - the reward of the new state\n",
    "        - should we continue the game?\n",
    "\n",
    "        :return: state, reward, game_over\n",
    "        \"\"\"\n",
    "        pass\n",
    "\n",
    "\n",
    "    def reset(self):\n",
    "        \"\"\"\n",
    "        Reinitialize the environment to a random state and returns\n",
    "        the original state\n",
    "\n",
    "        :return: state\n",
    "        \"\"\"\n",
    "        pass\n",
    "    \n",
    "    def draw(self):\n",
    "        \"\"\"\n",
    "        Visualize in the console or graphically the current state\n",
    "        \"\"\"\n",
    "        pass"
   ]
  },
  {
   "cell_type": "markdown",
   "metadata": {
    "colab_type": "text",
    "id": "EVbzoapacoMt"
   },
   "source": [
    "The method ```act``` allows to act on the environment at a given state $s_t$ (stored internally), via action $a_t$. The method will return the new state $s_{t+1}$, the reward $r(s_{t},a_{t})$ and determines if $t\\leq T$ (*game_over*).\n",
    "\n",
    "The method ```reset``` simply reinitializes the environment to a random state $s_0$.\n",
    "\n",
    "The method ```draw``` displays the current state $s_t$ (this is useful to check the behavior of the Agent).\n",
    "\n",
    "We modelize $s_t$ as a tensor, while $a_t$ is an integer."
   ]
  },
  {
   "cell_type": "markdown",
   "metadata": {
    "colab_type": "text",
    "id": "QCIDXutacoMz"
   },
   "source": [
    "### The Agent"
   ]
  },
  {
   "cell_type": "markdown",
   "metadata": {
    "colab_type": "text",
    "id": "Z4jcX7yIcoM4"
   },
   "source": [
    "The goal of the ```Agent``` is to interact with the ```Environment``` by proposing actions $a_t$ obtained from a given state $s_t$ to attempt to maximize its __reward__ $r(s_t,a_t)$. We propose the following abstract class:"
   ]
  },
  {
   "cell_type": "code",
   "execution_count": 4,
   "metadata": {
    "colab": {},
    "colab_type": "code",
    "id": "XHgSjM4mcoM8"
   },
   "outputs": [],
   "source": [
    "class Agent(object):\n",
    "    def __init__(self, epsilon=0.1, n_action=4):\n",
    "        self.epsilon = epsilon\n",
    "        self.n_action = n_action\n",
    "    \n",
    "    def set_epsilon(self,e):\n",
    "        self.epsilon = e\n",
    "\n",
    "    def act(self,s,train=True):\n",
    "        \"\"\" This function should return the next action to do:\n",
    "        an integer between 0 and 4 (not included) with a random exploration of epsilon\"\"\"\n",
    "        if train:\n",
    "            if np.random.rand() <= self.epsilon:\n",
    "                a = np.random.randint(0, self.n_action, size=1)[0]\n",
    "            else:\n",
    "                a = self.learned_act(s)\n",
    "        else: # in some cases, this can improve the performance.. remove it if poor performances\n",
    "            a = self.learned_act(s)\n",
    "\n",
    "        return a\n",
    "\n",
    "    def learned_act(self,s):\n",
    "        \"\"\" Act via the policy of the agent, from a given state s\n",
    "        it proposes an action a\"\"\"\n",
    "        pass\n",
    "\n",
    "    def reinforce(self, s, n_s, a, r, game_over_):\n",
    "        \"\"\" This function is the core of the learning algorithm. \n",
    "        It takes as an input the current state s_, the next state n_s_\n",
    "        the action a_ used to move from s_ to n_s_ and the reward r_.\n",
    "        \n",
    "        Its goal is to learn a policy.\n",
    "        \"\"\"\n",
    "        pass\n",
    "\n",
    "    def save(self):\n",
    "        \"\"\" This function returns basic stats if applicable: the\n",
    "        loss and/or the model\"\"\"\n",
    "        pass\n",
    "\n",
    "    def load(self):\n",
    "        \"\"\" This function allows to restore a model\"\"\"\n",
    "        pass"
   ]
  },
  {
   "cell_type": "markdown",
   "metadata": {
    "colab_type": "text",
    "id": "y0gEGw38coNI"
   },
   "source": [
    "***\n",
    "__Question 1__:\n",
    "Explain the function act. Why is ```epsilon``` essential?"
   ]
  },
  {
   "cell_type": "markdown",
   "metadata": {
    "colab_type": "text",
    "id": "wsDOPZYlcoNL"
   },
   "source": [
    "The function act is what allows the agent to select an action according to an incoming state <code>s</code>, thanks to its policy <code>learned_act()</code>. Because we are using a DQN, which is based on the estimation of the Q-function and then using a greedy policy related to this Q function, if we don't inforce some kind of exploration, the agent will focus on always doing the same kind of behavior. Therefore, at each step, there is a probability <code>epsilon</code> that the agent takes a random action, allowing it to explore its environment.<br>\n",
    "In order to have a good policy, the optimal thing is to decrease the value of <code>epsilon</code> through time and end up with <code>epsilon=0</code> (this is not implemented yet)."
   ]
  },
  {
   "cell_type": "markdown",
   "metadata": {
    "colab_type": "text",
    "id": "9niuvFQ7coNO"
   },
   "source": [
    "***\n",
    "### The Game"
   ]
  },
  {
   "cell_type": "markdown",
   "metadata": {
    "colab_type": "text",
    "id": "9zGk9tuBcoNQ"
   },
   "source": [
    "The ```Agent``` and the ```Environment``` work in an interlaced way as in the following (take some time to understand this code as it is the core of the project)\n",
    "\n",
    "```python\n",
    "\n",
    "epoch = 300\n",
    "env = Environment()\n",
    "agent = Agent()\n",
    "\n",
    "\n",
    "# Number of won games\n",
    "score = 0\n",
    "loss = 0\n",
    "\n",
    "\n",
    "for e in range(epoch):\n",
    "    # At each epoch, we restart to a fresh game and get the initial state\n",
    "    state = env.reset()\n",
    "    # This assumes that the games will end\n",
    "    game_over = False\n",
    "\n",
    "    win = 0\n",
    "    lose = 0\n",
    "    \n",
    "    while not game_over:\n",
    "        # The agent performs an action\n",
    "        action = agent.act(state)\n",
    "\n",
    "        # Apply an action to the environment, get the next state, the reward\n",
    "        # and if the games end\n",
    "        prev_state = state\n",
    "        state, reward, game_over = env.act(action)\n",
    "\n",
    "        # Update the counters\n",
    "        if reward > 0:\n",
    "            win = win + reward\n",
    "        if reward < 0:\n",
    "            lose = lose -reward\n",
    "\n",
    "        # Apply the reinforcement strategy\n",
    "        loss = agent.reinforce(prev_state, state,  action, reward, game_over)\n",
    "\n",
    "    # Save as a mp4\n",
    "    if e % 10 == 0:\n",
    "        env.draw(e)\n",
    "\n",
    "    # Update stats\n",
    "    score += win-lose\n",
    "\n",
    "    print(\"Epoch {:03d}/{:03d} | Loss {:.4f} | Win/lose count {}/{} ({})\"\n",
    "          .format(e, epoch, loss, win, lose, win-lose))\n",
    "    agent.save()\n",
    "```"
   ]
  },
  {
   "cell_type": "markdown",
   "metadata": {
    "colab_type": "text",
    "id": "9lLTGKv0coNT"
   },
   "source": [
    "# The game, *eat cheese*"
   ]
  },
  {
   "cell_type": "markdown",
   "metadata": {
    "colab_type": "text",
    "id": "hbRh-zARcoNV"
   },
   "source": [
    "A rat runs on an island and tries to eat as much as possible. The island is subdivided into $N\\times N$ cells, in which there are cheese (+0.5) and poisonous cells (-1). The rat has a visibility of 2 cells (thus it can see $5^2$ cells). The rat is given a time $T$ to accumulate as much food as possible. It can perform 4 actions: going up, down, left, right. \n",
    "\n",
    "The goal is to code an agent to solve this task that will learn by trial and error. We propose the following environment:"
   ]
  },
  {
   "cell_type": "code",
   "execution_count": 5,
   "metadata": {
    "colab": {},
    "colab_type": "code",
    "id": "jK_yU-iscoNX"
   },
   "outputs": [],
   "source": [
    "class Environment(object):\n",
    "    def __init__(self, grid_size=10, max_time=500, temperature=0.1):\n",
    "        grid_size = grid_size+4\n",
    "        self.grid_size = grid_size\n",
    "        self.max_time = max_time\n",
    "        self.temperature = temperature\n",
    "\n",
    "        #board on which one plays\n",
    "        self.board = np.zeros((grid_size,grid_size)) # this is where the reward is stored\n",
    "        self.position = np.zeros((grid_size,grid_size)) # useful for the state\n",
    "\n",
    "        # coordinate of the rat\n",
    "        self.x = 0\n",
    "        self.y = 1\n",
    "\n",
    "        # self time\n",
    "        self.t = 0\n",
    "\n",
    "        self.scale=16\n",
    "\n",
    "        self.to_draw = np.zeros((max_time+2, grid_size*self.scale, grid_size*self.scale, 3))\n",
    "\n",
    "\n",
    "    def draw(self,e):\n",
    "        skvideo.io.vwrite(str(e) + '.mp4', self.to_draw)\n",
    "\n",
    "    def get_frame(self,t):\n",
    "        b = np.zeros((self.grid_size,self.grid_size,3))+128\n",
    "        b[self.board>0,0] = 256 # Cheese is red\n",
    "        b[self.board < 0, 2] = 256 # Poison is blue\n",
    "        b[self.x,self.y,:] = 256\n",
    "        b[-2:,:,:]=0\n",
    "        b[:,-2:,:]=0\n",
    "        b[:2,:,:]=0\n",
    "        b[:,:2,:]=0\n",
    "        \n",
    "        b =  cv2.resize(b, None, fx=self.scale, fy=self.scale, interpolation=cv2.INTER_NEAREST)\n",
    "\n",
    "        self.to_draw[t,:,:,:]=b\n",
    "\n",
    "\n",
    "    def act(self, action):\n",
    "        \"\"\"This function returns the new state, reward and decides if the\n",
    "        game ends.\"\"\"\n",
    "\n",
    "        self.get_frame(int(self.t))\n",
    "\n",
    "        self.position = np.zeros((self.grid_size, self.grid_size))\n",
    "\n",
    "        self.position[0:2,:]= -1\n",
    "        self.position[:,0:2] = -1\n",
    "        self.position[-2:, :] = -1\n",
    "        #self.position[-2:, :] = -1\n",
    "        self.position[:, -2:] = -1\n",
    "\n",
    "        self.position[self.x, self.y] = 1\n",
    "        if action == 0:\n",
    "            if self.x == self.grid_size-3:\n",
    "                self.x = self.x-1\n",
    "            else:\n",
    "                self.x = self.x + 1\n",
    "        elif action == 1:\n",
    "            if self.x == 2:\n",
    "                self.x = self.x+1\n",
    "            else:\n",
    "                self.x = self.x-1\n",
    "        elif action == 2:\n",
    "            if self.y == self.grid_size - 3:\n",
    "                self.y = self.y - 1\n",
    "            else:\n",
    "                self.y = self.y + 1\n",
    "        elif action == 3:\n",
    "            if self.y == 2:\n",
    "                self.y = self.y + 1\n",
    "            else:\n",
    "                self.y = self.y - 1\n",
    "        else:\n",
    "            RuntimeError('Error: action not recognized')\n",
    "\n",
    "        self.t = self.t + 1\n",
    "        reward = self.board[self.x, self.y]\n",
    "        self.board[self.x, self.y] = 0\n",
    "        game_over = self.t > self.max_time\n",
    "        state = np.concatenate((self.board.reshape(self.grid_size, self.grid_size,1),\n",
    "                        self.position.reshape(self.grid_size, self.grid_size,1)),axis=2)\n",
    "        state = state[self.x-2:self.x+3,self.y-2:self.y+3,:]\n",
    "\n",
    "        return state, reward, game_over\n",
    "\n",
    "    def reset(self):\n",
    "        \"\"\"This function resets the game and returns the initial state\"\"\"\n",
    "\n",
    "        self.x = np.random.randint(3, self.grid_size-3, size=1)[0]\n",
    "        self.y = np.random.randint(3, self.grid_size-3, size=1)[0]\n",
    "\n",
    "\n",
    "        bonus = 0.5*np.random.binomial(1,self.temperature,size=self.grid_size**2)\n",
    "        bonus = bonus.reshape(self.grid_size,self.grid_size)\n",
    "\n",
    "        malus = -1.0*np.random.binomial(1,self.temperature,size=self.grid_size**2)\n",
    "        malus = malus.reshape(self.grid_size, self.grid_size)\n",
    "\n",
    "        self.to_draw = np.zeros((self.max_time+2, self.grid_size*self.scale, self.grid_size*self.scale, 3))\n",
    "\n",
    "\n",
    "        malus[bonus>0]=0\n",
    "\n",
    "        self.board = bonus + malus\n",
    "\n",
    "        self.position = np.zeros((self.grid_size, self.grid_size))\n",
    "        self.position[0:2,:]= -1\n",
    "        self.position[:,0:2] = -1\n",
    "        self.position[-2:, :] = -1\n",
    "        #self.position[-2:, :] = -1\n",
    "        self.position[:, -2:] = -1\n",
    "        self.board[self.x,self.y] = 0\n",
    "        self.t = 0\n",
    "\n",
    "        state = np.concatenate((\n",
    "                               self.board.reshape(self.grid_size, self.grid_size,1),\n",
    "                        self.position.reshape(self.grid_size, self.grid_size,1)),axis=2)\n",
    "\n",
    "        state = state[self.x - 2:self.x + 3, self.y - 2:self.y + 3, :]\n",
    "        return state"
   ]
  },
  {
   "cell_type": "markdown",
   "metadata": {
    "colab_type": "text",
    "id": "Ch3TcXFbcoNe"
   },
   "source": [
    "The following elements are important because they correspond to the hyper parameters for this project:"
   ]
  },
  {
   "cell_type": "code",
   "execution_count": 6,
   "metadata": {
    "colab": {},
    "colab_type": "code",
    "id": "xZioq7A5coNh"
   },
   "outputs": [],
   "source": [
    "# parameters\n",
    "size = 13 # size of the grid environment\n",
    "T=200 # max time that the mouse has to live\n",
    "temperature = 0.3 # regulating the flow of cheese/poison in the environment\n",
    "epochs_train = 100 # set small when debugging\n",
    "epochs_test = 100 # set small when debugging\n",
    "\n",
    "# display videos\n",
    "def display_videos(name):\n",
    "    video = io.open(name, 'r+b').read()\n",
    "    encoded = base64.b64encode(video)\n",
    "    return '''<video alt=\"test\" controls>\n",
    "                <source src=\"data:video/mp4;base64,{0}\" type=\"video/mp4\" />\n",
    "             </video>'''.format(encoded.decode('ascii'))"
   ]
  },
  {
   "cell_type": "markdown",
   "metadata": {
    "colab_type": "text",
    "id": "DaupmJ-4coNo"
   },
   "source": [
    "__Question 2__ Explain the use of the arrays ```position``` and ```board```."
   ]
  },
  {
   "cell_type": "markdown",
   "metadata": {
    "colab_type": "text",
    "id": "SoP032lwcoNq"
   },
   "source": [
    "The <code>position</code> array is used to determine the state it is in, a.k.a the 25 cells around it that it sees. This state is, of course, primordial to know for our reinforcement learning problem.<br> <br>\n",
    "The <code>board</code> array stores the rewards that are layed out on the board. To build it, we first generate two random arrays: <code>bonus</code> and <code>malus</code>. Both of these arrays are of the size of the grid and are generated by two bernouilli laws (on each cell of the grid), $0.5*B(temperature)$ for <code>bonus</code> and $-1*B(temperature)$ for <code>malus</code> (where $B(p)$ is a bernouilli law of probability of success p).<br>\n",
    "Finally we assemble these two arrays into one by saying that if a cell has both 0.5 and -1 values, it keeps only the 0.5 bonus value."
   ]
  },
  {
   "cell_type": "markdown",
   "metadata": {
    "colab_type": "text",
    "id": "ED3t5LyAcoNs"
   },
   "source": [
    "## Random Agent"
   ]
  },
  {
   "cell_type": "markdown",
   "metadata": {
    "colab_type": "text",
    "id": "wo1xQ3ZhcoNu"
   },
   "source": [
    "***\n",
    "__Question 3__ Implement a random Agent (only ```learned_act``` needs to be implemented):"
   ]
  },
  {
   "cell_type": "code",
   "execution_count": 7,
   "metadata": {
    "colab": {},
    "colab_type": "code",
    "id": "w202WN4-coNv"
   },
   "outputs": [],
   "source": [
    "class RandomAgent(Agent):\n",
    "    def __init__(self):\n",
    "        super(RandomAgent, self).__init__()\n",
    "        pass\n",
    "\n",
    "    def learned_act(self, s):\n",
    "        action = np.random.randint(self.n_action)\n",
    "        return action"
   ]
  },
  {
   "cell_type": "markdown",
   "metadata": {
    "colab_type": "text",
    "id": "F-Tfvcb6coN2"
   },
   "source": [
    "***\n",
    "***\n",
    "__Question 4__ Visualize the game moves. You need to fill in the following function for the evaluation:"
   ]
  },
  {
   "cell_type": "code",
   "execution_count": 8,
   "metadata": {
    "colab": {},
    "colab_type": "code",
    "id": "EyuwU3S6coN4"
   },
   "outputs": [],
   "source": [
    "def test(agent,env,epochs,prefix='', display_score=True):\n",
    "\n",
    "    # Number of won games\n",
    "    score = 0\n",
    "\n",
    "    for e in range(epochs):\n",
    "        # Let's use the code at the beginning, under section \"the game\"\n",
    "\n",
    "        # At each epoch, we restart to a fresh game and get the initial state\n",
    "        state = env.reset()\n",
    "        # print(state.shape) \n",
    "        # state is of shape (5,5,2), and in general NxNx2\n",
    "        # This assumes that the games will end\n",
    "        game_over = False\n",
    "\n",
    "        win = 0\n",
    "        lose = 0\n",
    "\n",
    "        while not game_over:\n",
    "            # The agent performs an action\n",
    "            action = agent.act(state, train=True)\n",
    "\n",
    "            # Apply an action to the environment, get the next state, the reward\n",
    "            # and if the games end\n",
    "            prev_state = state\n",
    "            state, reward, game_over = env.act(action)\n",
    "\n",
    "            # Update the counters\n",
    "            if reward > 0:\n",
    "                win = win + reward\n",
    "            if reward < 0:\n",
    "                lose = lose -reward\n",
    "\n",
    "        # Save as a mp4\n",
    "        env.draw(prefix+str(e+1))\n",
    "\n",
    "        # Update stats\n",
    "        score = score + win-lose\n",
    "        \n",
    "        if display_score:\n",
    "            print(\"Epoch: {}, win/lose count {}/{}. Average score ({})\"\n",
    "            .format(e+1,win, lose, score/(1+e)))\n",
    "\n",
    "    print('Final score: '+str(score/epochs))"
   ]
  },
  {
   "cell_type": "code",
   "execution_count": 9,
   "metadata": {
    "colab": {
     "base_uri": "https://localhost:8080/",
     "height": 480
    },
    "colab_type": "code",
    "id": "AI1tgJ4EcoN-",
    "outputId": "eb0c91bc-e0b3-4e76-ea28-0600ac3f17bd"
   },
   "outputs": [
    {
     "name": "stdout",
     "output_type": "stream",
     "text": [
      "Epoch: 1, win/lose count 7.5/9.0. Average score (-1.5)\n",
      "Epoch: 2, win/lose count 9.5/14.0. Average score (-3.0)\n",
      "Epoch: 3, win/lose count 12.0/18.0. Average score (-4.0)\n",
      "Epoch: 4, win/lose count 11.5/12.0. Average score (-3.125)\n",
      "Epoch: 5, win/lose count 7.5/9.0. Average score (-2.8)\n",
      "Epoch: 6, win/lose count 3.5/15.0. Average score (-4.25)\n",
      "Epoch: 7, win/lose count 7.0/16.0. Average score (-4.928571428571429)\n",
      "Epoch: 8, win/lose count 11.5/12.0. Average score (-4.375)\n",
      "Epoch: 9, win/lose count 3.5/12.0. Average score (-4.833333333333333)\n",
      "Epoch: 10, win/lose count 10.5/22.0. Average score (-5.5)\n",
      "Final score: -5.5\n"
     ]
    },
    {
     "data": {
      "text/html": [
       "<video alt=\"test\" controls>\n",
       "                <source src=\"data:video/mp4;base64,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\" type=\"video/mp4\" />\n",
       "             </video>"
      ],
      "text/plain": [
       "<IPython.core.display.HTML object>"
      ]
     },
     "execution_count": 9,
     "metadata": {},
     "output_type": "execute_result"
    }
   ],
   "source": [
    "# Initialize the game\n",
    "env = Environment(grid_size=size, max_time=T,temperature=temperature)\n",
    "\n",
    "# Initialize the agent!\n",
    "agent = RandomAgent()\n",
    "\n",
    "test(agent,env,10,prefix='random')\n",
    "HTML(display_videos('random0.mp4'))"
   ]
  },
  {
   "cell_type": "code",
   "execution_count": 10,
   "metadata": {},
   "outputs": [
    {
     "name": "stdout",
     "output_type": "stream",
     "text": [
      "Epoch: 1, win/lose count 19.0/7.0. Average score (12.0)\n",
      "Epoch: 2, win/lose count 18.5/11.0. Average score (9.75)\n",
      "Epoch: 3, win/lose count 16.0/12.0. Average score (7.833333333333333)\n",
      "Epoch: 4, win/lose count 31.0/12.0. Average score (10.625)\n",
      "Epoch: 5, win/lose count 33.0/6.0. Average score (13.9)\n",
      "Epoch: 6, win/lose count 31.0/6.0. Average score (15.75)\n",
      "Epoch: 7, win/lose count 27.0/20.0. Average score (14.5)\n",
      "Epoch: 8, win/lose count 31.0/12.0. Average score (15.0625)\n",
      "Epoch: 9, win/lose count 22.5/17.0. Average score (14.0)\n",
      "Epoch: 10, win/lose count 28.0/10.0. Average score (14.4)\n",
      "Final score: 14.4\n"
     ]
    },
    {
     "data": {
      "text/html": [
       "<video alt=\"test\" controls>\n",
       "                <source src=\"data:video/mp4;base64,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\" type=\"video/mp4\" />\n",
       "             </video>"
      ],
      "text/plain": [
       "<IPython.core.display.HTML object>"
      ]
     },
     "execution_count": 10,
     "metadata": {},
     "output_type": "execute_result"
    }
   ],
   "source": [
    "# High temperature\n",
    "temperature = 0.8\n",
    "# Initialize the game\n",
    "env = Environment(grid_size=size, max_time=T,temperature=temperature)\n",
    "\n",
    "# Initialize the agent!\n",
    "agent = RandomAgent()\n",
    "\n",
    "test(agent,env,10,prefix='random')\n",
    "HTML(display_videos('random0.mp4'))"
   ]
  },
  {
   "cell_type": "code",
   "execution_count": 11,
   "metadata": {},
   "outputs": [
    {
     "name": "stdout",
     "output_type": "stream",
     "text": [
      "Epoch: 1, win/lose count 3.5/4.0. Average score (-0.5)\n",
      "Epoch: 2, win/lose count 6.5/4.0. Average score (1.0)\n",
      "Epoch: 3, win/lose count 3.5/5.0. Average score (0.16666666666666666)\n",
      "Epoch: 4, win/lose count 3.0/7.0. Average score (-0.875)\n",
      "Epoch: 5, win/lose count 4.0/6.0. Average score (-1.1)\n",
      "Epoch: 6, win/lose count 1.0/4.0. Average score (-1.4166666666666667)\n",
      "Epoch: 7, win/lose count 6.5/3.0. Average score (-0.7142857142857143)\n",
      "Epoch: 8, win/lose count 2.5/3.0. Average score (-0.6875)\n",
      "Epoch: 9, win/lose count 5.5/5.0. Average score (-0.5555555555555556)\n",
      "Epoch: 10, win/lose count 2.5/7.0. Average score (-0.95)\n",
      "Final score: -0.95\n"
     ]
    },
    {
     "data": {
      "text/html": [
       "<video alt=\"test\" controls>\n",
       "                <source src=\"data:video/mp4;base64,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\" type=\"video/mp4\" />\n",
       "             </video>"
      ],
      "text/plain": [
       "<IPython.core.display.HTML object>"
      ]
     },
     "execution_count": 11,
     "metadata": {},
     "output_type": "execute_result"
    }
   ],
   "source": [
    "# Low temperature\n",
    "temperature = 0.1\n",
    "# Initialize the game\n",
    "env = Environment(grid_size=size, max_time=T,temperature=temperature)\n",
    "\n",
    "# Initialize the agent!\n",
    "agent = RandomAgent()\n",
    "\n",
    "test(agent,env,10,prefix='random')\n",
    "HTML(display_videos('random0.mp4'))"
   ]
  },
  {
   "cell_type": "markdown",
   "metadata": {},
   "source": [
    "As expected, a random behavior."
   ]
  },
  {
   "cell_type": "markdown",
   "metadata": {},
   "source": [
    "Warning: as explained before in Question 2, the action of temperature is peculiar. If the temperature is high, there is an increased probability that in each cell there is either a nice cheese or a dirty poison but since we have the condition <code>malus[bonus>0]=0</code> in the code, when the temperature rises, there is more cheese on the board and less poison. When the temperature decreases, the simply is less happening on the board. "
   ]
  },
  {
   "cell_type": "markdown",
   "metadata": {},
   "source": [
    "A low temperature will be good to test the exploration ability of the mouse."
   ]
  },
  {
   "cell_type": "markdown",
   "metadata": {
    "colab_type": "text",
    "id": "eVpXzE7ccoOG"
   },
   "source": [
    "***\n",
    "## DQN"
   ]
  },
  {
   "cell_type": "markdown",
   "metadata": {
    "colab_type": "text",
    "id": "iLl5eFVkcoOI"
   },
   "source": [
    "Let us assume here that $T=\\infty$.\n",
    "\n",
    "***\n",
    "__Question 5__ 1°) Let $\\pi$ be a policy, show that:\n",
    "\n",
    "\\begin{equation*}\n",
    "Q^{\\pi}(s,a)=E_{(s',a')\\sim p(.|s,a)}[r(s,a)+\\gamma Q^{\\pi}(s',a')]\n",
    "\\end{equation*}\n",
    "\n",
    "2°) Then, show that for the optimal policy $\\pi^*$ (we assume its existence), the following holds: \n",
    "\n",
    "\\begin{equation*}\n",
    "Q^{*}(s,a)=E_{s'\\sim \\pi^*(.|s,a)}[r(s,a)+\\gamma\\max_{a'}Q^{*}(s',a')].\n",
    "\\end{equation*}\n",
    "3°) Finally, deduce that a plausible objective is:\n",
    "\n",
    "\\begin{equation*}\n",
    "\\mathcal{L}(\\theta)=E_{s' \\sim \\pi^*(.|s,a)}\\Vert r+\\gamma\\max\\max_{a'}Q(s',a',\\theta)-Q(s,a,\\theta)\\Vert^{2}.\n",
    "\\end{equation*}\n",
    "\n",
    "\n"
   ]
  },
  {
   "cell_type": "markdown",
   "metadata": {
    "colab_type": "text",
    "id": "_IOtalw-coOJ"
   },
   "source": [
    "__Question 5: answer__"
   ]
  },
  {
   "cell_type": "markdown",
   "metadata": {},
   "source": [
    "1°) Since $T=\\infty$, $Q^{\\pi}(s,a) = E_{p^{\\pi}}[\\sum_{t=0}^{\\infty}\\gamma^{t}r_{t}|s_{0}=s, a_{0}=a]$, where $r_{t}=r(s_{t},a_{t})$ for simplicity.Therefore:\n",
    "\n",
    "\\begin{equation*}\n",
    "Q^{\\pi}(s,a) = r(s,a) + \\gamma E_{p^{\\pi}}[\\sum_{t=0}^{\\infty}\\gamma^{t}r_{t+1}|s_{0}=s, a_{0}=a]\n",
    "\\end{equation*}\n",
    "\n",
    "Let's use $(s_{1},a_{1})$ as being a complete event system:\n",
    "\\begin{equation*}\n",
    "Q^{\\pi}(s,a) = r(s,a) +\\sum_{s',a'}p(s_{1}, a_{1}=s', a'|s_{0}, a_{0}=s, a) \\gamma E_{p^{\\pi}}[\\sum_{t=0}^{\\infty}\\gamma^{t}r_{t+1}|s_{0}=s, a_{0}=a,s_{1}=s', a_{1}=a']\n",
    "\\end{equation*}\n",
    "\n",
    "Let's use the Markov property to get rid of $s_{0}$ and $a_{0}$ in the expectation:\n",
    "\\begin{equation*}\n",
    "Q^{\\pi}(s,a) = r(s,a) +\\sum_{s',a'}p(s_{1}, a_{1}=s', a'|s_{0}, a_{0}=s, a) \\gamma E_{p^{\\pi}}[\\sum_{t=0}^{\\infty}\\gamma^{t}r_{t+1}|s_{1}=s', a_{1}=a'] \\\\\n",
    "= r(s,a) +\\sum_{s',a'}p(s_{1}, a_{1}=s', a'|s_{0}, a_{0}=s, a) \\gamma Q^{\\pi}(s',a') \\\\\n",
    "= E_{(s',a')\\sim p(.|s,a)}[r(s,a) + \\gamma Q^{\\pi}(s',a')]\n",
    "\\end{equation*}"
   ]
  },
  {
   "cell_type": "markdown",
   "metadata": {},
   "source": [
    "2°) If we take the max of the expression above:\n",
    "\n",
    "\\begin{equation*}\n",
    "    Q^{*}(s,a) = max_{\\pi} E_{(s',a')\\sim p(.|s,a)}[r(s,a) + \\gamma Q^{\\pi}(s',a')] \\\\\n",
    "    = r(s,a) +max_{\\pi}\\sum_{s',a'}p(s_{1}, a_{1}=s', a'|s_{0}, a_{0}=s, a) \\gamma Q^{\\pi}(s',a')\n",
    "\\end{equation*}\n",
    "\n",
    "And we know that $p(s_{1}, a_{1}=s', a'|s_{0}, a_{0}=s, a)=p(s_{1}=s'|s_{0}, a_{0}=s, a)\\pi(a_{1}= a'|s_{1}=s')$, therefore:\n",
    "\n",
    "\\begin{equation*}\n",
    "    Q^{*}(s,a) = max_{\\pi} E_{(s',a')\\sim p(.|s,a)}[r(s,a) + \\gamma Q^{\\pi}(s',a')] \\\\\n",
    "    = r(s,a) +max_{\\pi}\\sum_{s',a'}p(s_{1}=s'|s_{0}, a_{0}=s, a)\\pi(a_{1}= a'|s_{1}=s') \\gamma Q^{\\pi}(s',a') \\\\\n",
    "    = r(s,a) +\\gamma \\sum_{s'}p(s_{1}=s'|s_{0}, a_{0}=s, a)max_{\\pi}\\sum_{a'}\\pi(a_{1}= a'|s_{1}=s') Q^{\\pi}(s',a')\n",
    "\\end{equation*}\n",
    "\n",
    "Since $\\sum_{a'}\\pi(a_{1}= a'|s_{1}=s')=1$, we have: $\\sum_{a'}\\pi(a_{1}= a'|s_{1}=s') Q^{\\pi}(s',a') \\leqslant max_{a'}Q^{\\pi}(s',a')$. <br>Therefore:\n",
    "\n",
    "\\begin{equation*}\n",
    "    Q^{*}(s,a) = r(s,a) +\\gamma \\sum_{s'}p(s_{1}=s'|s_{0}, a_{0}=s, a)max_{\\pi} max_{a'} Q^{\\pi}(s',a') \\\\\n",
    "    = r(s,a) +\\gamma \\sum_{s'}p(s_{1}=s'|s_{0}, a_{0}=s, a) max_{a'} Q^{*}(s',a')\n",
    "\\end{equation*}\n",
    "\n",
    "Thus:\n",
    "\\begin{equation*}\n",
    "Q^{*}(s,a)=E_{s'\\sim \\pi^*(.|s,a)}[r(s,a)+\\gamma\\max_{a'}Q^{*}(s',a')].\n",
    "\\end{equation*}"
   ]
  },
  {
   "cell_type": "markdown",
   "metadata": {},
   "source": [
    "3°) Finally the loss:\n",
    "\\begin{equation*}\n",
    "\\mathcal{L}(\\theta)=E_{s' \\sim \\pi^*(.|s,a)}\\Vert r+\\gamma\\max\\max_{a'}Q(s',a',\\theta)-Q(s,a,\\theta)\\Vert^{2}.\n",
    "\\end{equation*}\n",
    "is coherent with the equation in 2°)."
   ]
  },
  {
   "cell_type": "markdown",
   "metadata": {
    "colab_type": "text",
    "id": "Sl0ivzBncoOL"
   },
   "source": [
    "***\n",
    "The DQN-learning algorithm relies on these derivations to train the parameters $\\theta$ of a Deep Neural Network:\n",
    "\n",
    "1. At the state $s_t$, select the action $a_t$ with best reward using $Q_t$ and store the results;\n",
    "\n",
    "2. Obtain the new state $s_{t+1}$ from the environment $p$;\n",
    "\n",
    "3. Store $(s_t,a_t,s_{t+1})$;\n",
    "\n",
    "4. Obtain $Q_{t+1}$ by minimizing  $\\mathcal{L}$ from a recovered batch from the previously stored results.\n",
    "\n",
    "***\n",
    "__Question 6__ Implement the class ```Memory``` that stores moves (in a replay buffer) via ```remember``` and provides a ```random_access``` to these. Specify a maximum memory size to avoid side effects. You can for example use a ```list()``` and set by default ```max_memory=100```."
   ]
  },
  {
   "cell_type": "code",
   "execution_count": 9,
   "metadata": {
    "colab": {},
    "colab_type": "code",
    "id": "8UVXa6t3coOM"
   },
   "outputs": [],
   "source": [
    "class Memory(object):\n",
    "    def __init__(self, max_memory=100):\n",
    "        self.max_memory = max_memory\n",
    "        self.memory = list()\n",
    "\n",
    "    def remember(self, m):\n",
    "        if len(self.memory) < self.max_memory:\n",
    "            self.memory.append(m)\n",
    "        else:\n",
    "            # if the max_memory has been achieved, remove the oldest element \n",
    "            self.memory.pop(0)\n",
    "            self.memory.append(m)\n",
    "\n",
    "    def random_access(self):\n",
    "        if len(self.memory) == 0:\n",
    "            # if memory has no element, we return None\n",
    "            return None\n",
    "        else :\n",
    "            i = np.random.randint(len(self.memory))\n",
    "            m = self.memory[i]\n",
    "            return m"
   ]
  },
  {
   "cell_type": "markdown",
   "metadata": {
    "colab_type": "text",
    "id": "9_mstfJTcoOT"
   },
   "source": [
    "***\n",
    "The pipeline we will use for training is given below:"
   ]
  },
  {
   "cell_type": "code",
   "execution_count": 10,
   "metadata": {
    "colab": {},
    "colab_type": "code",
    "id": "_CbFe5-VcoOU"
   },
   "outputs": [],
   "source": [
    "def train(agent,env,epochs,prefix='',display_loss=True):\n",
    "    # Number of won games\n",
    "    score = 0\n",
    "    loss = 0\n",
    "    \n",
    "    for e in range(epochs):\n",
    "        # At each epoch, we restart to a fresh game and get the initial state\n",
    "        state = env.reset()\n",
    "        # This assumes that the games will terminate\n",
    "        game_over = False\n",
    "\n",
    "        win = 0\n",
    "        lose = 0\n",
    "\n",
    "        while not game_over:\n",
    "            # The agent performs an action\n",
    "            action = agent.act(state)\n",
    "\n",
    "            # Apply an action to the environment, get the next state, the reward\n",
    "            # and if the games end\n",
    "            prev_state = state\n",
    "            state, reward, game_over = env.act(action)\n",
    "\n",
    "            # Update the counters\n",
    "            if reward > 0:\n",
    "                win = win + reward\n",
    "            if reward < 0:\n",
    "                lose = lose -reward\n",
    "\n",
    "            # Apply the reinforcement strategy\n",
    "            loss = agent.reinforce(prev_state, state,  action, reward, game_over)\n",
    "        \n",
    "        # Save as a mp4\n",
    "        if (e+1) % 10 == 0:\n",
    "            env.draw(prefix+str(e+1))\n",
    "            \n",
    "        if display_loss:\n",
    "            print(\"Epoch {:03d}/{:03d} | Loss {:.4f} | Win/lose count {}/{} ({})\"\n",
    "                  .format(e+1, epochs, loss, win, lose, win-lose))\n",
    "        agent.save(name_weights=prefix+'model.h5',name_model=prefix+'model.json')"
   ]
  },
  {
   "cell_type": "markdown",
   "metadata": {
    "colab_type": "text",
    "id": "tEKDMScfcoOc"
   },
   "source": [
    "***\n",
    "__Question 7__ Implement the DQN training algorithm using a cascade of fully connected layers. You can use different learning rate, batch size or memory size parameters. In particular, the loss might oscillate while the player will start to win the games. You have to find a good criterium."
   ]
  },
  {
   "cell_type": "code",
   "execution_count": 11,
   "metadata": {},
   "outputs": [],
   "source": [
    "from keras.layers import Flatten"
   ]
  },
  {
   "cell_type": "code",
   "execution_count": 12,
   "metadata": {
    "colab": {},
    "colab_type": "code",
    "id": "Xld1iS0acoOe"
   },
   "outputs": [],
   "source": [
    "class DQN(Agent):\n",
    "    def __init__(self, grid_size,  epsilon = 0.1, memory_size=100, batch_size = 16,n_state=2):\n",
    "        super(DQN, self).__init__(epsilon = epsilon)\n",
    "\n",
    "        # Discount for Q learning\n",
    "        self.discount = 0.99\n",
    "        \n",
    "        self.grid_size = grid_size\n",
    "        \n",
    "        # number of state\n",
    "        self.n_state = n_state\n",
    "\n",
    "        # Memory\n",
    "        self.memory = Memory(memory_size)\n",
    "        \n",
    "        # Batch size when learning\n",
    "        self.batch_size = batch_size\n",
    "\n",
    "    def learned_act(self, s):\n",
    "        # We first estimate the Q-value thanks to our model\n",
    "        q = self.model.predict(s.reshape(1,*s.shape))\n",
    "        action = np.argmax(q)\n",
    "        return action\n",
    "\n",
    "    def reinforce(self, s_, n_s_, a_, r_, game_over_):\n",
    "        # Two steps: first memorize the states, second learn from the pool\n",
    "        # In remember, we put (s,s',a,r,game_over)\n",
    "        self.memory.remember([s_, n_s_, a_, r_, game_over_])\n",
    "        \n",
    "        input_states = np.zeros((self.batch_size,5,5,self.n_state))\n",
    "        target_q = np.zeros((self.batch_size, 4))\n",
    "        \n",
    "        # We construct the target for the Q-function\n",
    "        for i in range(self.batch_size):\n",
    "            m = self.memory.random_access()\n",
    "            \n",
    "            state,next_state,action,reward,game_over = m\n",
    "            \n",
    "            input_states[i] = state\n",
    "            target_q[i] = self.model.predict(state.reshape(1,*state.shape))\n",
    "            if game_over_:\n",
    "                target_q[i, action] = reward\n",
    "            else:\n",
    "                ns = next_state.reshape(1,*next_state.shape)\n",
    "                target_q[i, action] = reward + self.discount*np.max(self.model.predict(ns)) \n",
    "        # HINT: Clip the target to avoid exploiding gradients.. -- clipping is a bit tighter\n",
    "        target_q = np.clip(target_q, -3, 3)\n",
    "\n",
    "        l = self.model.train_on_batch(input_states, target_q)\n",
    "        return l\n",
    "\n",
    "    def save(self,name_weights='model.h5',name_model='model.json'):\n",
    "        self.model.save_weights(name_weights, overwrite=True)\n",
    "        with open(name_model, \"w\") as outfile:\n",
    "            json.dump(self.model.to_json(), outfile)\n",
    "            \n",
    "    def load(self,name_weights='model.h5',name_model='model.json'):\n",
    "        with open(name_model, \"r\") as jfile:\n",
    "            model = model_from_json(json.load(jfile))\n",
    "        model.load_weights(name_weights)\n",
    "        model.compile(\"sgd\", \"mse\")\n",
    "        self.model = model\n",
    "\n",
    "            \n",
    "class DQN_FC1(DQN):\n",
    "    def __init__(self, *args, lr=0.1,**kwargs):\n",
    "        super(DQN_FC1, self).__init__( *args,**kwargs)\n",
    "        \n",
    "        # NN Model\n",
    "        model = Sequential([Flatten(input_shape=(5, 5, self.n_state)),\n",
    "            Dense(20, activation=\"relu\"),\n",
    "            Dense(4)])\n",
    "        \n",
    "        model.compile(sgd(lr=lr, decay=1e-4, momentum=0.0), \"mse\")\n",
    "        self.model = model\n",
    "        "
   ]
  },
  {
   "cell_type": "markdown",
   "metadata": {},
   "source": [
    "Recap: training is fixed at 100 epochs, test fixed at 100 epochs. I will use the test function while testing different parameters to see how they influence the performance."
   ]
  },
  {
   "cell_type": "code",
   "execution_count": 77,
   "metadata": {},
   "outputs": [],
   "source": [
    "env = Environment(grid_size=size, max_time=T,temperature=0.3)"
   ]
  },
  {
   "cell_type": "code",
   "execution_count": 17,
   "metadata": {
    "scrolled": true
   },
   "outputs": [
    {
     "name": "stdout",
     "output_type": "stream",
     "text": [
      "Training the mouse...\n",
      "Epoch 001/100 | Loss 0.2665 | Win/lose count 8.5/6.0 (2.5)\n",
      "Epoch 002/100 | Loss 0.6119 | Win/lose count 6.0/2.0 (4.0)\n",
      "Epoch 003/100 | Loss 1.2686 | Win/lose count 1.0/1.0 (0.0)\n",
      "Epoch 004/100 | Loss 1.8114 | Win/lose count 4.5/5.0 (-0.5)\n",
      "Epoch 005/100 | Loss 1.8151 | Win/lose count 2.5/4.0 (-1.5)\n",
      "Epoch 006/100 | Loss 1.9076 | Win/lose count 6.0/3.0 (3.0)\n",
      "Epoch 007/100 | Loss 1.8440 | Win/lose count 8.0/2.0 (6.0)\n",
      "Epoch 008/100 | Loss 1.7440 | Win/lose count 6.0/3.0 (3.0)\n",
      "Epoch 009/100 | Loss 1.8758 | Win/lose count 5.0/3.0 (2.0)\n",
      "Epoch 010/100 | Loss 1.9324 | Win/lose count 2.0/1.0 (1.0)\n",
      "Epoch 011/100 | Loss 2.0597 | Win/lose count 3.0/6.0 (-3.0)\n",
      "Epoch 012/100 | Loss 1.8506 | Win/lose count 7.0/2.0 (5.0)\n",
      "Epoch 013/100 | Loss 1.8765 | Win/lose count 7.0/5.0 (2.0)\n",
      "Epoch 014/100 | Loss 1.8679 | Win/lose count 5.5/4.0 (1.5)\n",
      "Epoch 015/100 | Loss 1.8979 | Win/lose count 4.5/0 (4.5)\n",
      "Epoch 016/100 | Loss 1.7811 | Win/lose count 3.0/3.0 (0.0)\n",
      "Epoch 017/100 | Loss 1.8193 | Win/lose count 8.5/4.0 (4.5)\n",
      "Epoch 018/100 | Loss 1.8503 | Win/lose count 5.5/4.0 (1.5)\n",
      "Epoch 019/100 | Loss 1.7338 | Win/lose count 6.0/4.0 (2.0)\n",
      "Epoch 020/100 | Loss 1.8263 | Win/lose count 3.0/3.0 (0.0)\n",
      "Epoch 021/100 | Loss 1.7096 | Win/lose count 11.0/3.0 (8.0)\n",
      "Epoch 022/100 | Loss 1.7663 | Win/lose count 6.0/4.0 (2.0)\n",
      "Epoch 023/100 | Loss 1.8751 | Win/lose count 4.5/3.0 (1.5)\n",
      "Epoch 024/100 | Loss 1.7405 | Win/lose count 8.0/4.0 (4.0)\n",
      "Epoch 025/100 | Loss 1.6138 | Win/lose count 8.5/2.0 (6.5)\n",
      "Epoch 026/100 | Loss 1.7262 | Win/lose count 12.0/1.0 (11.0)\n",
      "Epoch 027/100 | Loss 1.6942 | Win/lose count 9.0/2.0 (7.0)\n",
      "Epoch 028/100 | Loss 1.8066 | Win/lose count 10.0/2.0 (8.0)\n",
      "Epoch 029/100 | Loss 1.7856 | Win/lose count 8.0/3.0 (5.0)\n",
      "Epoch 030/100 | Loss 1.8161 | Win/lose count 13.0/1.0 (12.0)\n",
      "Epoch 031/100 | Loss 1.7296 | Win/lose count 12.5/3.0 (9.5)\n",
      "Epoch 032/100 | Loss 1.7677 | Win/lose count 3.5/1.0 (2.5)\n",
      "Epoch 033/100 | Loss 1.7695 | Win/lose count 9.0/0 (9.0)\n",
      "Epoch 034/100 | Loss 1.8220 | Win/lose count 15.0/2.0 (13.0)\n",
      "Epoch 035/100 | Loss 1.8095 | Win/lose count 10.0/2.0 (8.0)\n",
      "Epoch 036/100 | Loss 1.8469 | Win/lose count 8.0/3.0 (5.0)\n",
      "Epoch 037/100 | Loss 1.7900 | Win/lose count 8.5/2.0 (6.5)\n",
      "Epoch 038/100 | Loss 1.8225 | Win/lose count 3.0/4.0 (-1.0)\n",
      "Epoch 039/100 | Loss 1.7763 | Win/lose count 13.5/3.0 (10.5)\n",
      "Epoch 040/100 | Loss 1.8684 | Win/lose count 3.5/2.0 (1.5)\n",
      "Epoch 041/100 | Loss 1.7894 | Win/lose count 11.0/3.0 (8.0)\n",
      "Epoch 042/100 | Loss 1.8957 | Win/lose count 6.0/1.0 (5.0)\n",
      "Epoch 043/100 | Loss 1.8729 | Win/lose count 4.0/0 (4.0)\n",
      "Epoch 044/100 | Loss 1.8065 | Win/lose count 5.5/1.0 (4.5)\n",
      "Epoch 045/100 | Loss 1.8144 | Win/lose count 18.0/1.0 (17.0)\n",
      "Epoch 046/100 | Loss 1.8290 | Win/lose count 4.5/1.0 (3.5)\n",
      "Epoch 047/100 | Loss 1.6882 | Win/lose count 14.5/2.0 (12.5)\n",
      "Epoch 048/100 | Loss 1.7286 | Win/lose count 3.0/3.0 (0.0)\n",
      "Epoch 049/100 | Loss 1.7476 | Win/lose count 17.0/1.0 (16.0)\n",
      "Epoch 050/100 | Loss 1.7383 | Win/lose count 12.0/1.0 (11.0)\n",
      "Epoch 051/100 | Loss 1.8166 | Win/lose count 14.5/2.0 (12.5)\n",
      "Epoch 052/100 | Loss 1.8086 | Win/lose count 7.5/3.0 (4.5)\n",
      "Epoch 053/100 | Loss 1.8089 | Win/lose count 5.0/2.0 (3.0)\n",
      "Epoch 054/100 | Loss 1.8178 | Win/lose count 5.0/0 (5.0)\n",
      "Epoch 055/100 | Loss 1.8543 | Win/lose count 8.5/1.0 (7.5)\n",
      "Epoch 056/100 | Loss 1.7962 | Win/lose count 5.0/1.0 (4.0)\n",
      "Epoch 057/100 | Loss 1.8649 | Win/lose count 12.5/1.0 (11.5)\n",
      "Epoch 058/100 | Loss 1.8461 | Win/lose count 11.5/3.0 (8.5)\n",
      "Epoch 059/100 | Loss 1.8398 | Win/lose count 11.0/2.0 (9.0)\n",
      "Epoch 060/100 | Loss 1.8261 | Win/lose count 15.5/4.0 (11.5)\n",
      "Epoch 061/100 | Loss 1.8604 | Win/lose count 14.5/3.0 (11.5)\n",
      "Epoch 062/100 | Loss 1.7611 | Win/lose count 10.0/1.0 (9.0)\n",
      "Epoch 063/100 | Loss 1.8839 | Win/lose count 9.0/1.0 (8.0)\n",
      "Epoch 064/100 | Loss 1.7996 | Win/lose count 15.5/1.0 (14.5)\n",
      "Epoch 065/100 | Loss 1.7292 | Win/lose count 4.5/4.0 (0.5)\n",
      "Epoch 066/100 | Loss 1.7222 | Win/lose count 9.0/0 (9.0)\n",
      "Epoch 067/100 | Loss 1.7715 | Win/lose count 6.0/0 (6.0)\n",
      "Epoch 068/100 | Loss 1.7720 | Win/lose count 11.0/2.0 (9.0)\n",
      "Epoch 069/100 | Loss 1.7884 | Win/lose count 11.0/2.0 (9.0)\n",
      "Epoch 070/100 | Loss 1.7483 | Win/lose count 9.0/3.0 (6.0)\n",
      "Epoch 071/100 | Loss 1.6883 | Win/lose count 13.0/0 (13.0)\n",
      "Epoch 072/100 | Loss 1.7664 | Win/lose count 10.5/2.0 (8.5)\n",
      "Epoch 073/100 | Loss 1.8189 | Win/lose count 17.5/3.0 (14.5)\n",
      "Epoch 074/100 | Loss 1.7501 | Win/lose count 11.0/3.0 (8.0)\n",
      "Epoch 075/100 | Loss 1.7675 | Win/lose count 13.0/2.0 (11.0)\n",
      "Epoch 076/100 | Loss 1.7730 | Win/lose count 21.5/2.0 (19.5)\n",
      "Epoch 077/100 | Loss 1.7732 | Win/lose count 15.5/1.0 (14.5)\n",
      "Epoch 078/100 | Loss 1.8276 | Win/lose count 5.0/2.0 (3.0)\n",
      "Epoch 079/100 | Loss 1.8396 | Win/lose count 12.5/0 (12.5)\n",
      "Epoch 080/100 | Loss 1.8447 | Win/lose count 10.5/1.0 (9.5)\n",
      "Epoch 081/100 | Loss 1.8739 | Win/lose count 15.5/0 (15.5)\n",
      "Epoch 082/100 | Loss 1.7619 | Win/lose count 9.5/3.0 (6.5)\n",
      "Epoch 083/100 | Loss 1.7473 | Win/lose count 11.0/2.0 (9.0)\n",
      "Epoch 084/100 | Loss 1.7654 | Win/lose count 10.0/1.0 (9.0)\n",
      "Epoch 085/100 | Loss 1.7304 | Win/lose count 15.5/0 (15.5)\n",
      "Epoch 086/100 | Loss 1.7217 | Win/lose count 12.5/0 (12.5)\n",
      "Epoch 087/100 | Loss 1.7497 | Win/lose count 14.0/4.0 (10.0)\n",
      "Epoch 088/100 | Loss 1.7666 | Win/lose count 15.5/4.0 (11.5)\n",
      "Epoch 089/100 | Loss 1.7630 | Win/lose count 13.0/4.0 (9.0)\n",
      "Epoch 090/100 | Loss 1.8037 | Win/lose count 17.5/1.0 (16.5)\n",
      "Epoch 091/100 | Loss 1.7385 | Win/lose count 11.0/3.0 (8.0)\n",
      "Epoch 092/100 | Loss 1.7701 | Win/lose count 11.0/2.0 (9.0)\n",
      "Epoch 093/100 | Loss 1.7605 | Win/lose count 9.5/1.0 (8.5)\n",
      "Epoch 094/100 | Loss 1.8081 | Win/lose count 13.0/3.0 (10.0)\n",
      "Epoch 095/100 | Loss 1.8032 | Win/lose count 11.0/1.0 (10.0)\n",
      "Epoch 096/100 | Loss 1.7892 | Win/lose count 13.5/3.0 (10.5)\n",
      "Epoch 097/100 | Loss 1.8028 | Win/lose count 21.0/3.0 (18.0)\n",
      "Epoch 098/100 | Loss 1.7761 | Win/lose count 10.0/0 (10.0)\n",
      "Epoch 099/100 | Loss 1.8158 | Win/lose count 6.5/0 (6.5)\n",
      "Epoch 100/100 | Loss 1.7567 | Win/lose count 9.5/3.0 (6.5)\n",
      "...Done.\n",
      "Testing the mouse:\n",
      "Epoch: 1, win/lose count 2.5/1.0. Average score (1.5)\n",
      "Epoch: 2, win/lose count 11.5/3.0. Average score (5.0)\n",
      "Epoch: 3, win/lose count 14.0/0. Average score (8.0)\n",
      "Epoch: 4, win/lose count 13.5/4.0. Average score (8.375)\n",
      "Epoch: 5, win/lose count 6.0/1.0. Average score (7.7)\n",
      "Epoch: 6, win/lose count 11.0/2.0. Average score (7.916666666666667)\n",
      "Epoch: 7, win/lose count 12.5/4.0. Average score (8.0)\n",
      "Epoch: 8, win/lose count 12.5/3.0. Average score (8.1875)\n",
      "Epoch: 9, win/lose count 19.0/3.0. Average score (9.055555555555555)\n",
      "Epoch: 10, win/lose count 23.0/3.0. Average score (10.15)\n",
      "Epoch: 11, win/lose count 5.0/2.0. Average score (9.5)\n",
      "Epoch: 12, win/lose count 16.0/2.0. Average score (9.875)\n",
      "Epoch: 13, win/lose count 12.0/4.0. Average score (9.73076923076923)\n",
      "Epoch: 14, win/lose count 20.0/0. Average score (10.464285714285714)\n",
      "Epoch: 15, win/lose count 17.0/5.0. Average score (10.566666666666666)\n",
      "Epoch: 16, win/lose count 19.5/0. Average score (11.125)\n",
      "Epoch: 17, win/lose count 9.0/3.0. Average score (10.823529411764707)\n",
      "Epoch: 18, win/lose count 11.5/4.0. Average score (10.63888888888889)\n",
      "Epoch: 19, win/lose count 4.5/2.0. Average score (10.210526315789474)\n",
      "Epoch: 20, win/lose count 19.0/4.0. Average score (10.45)\n",
      "Epoch: 21, win/lose count 4.5/1.0. Average score (10.119047619047619)\n",
      "Epoch: 22, win/lose count 16.5/1.0. Average score (10.363636363636363)\n",
      "Epoch: 23, win/lose count 6.0/2.0. Average score (10.08695652173913)\n",
      "Epoch: 24, win/lose count 16.5/2.0. Average score (10.270833333333334)\n",
      "Epoch: 25, win/lose count 9.5/1.0. Average score (10.2)\n",
      "Epoch: 26, win/lose count 10.0/2.0. Average score (10.115384615384615)\n",
      "Epoch: 27, win/lose count 14.5/0. Average score (10.277777777777779)\n",
      "Epoch: 28, win/lose count 22.0/3.0. Average score (10.589285714285714)\n",
      "Epoch: 29, win/lose count 16.5/4.0. Average score (10.655172413793103)\n",
      "Epoch: 30, win/lose count 3.5/2.0. Average score (10.35)\n",
      "Epoch: 31, win/lose count 9.0/1.0. Average score (10.274193548387096)\n",
      "Epoch: 32, win/lose count 18.0/4.0. Average score (10.390625)\n",
      "Epoch: 33, win/lose count 7.0/3.0. Average score (10.196969696969697)\n",
      "Epoch: 34, win/lose count 16.5/2.0. Average score (10.323529411764707)\n",
      "Epoch: 35, win/lose count 15.5/4.0. Average score (10.357142857142858)\n"
     ]
    },
    {
     "name": "stdout",
     "output_type": "stream",
     "text": [
      "Epoch: 36, win/lose count 9.0/1.0. Average score (10.291666666666666)\n",
      "Epoch: 37, win/lose count 13.0/2.0. Average score (10.31081081081081)\n",
      "Epoch: 38, win/lose count 7.5/0. Average score (10.236842105263158)\n",
      "Epoch: 39, win/lose count 10.5/2.0. Average score (10.192307692307692)\n",
      "Epoch: 40, win/lose count 16.5/1.0. Average score (10.325)\n",
      "Epoch: 41, win/lose count 18.0/1.0. Average score (10.487804878048781)\n",
      "Epoch: 42, win/lose count 11.5/0. Average score (10.511904761904763)\n",
      "Epoch: 43, win/lose count 13.0/3.0. Average score (10.5)\n",
      "Epoch: 44, win/lose count 6.0/0. Average score (10.397727272727273)\n",
      "Epoch: 45, win/lose count 14.5/0. Average score (10.488888888888889)\n",
      "Epoch: 46, win/lose count 17.0/2.0. Average score (10.58695652173913)\n",
      "Epoch: 47, win/lose count 10.0/1.0. Average score (10.553191489361701)\n",
      "Epoch: 48, win/lose count 10.5/1.0. Average score (10.53125)\n",
      "Epoch: 49, win/lose count 13.0/1.0. Average score (10.561224489795919)\n",
      "Epoch: 50, win/lose count 9.0/3.0. Average score (10.47)\n",
      "Epoch: 51, win/lose count 12.0/1.0. Average score (10.480392156862745)\n",
      "Epoch: 52, win/lose count 9.0/1.0. Average score (10.432692307692308)\n",
      "Epoch: 53, win/lose count 2.5/0. Average score (10.283018867924529)\n",
      "Epoch: 54, win/lose count 16.0/0. Average score (10.38888888888889)\n",
      "Epoch: 55, win/lose count 6.0/1.0. Average score (10.290909090909091)\n",
      "Epoch: 56, win/lose count 16.0/3.0. Average score (10.339285714285714)\n",
      "Epoch: 57, win/lose count 5.5/2.0. Average score (10.219298245614034)\n",
      "Epoch: 58, win/lose count 14.5/2.0. Average score (10.258620689655173)\n",
      "Epoch: 59, win/lose count 13.5/0. Average score (10.313559322033898)\n",
      "Epoch: 60, win/lose count 14.5/4.0. Average score (10.316666666666666)\n",
      "Epoch: 61, win/lose count 10.0/3.0. Average score (10.262295081967213)\n",
      "Epoch: 62, win/lose count 12.0/3.0. Average score (10.241935483870968)\n",
      "Epoch: 63, win/lose count 15.0/3.0. Average score (10.26984126984127)\n",
      "Epoch: 64, win/lose count 5.0/3.0. Average score (10.140625)\n",
      "Epoch: 65, win/lose count 11.0/3.0. Average score (10.107692307692307)\n",
      "Epoch: 66, win/lose count 19.5/4.0. Average score (10.18939393939394)\n",
      "Epoch: 67, win/lose count 15.0/3.0. Average score (10.216417910447761)\n",
      "Epoch: 68, win/lose count 5.0/4.0. Average score (10.080882352941176)\n",
      "Epoch: 69, win/lose count 8.0/1.0. Average score (10.03623188405797)\n",
      "Epoch: 70, win/lose count 23.5/2.0. Average score (10.2)\n",
      "Epoch: 71, win/lose count 11.5/1.0. Average score (10.204225352112676)\n",
      "Epoch: 72, win/lose count 5.0/1.0. Average score (10.118055555555555)\n",
      "Epoch: 73, win/lose count 15.5/1.0. Average score (10.178082191780822)\n",
      "Epoch: 74, win/lose count 9.0/2.0. Average score (10.135135135135135)\n",
      "Epoch: 75, win/lose count 12.5/5.0. Average score (10.1)\n",
      "Epoch: 76, win/lose count 11.0/3.0. Average score (10.072368421052632)\n",
      "Epoch: 77, win/lose count 2.5/0. Average score (9.974025974025974)\n",
      "Epoch: 78, win/lose count 9.0/1.0. Average score (9.948717948717949)\n",
      "Epoch: 79, win/lose count 5.0/1.0. Average score (9.873417721518987)\n",
      "Epoch: 80, win/lose count 5.0/3.0. Average score (9.775)\n",
      "Epoch: 81, win/lose count 14.5/4.0. Average score (9.783950617283951)\n",
      "Epoch: 82, win/lose count 8.5/1.0. Average score (9.75609756097561)\n",
      "Epoch: 83, win/lose count 9.5/1.0. Average score (9.740963855421686)\n",
      "Epoch: 84, win/lose count 12.0/1.0. Average score (9.755952380952381)\n",
      "Epoch: 85, win/lose count 24.5/2.0. Average score (9.905882352941177)\n",
      "Epoch: 86, win/lose count 16.0/2.0. Average score (9.953488372093023)\n",
      "Epoch: 87, win/lose count 4.5/3.0. Average score (9.85632183908046)\n",
      "Epoch: 88, win/lose count 11.0/3.0. Average score (9.835227272727273)\n",
      "Epoch: 89, win/lose count 8.0/2.0. Average score (9.792134831460674)\n",
      "Epoch: 90, win/lose count 11.5/1.0. Average score (9.8)\n",
      "Epoch: 91, win/lose count 2.5/3.0. Average score (9.686813186813186)\n",
      "Epoch: 92, win/lose count 9.5/0. Average score (9.684782608695652)\n",
      "Epoch: 93, win/lose count 14.5/1.0. Average score (9.725806451612904)\n",
      "Epoch: 94, win/lose count 22.5/2.0. Average score (9.840425531914894)\n",
      "Epoch: 95, win/lose count 14.0/2.0. Average score (9.863157894736842)\n",
      "Epoch: 96, win/lose count 14.0/1.0. Average score (9.895833333333334)\n",
      "Epoch: 97, win/lose count 12.5/2.0. Average score (9.902061855670103)\n",
      "Epoch: 98, win/lose count 11.0/5.0. Average score (9.862244897959183)\n",
      "Epoch: 99, win/lose count 13.0/5.0. Average score (9.843434343434344)\n",
      "Epoch: 100, win/lose count 6.5/0. Average score (9.81)\n",
      "Final score: 9.81\n"
     ]
    },
    {
     "data": {
      "text/html": [
       "<video alt=\"test\" controls>\n",
       "                <source src=\"data:video/mp4;base64,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\" type=\"video/mp4\" />\n",
       "             </video>"
      ],
      "text/plain": [
       "<IPython.core.display.HTML object>"
      ]
     },
     "execution_count": 17,
     "metadata": {},
     "output_type": "execute_result"
    }
   ],
   "source": [
    "agent = DQN_FC1(size, lr=.1, epsilon = 0.1, memory_size=2000, batch_size = 32)\n",
    "print('Training the mouse...')\n",
    "train(agent,env,epochs_train,prefix='fc_train',display_loss=True)\n",
    "print('...Done.')\n",
    "print('Testing the mouse:')\n",
    "test(agent,env,epochs_test,prefix='fc_test',display_score=True)\n",
    "HTML(display_videos('fc_test20.mp4'))"
   ]
  },
  {
   "cell_type": "markdown",
   "metadata": {},
   "source": [
    "Not bad ! But once the close environment of the mouse is empty of cheese, it oscillates and stops improving. We will work on this later, in the exploration question. Let's try different things regarding the model. I tried changing the different parameters. I tried a one layer model, a two layers one and a three layers one and found that the one layer one performed the best. I tried changing the learning rate but decreasing it makes the learning rate extra-slow (I tried 0.05 and it was already too slow) and increasing it doesn't improve the win/loss count. I found that increasing the batch size a bit increases the performance of the model. <br>\n",
    "The way I have done my test **is not a grid search**, therefore it is absolutely not optimal. But anyway, here are the results of my tests:"
   ]
  },
  {
   "cell_type": "markdown",
   "metadata": {},
   "source": [
    "**Let's try changing the model:**"
   ]
  },
  {
   "cell_type": "code",
   "execution_count": 18,
   "metadata": {},
   "outputs": [],
   "source": [
    "class DQN_FC2(DQN):\n",
    "    def __init__(self, *args, lr=0.1,**kwargs):\n",
    "        super(DQN_FC2, self).__init__( *args,**kwargs)\n",
    "        \n",
    "        # NN Model\n",
    "        # 2 hidden-layers\n",
    "        model = Sequential([Flatten(input_shape=(5, 5, self.n_state)),\n",
    "            Dense(30, activation=\"relu\"),\n",
    "            Dense(15, activation=\"relu\"),\n",
    "            Dense(4)])\n",
    "        \n",
    "        model.compile(sgd(lr=lr, decay=1e-4, momentum=0.0), \"mse\")\n",
    "        self.model = model"
   ]
  },
  {
   "cell_type": "code",
   "execution_count": 20,
   "metadata": {},
   "outputs": [],
   "source": [
    "class DQN_FC3(DQN):\n",
    "    def __init__(self, *args, lr=0.1,**kwargs):\n",
    "        super(DQN_FC3, self).__init__( *args,**kwargs)\n",
    "        \n",
    "        # NN Model\n",
    "        # 3 hidden-layers\n",
    "        model = Sequential([Flatten(input_shape=(5, 5, self.n_state)),\n",
    "            Dense(30, activation=\"relu\"),\n",
    "            Dense(30, activation=\"relu\"),\n",
    "            Dense(15, activation=\"relu\"),\n",
    "            Dense(4)])\n",
    "        \n",
    "        model.compile(sgd(lr=lr, decay=1e-4, momentum=0.0), \"mse\")\n",
    "        self.model = model"
   ]
  },
  {
   "cell_type": "markdown",
   "metadata": {},
   "source": [
    "Tests made with the following parameters **fixed** <br>\n",
    "Learning Rate: 0.1, Memory: 2000, Batch Size: 32 "
   ]
  },
  {
   "cell_type": "markdown",
   "metadata": {},
   "source": [
    "| Model used | Averaged Test Score (Over 100 epochs) |\n",
    "|------------|---------------------------------------|\n",
    "| **DQN_FC1**| **9.81**                              |\n",
    "| DQN_FC2    | 4.23                                  |\n",
    "| DQN_FC3    | 5.93                                  |"
   ]
  },
  {
   "cell_type": "markdown",
   "metadata": {},
   "source": [
    "**Impact of memory size**"
   ]
  },
  {
   "cell_type": "markdown",
   "metadata": {},
   "source": [
    "Tests made with the following parameters **fixed** <br>\n",
    "Model used: DQN_FC1, Learning Rate: 0.1, Batch Size: 32 "
   ]
  },
  {
   "cell_type": "markdown",
   "metadata": {},
   "source": [
    "| Memory | Averaged Test Score (Over 100 epochs) |\n",
    "|--------|---------------------------------------|\n",
    "| 250    | 9.28                                  |\n",
    "| 500    | 9.14                                  |\n",
    "| 1000   | 8.70                                  |\n",
    "|**2000**| **9.81**                              |\n",
    "| 5000   | 7.86                                  |"
   ]
  },
  {
   "cell_type": "markdown",
   "metadata": {},
   "source": [
    "**Impact of batch size**"
   ]
  },
  {
   "cell_type": "markdown",
   "metadata": {},
   "source": [
    "Tests made with the following parameters **fixed** <br>\n",
    "Model used: DQN_FC1, Memory: 2000, Learning rate: 0.1 "
   ]
  },
  {
   "cell_type": "markdown",
   "metadata": {},
   "source": [
    "| Batch Size | Averaged Test Score (Over 100 epochs) |\n",
    "|------------|---------------------------------------|\n",
    "| 32         | 9.81                                  |\n",
    "| **64**     | **10.405**                            |\n",
    "| 128        | 8.38                                  |\n",
    "| 256        | 10.905 (Way too long to train)        |"
   ]
  },
  {
   "cell_type": "markdown",
   "metadata": {},
   "source": [
    "**Impact of learning rate**"
   ]
  },
  {
   "cell_type": "markdown",
   "metadata": {},
   "source": [
    "Tests made with the following parameters **fixed** <br>\n",
    "Model used: DQN_FC1, Memory: 2000, Batch Size: 32 "
   ]
  },
  {
   "cell_type": "markdown",
   "metadata": {},
   "source": [
    "| Learning Rate | Averaged Test Score (Over 100 epochs) |\n",
    "|---------------|---------------------------------------|\n",
    "| 0.01          | 0.635                                 |\n",
    "| 0.05          | 3.79                                  |\n",
    "| **0.1**       | **9.81**                              |\n",
    "| 0.2           | 4.44                                  |\n",
    "| 0.5           | 8.51                                  |"
   ]
  },
  {
   "cell_type": "markdown",
   "metadata": {},
   "source": [
    "**Here is the FC agent I'll be keeping :**"
   ]
  },
  {
   "cell_type": "code",
   "execution_count": 58,
   "metadata": {
    "scrolled": true
   },
   "outputs": [
    {
     "name": "stdout",
     "output_type": "stream",
     "text": [
      "Training the mouse...\n",
      "Epoch 001/100 | Loss 1.6475 | Win/lose count 7.0/2.0 (5.0)\n",
      "Epoch 002/100 | Loss 1.5679 | Win/lose count 4.5/0 (4.5)\n",
      "Epoch 003/100 | Loss 1.6102 | Win/lose count 4.0/2.0 (2.0)\n",
      "Epoch 004/100 | Loss 1.5671 | Win/lose count 3.5/4.0 (-0.5)\n",
      "Epoch 005/100 | Loss 1.6150 | Win/lose count 3.5/0 (3.5)\n",
      "Epoch 006/100 | Loss 1.7689 | Win/lose count 3.5/1.0 (2.5)\n",
      "Epoch 007/100 | Loss 1.7770 | Win/lose count 5.5/2.0 (3.5)\n",
      "Epoch 008/100 | Loss 1.6862 | Win/lose count 8.5/5.0 (3.5)\n",
      "Epoch 009/100 | Loss 1.7571 | Win/lose count 3.5/3.0 (0.5)\n",
      "Epoch 010/100 | Loss 1.7987 | Win/lose count 5.5/3.0 (2.5)\n",
      "Epoch 011/100 | Loss 1.7834 | Win/lose count 4.0/1.0 (3.0)\n",
      "Epoch 012/100 | Loss 1.7918 | Win/lose count 1.5/1.0 (0.5)\n",
      "Epoch 013/100 | Loss 1.6987 | Win/lose count 4.5/1.0 (3.5)\n",
      "Epoch 014/100 | Loss 1.7292 | Win/lose count 4.5/2.0 (2.5)\n",
      "Epoch 015/100 | Loss 1.6692 | Win/lose count 7.5/3.0 (4.5)\n",
      "Epoch 016/100 | Loss 1.5857 | Win/lose count 6.5/2.0 (4.5)\n",
      "Epoch 017/100 | Loss 1.6253 | Win/lose count 5.5/3.0 (2.5)\n",
      "Epoch 018/100 | Loss 1.6038 | Win/lose count 7.0/2.0 (5.0)\n",
      "Epoch 019/100 | Loss 1.4909 | Win/lose count 6.5/0 (6.5)\n",
      "Epoch 020/100 | Loss 1.4174 | Win/lose count 6.5/3.0 (3.5)\n",
      "Epoch 021/100 | Loss 1.4412 | Win/lose count 3.0/3.0 (0.0)\n",
      "Epoch 022/100 | Loss 1.6034 | Win/lose count 4.5/2.0 (2.5)\n",
      "Epoch 023/100 | Loss 1.6529 | Win/lose count 7.5/2.0 (5.5)\n",
      "Epoch 024/100 | Loss 1.6047 | Win/lose count 4.5/2.0 (2.5)\n",
      "Epoch 025/100 | Loss 1.6206 | Win/lose count 6.5/1.0 (5.5)\n",
      "Epoch 026/100 | Loss 1.6297 | Win/lose count 2.5/2.0 (0.5)\n",
      "Epoch 027/100 | Loss 1.5652 | Win/lose count 9.0/0 (9.0)\n",
      "Epoch 028/100 | Loss 1.5645 | Win/lose count 7.0/4.0 (3.0)\n",
      "Epoch 029/100 | Loss 1.6518 | Win/lose count 11.5/3.0 (8.5)\n",
      "Epoch 030/100 | Loss 1.6071 | Win/lose count 3.0/0 (3.0)\n",
      "Epoch 031/100 | Loss 1.6018 | Win/lose count 6.5/1.0 (5.5)\n",
      "Epoch 032/100 | Loss 1.6320 | Win/lose count 11.5/0 (11.5)\n",
      "Epoch 033/100 | Loss 1.6962 | Win/lose count 5.5/4.0 (1.5)\n",
      "Epoch 034/100 | Loss 1.7291 | Win/lose count 7.0/1.0 (6.0)\n",
      "Epoch 035/100 | Loss 1.6803 | Win/lose count 13.0/5.0 (8.0)\n",
      "Epoch 036/100 | Loss 1.7181 | Win/lose count 3.5/2.0 (1.5)\n",
      "Epoch 037/100 | Loss 1.6944 | Win/lose count 13.0/2.0 (11.0)\n",
      "Epoch 038/100 | Loss 1.7707 | Win/lose count 3.0/3.0 (0.0)\n",
      "Epoch 039/100 | Loss 1.7150 | Win/lose count 4.5/1.0 (3.5)\n",
      "Epoch 040/100 | Loss 1.7121 | Win/lose count 10.5/2.0 (8.5)\n",
      "Epoch 041/100 | Loss 1.6383 | Win/lose count 4.5/2.0 (2.5)\n",
      "Epoch 042/100 | Loss 1.5925 | Win/lose count 8.0/2.0 (6.0)\n",
      "Epoch 043/100 | Loss 1.5843 | Win/lose count 6.5/1.0 (5.5)\n",
      "Epoch 044/100 | Loss 1.6169 | Win/lose count 8.0/5.0 (3.0)\n",
      "Epoch 045/100 | Loss 1.6295 | Win/lose count 12.0/6.0 (6.0)\n",
      "Epoch 046/100 | Loss 1.6322 | Win/lose count 1.5/1.0 (0.5)\n",
      "Epoch 047/100 | Loss 1.6147 | Win/lose count 7.5/1.0 (6.5)\n",
      "Epoch 048/100 | Loss 1.5981 | Win/lose count 14.0/2.0 (12.0)\n",
      "Epoch 049/100 | Loss 1.5874 | Win/lose count 6.0/5.0 (1.0)\n",
      "Epoch 050/100 | Loss 1.6840 | Win/lose count 14.5/1.0 (13.5)\n",
      "Epoch 051/100 | Loss 1.6607 | Win/lose count 7.5/0 (7.5)\n",
      "Epoch 052/100 | Loss 1.6626 | Win/lose count 6.5/2.0 (4.5)\n",
      "Epoch 053/100 | Loss 1.6708 | Win/lose count 10.0/3.0 (7.0)\n",
      "Epoch 054/100 | Loss 1.6960 | Win/lose count 8.5/5.0 (3.5)\n",
      "Epoch 055/100 | Loss 1.6551 | Win/lose count 8.5/2.0 (6.5)\n",
      "Epoch 056/100 | Loss 1.6686 | Win/lose count 7.5/2.0 (5.5)\n",
      "Epoch 057/100 | Loss 1.6649 | Win/lose count 12.0/1.0 (11.0)\n",
      "Epoch 058/100 | Loss 1.6430 | Win/lose count 9.0/8.0 (1.0)\n",
      "Epoch 059/100 | Loss 1.7122 | Win/lose count 6.5/3.0 (3.5)\n",
      "Epoch 060/100 | Loss 1.7560 | Win/lose count 11.0/4.0 (7.0)\n",
      "Epoch 061/100 | Loss 1.6887 | Win/lose count 11.0/4.0 (7.0)\n",
      "Epoch 062/100 | Loss 1.7103 | Win/lose count 6.5/0 (6.5)\n",
      "Epoch 063/100 | Loss 1.6727 | Win/lose count 15.0/7.0 (8.0)\n",
      "Epoch 064/100 | Loss 1.6852 | Win/lose count 10.5/2.0 (8.5)\n",
      "Epoch 065/100 | Loss 1.6647 | Win/lose count 14.5/1.0 (13.5)\n",
      "Epoch 066/100 | Loss 1.7640 | Win/lose count 11.5/3.0 (8.5)\n",
      "Epoch 067/100 | Loss 1.6951 | Win/lose count 10.0/3.0 (7.0)\n",
      "Epoch 068/100 | Loss 1.7244 | Win/lose count 15.0/2.0 (13.0)\n",
      "Epoch 069/100 | Loss 1.7616 | Win/lose count 7.0/7.0 (0.0)\n",
      "Epoch 070/100 | Loss 1.7649 | Win/lose count 11.5/1.0 (10.5)\n",
      "Epoch 071/100 | Loss 1.7183 | Win/lose count 4.0/3.0 (1.0)\n",
      "Epoch 072/100 | Loss 1.7211 | Win/lose count 8.0/1.0 (7.0)\n",
      "Epoch 073/100 | Loss 1.7461 | Win/lose count 11.0/2.0 (9.0)\n",
      "Epoch 074/100 | Loss 1.7652 | Win/lose count 7.5/1.0 (6.5)\n",
      "Epoch 075/100 | Loss 1.7031 | Win/lose count 7.0/2.0 (5.0)\n",
      "Epoch 076/100 | Loss 1.7148 | Win/lose count 13.0/3.0 (10.0)\n",
      "Epoch 077/100 | Loss 1.7336 | Win/lose count 16.5/4.0 (12.5)\n",
      "Epoch 078/100 | Loss 1.7201 | Win/lose count 18.0/1.0 (17.0)\n",
      "Epoch 079/100 | Loss 1.6742 | Win/lose count 6.5/3.0 (3.5)\n",
      "Epoch 080/100 | Loss 1.7384 | Win/lose count 11.5/3.0 (8.5)\n",
      "Epoch 081/100 | Loss 1.7730 | Win/lose count 13.0/3.0 (10.0)\n",
      "Epoch 082/100 | Loss 1.7376 | Win/lose count 7.0/0 (7.0)\n",
      "Epoch 083/100 | Loss 1.7288 | Win/lose count 14.5/2.0 (12.5)\n",
      "Epoch 084/100 | Loss 1.6965 | Win/lose count 20.0/2.0 (18.0)\n",
      "Epoch 085/100 | Loss 1.7088 | Win/lose count 12.5/1.0 (11.5)\n",
      "Epoch 086/100 | Loss 1.7208 | Win/lose count 13.5/5.0 (8.5)\n",
      "Epoch 087/100 | Loss 1.6736 | Win/lose count 12.0/4.0 (8.0)\n",
      "Epoch 088/100 | Loss 1.7202 | Win/lose count 12.5/0 (12.5)\n",
      "Epoch 089/100 | Loss 1.7314 | Win/lose count 14.5/2.0 (12.5)\n",
      "Epoch 090/100 | Loss 1.7715 | Win/lose count 16.5/1.0 (15.5)\n",
      "Epoch 091/100 | Loss 1.7393 | Win/lose count 6.5/1.0 (5.5)\n",
      "Epoch 092/100 | Loss 1.7391 | Win/lose count 9.0/1.0 (8.0)\n",
      "Epoch 093/100 | Loss 1.7338 | Win/lose count 14.0/6.0 (8.0)\n",
      "Epoch 094/100 | Loss 1.7621 | Win/lose count 13.0/1.0 (12.0)\n",
      "Epoch 095/100 | Loss 1.6997 | Win/lose count 17.0/0 (17.0)\n",
      "Epoch 096/100 | Loss 1.7347 | Win/lose count 4.5/3.0 (1.5)\n",
      "Epoch 097/100 | Loss 1.7196 | Win/lose count 8.0/4.0 (4.0)\n",
      "Epoch 098/100 | Loss 1.7021 | Win/lose count 11.5/4.0 (7.5)\n",
      "Epoch 099/100 | Loss 1.6927 | Win/lose count 14.5/6.0 (8.5)\n",
      "Epoch 100/100 | Loss 1.7212 | Win/lose count 13.5/5.0 (8.5)\n",
      "...Done.\n",
      "Testing the mouse:\n",
      "Epoch: 1, win/lose count 16.0/4.0. Average score (12.0)\n",
      "Epoch: 2, win/lose count 20.5/5.0. Average score (13.75)\n",
      "Epoch: 3, win/lose count 5.5/1.0. Average score (10.666666666666666)\n",
      "Epoch: 4, win/lose count 14.0/3.0. Average score (10.75)\n",
      "Epoch: 5, win/lose count 16.5/2.0. Average score (11.5)\n",
      "Epoch: 6, win/lose count 12.5/2.0. Average score (11.333333333333334)\n",
      "Epoch: 7, win/lose count 16.0/2.0. Average score (11.714285714285714)\n",
      "Epoch: 8, win/lose count 17.5/4.0. Average score (11.9375)\n",
      "Epoch: 9, win/lose count 12.0/3.0. Average score (11.61111111111111)\n",
      "Epoch: 10, win/lose count 17.0/1.0. Average score (12.05)\n",
      "Epoch: 11, win/lose count 7.5/3.0. Average score (11.363636363636363)\n",
      "Epoch: 12, win/lose count 5.5/1.0. Average score (10.791666666666666)\n",
      "Epoch: 13, win/lose count 8.0/4.0. Average score (10.26923076923077)\n",
      "Epoch: 14, win/lose count 6.0/4.0. Average score (9.678571428571429)\n",
      "Epoch: 15, win/lose count 4.5/3.0. Average score (9.133333333333333)\n",
      "Epoch: 16, win/lose count 21.5/4.0. Average score (9.65625)\n",
      "Epoch: 17, win/lose count 15.5/3.0. Average score (9.823529411764707)\n",
      "Epoch: 18, win/lose count 8.0/2.0. Average score (9.61111111111111)\n",
      "Epoch: 19, win/lose count 13.0/5.0. Average score (9.526315789473685)\n",
      "Epoch: 20, win/lose count 16.5/2.0. Average score (9.775)\n",
      "Epoch: 21, win/lose count 16.0/4.0. Average score (9.880952380952381)\n",
      "Epoch: 22, win/lose count 14.0/3.0. Average score (9.931818181818182)\n",
      "Epoch: 23, win/lose count 22.5/1.0. Average score (10.434782608695652)\n",
      "Epoch: 24, win/lose count 14.0/5.0. Average score (10.375)\n",
      "Epoch: 25, win/lose count 15.0/4.0. Average score (10.4)\n",
      "Epoch: 26, win/lose count 16.5/0. Average score (10.634615384615385)\n",
      "Epoch: 27, win/lose count 16.0/3.0. Average score (10.722222222222221)\n",
      "Epoch: 28, win/lose count 20.5/1.0. Average score (11.035714285714286)\n",
      "Epoch: 29, win/lose count 6.5/1.0. Average score (10.844827586206897)\n",
      "Epoch: 30, win/lose count 10.5/4.0. Average score (10.7)\n",
      "Epoch: 31, win/lose count 10.5/1.0. Average score (10.661290322580646)\n",
      "Epoch: 32, win/lose count 17.5/1.0. Average score (10.84375)\n",
      "Epoch: 33, win/lose count 7.0/0. Average score (10.727272727272727)\n",
      "Epoch: 34, win/lose count 6.0/2.0. Average score (10.529411764705882)\n"
     ]
    },
    {
     "name": "stdout",
     "output_type": "stream",
     "text": [
      "Epoch: 35, win/lose count 5.5/1.0. Average score (10.357142857142858)\n",
      "Epoch: 36, win/lose count 10.0/0. Average score (10.347222222222221)\n",
      "Epoch: 37, win/lose count 26.0/2.0. Average score (10.716216216216216)\n",
      "Epoch: 38, win/lose count 14.0/2.0. Average score (10.75)\n",
      "Epoch: 39, win/lose count 16.5/0. Average score (10.897435897435898)\n",
      "Epoch: 40, win/lose count 12.0/2.0. Average score (10.875)\n",
      "Epoch: 41, win/lose count 10.0/2.0. Average score (10.804878048780488)\n",
      "Epoch: 42, win/lose count 6.0/4.0. Average score (10.595238095238095)\n",
      "Epoch: 43, win/lose count 17.0/2.0. Average score (10.69767441860465)\n",
      "Epoch: 44, win/lose count 16.5/1.0. Average score (10.806818181818182)\n",
      "Epoch: 45, win/lose count 16.5/4.0. Average score (10.844444444444445)\n",
      "Epoch: 46, win/lose count 10.0/2.0. Average score (10.782608695652174)\n",
      "Epoch: 47, win/lose count 8.5/2.0. Average score (10.691489361702128)\n",
      "Epoch: 48, win/lose count 9.5/0. Average score (10.666666666666666)\n",
      "Epoch: 49, win/lose count 16.0/4.0. Average score (10.693877551020408)\n",
      "Epoch: 50, win/lose count 9.5/3.0. Average score (10.61)\n",
      "Epoch: 51, win/lose count 8.5/5.0. Average score (10.470588235294118)\n",
      "Epoch: 52, win/lose count 14.5/1.0. Average score (10.528846153846153)\n",
      "Epoch: 53, win/lose count 16.0/4.0. Average score (10.556603773584905)\n",
      "Epoch: 54, win/lose count 7.5/1.0. Average score (10.481481481481481)\n",
      "Epoch: 55, win/lose count 8.0/3.0. Average score (10.381818181818181)\n",
      "Epoch: 56, win/lose count 6.5/1.0. Average score (10.294642857142858)\n",
      "Epoch: 57, win/lose count 12.0/1.0. Average score (10.307017543859649)\n",
      "Epoch: 58, win/lose count 9.0/2.0. Average score (10.25)\n",
      "Epoch: 59, win/lose count 10.5/2.0. Average score (10.220338983050848)\n",
      "Epoch: 60, win/lose count 8.5/0. Average score (10.191666666666666)\n",
      "Epoch: 61, win/lose count 14.0/1.0. Average score (10.237704918032787)\n",
      "Epoch: 62, win/lose count 17.0/1.0. Average score (10.330645161290322)\n",
      "Epoch: 63, win/lose count 15.0/2.0. Average score (10.373015873015873)\n",
      "Epoch: 64, win/lose count 16.0/3.0. Average score (10.4140625)\n",
      "Epoch: 65, win/lose count 3.5/1.0. Average score (10.292307692307693)\n",
      "Epoch: 66, win/lose count 13.0/4.0. Average score (10.272727272727273)\n",
      "Epoch: 67, win/lose count 14.0/2.0. Average score (10.298507462686567)\n",
      "Epoch: 68, win/lose count 5.5/3.0. Average score (10.183823529411764)\n",
      "Epoch: 69, win/lose count 16.5/3.0. Average score (10.231884057971014)\n",
      "Epoch: 70, win/lose count 10.5/2.0. Average score (10.207142857142857)\n",
      "Epoch: 71, win/lose count 24.0/4.0. Average score (10.345070422535212)\n",
      "Epoch: 72, win/lose count 6.5/0. Average score (10.291666666666666)\n",
      "Epoch: 73, win/lose count 17.0/2.0. Average score (10.356164383561644)\n",
      "Epoch: 74, win/lose count 14.5/5.0. Average score (10.344594594594595)\n",
      "Epoch: 75, win/lose count 11.5/7.0. Average score (10.266666666666667)\n",
      "Epoch: 76, win/lose count 13.0/3.0. Average score (10.263157894736842)\n",
      "Epoch: 77, win/lose count 15.0/1.0. Average score (10.311688311688311)\n",
      "Epoch: 78, win/lose count 14.5/4.0. Average score (10.314102564102564)\n",
      "Epoch: 79, win/lose count 14.5/2.0. Average score (10.341772151898734)\n",
      "Epoch: 80, win/lose count 18.0/2.0. Average score (10.4125)\n",
      "Epoch: 81, win/lose count 20.0/2.0. Average score (10.506172839506172)\n",
      "Epoch: 82, win/lose count 16.0/1.0. Average score (10.560975609756097)\n",
      "Epoch: 83, win/lose count 23.0/2.0. Average score (10.686746987951807)\n",
      "Epoch: 84, win/lose count 17.5/1.0. Average score (10.755952380952381)\n",
      "Epoch: 85, win/lose count 14.0/1.0. Average score (10.782352941176471)\n",
      "Epoch: 86, win/lose count 10.5/1.0. Average score (10.767441860465116)\n",
      "Epoch: 87, win/lose count 11.5/1.0. Average score (10.764367816091953)\n",
      "Epoch: 88, win/lose count 13.5/4.0. Average score (10.75)\n",
      "Epoch: 89, win/lose count 8.0/3.0. Average score (10.685393258426966)\n",
      "Epoch: 90, win/lose count 11.5/2.0. Average score (10.672222222222222)\n",
      "Epoch: 91, win/lose count 13.5/3.0. Average score (10.67032967032967)\n",
      "Epoch: 92, win/lose count 15.0/1.0. Average score (10.706521739130435)\n",
      "Epoch: 93, win/lose count 17.5/1.0. Average score (10.768817204301076)\n",
      "Epoch: 94, win/lose count 10.5/2.0. Average score (10.74468085106383)\n",
      "Epoch: 95, win/lose count 23.0/2.0. Average score (10.852631578947369)\n",
      "Epoch: 96, win/lose count 16.5/3.0. Average score (10.880208333333334)\n",
      "Epoch: 97, win/lose count 8.0/4.0. Average score (10.809278350515465)\n",
      "Epoch: 98, win/lose count 13.0/2.0. Average score (10.811224489795919)\n",
      "Epoch: 99, win/lose count 16.5/1.0. Average score (10.858585858585858)\n",
      "Epoch: 100, win/lose count 4.0/2.0. Average score (10.77)\n",
      "Final score: 10.77\n"
     ]
    },
    {
     "data": {
      "text/html": [
       "<video alt=\"test\" controls>\n",
       "                <source src=\"data:video/mp4;base64,AAAAIGZ0eXBpc29tAAACAGlzb21pc28yYXZjMW1wNDEAAAAIZnJlZQAAGaBtZGF0AAACrQYF//+p3EXpvebZSLeWLNgg2SPu73gyNjQgLSBjb3JlIDE1MiByMjg1NCBlOWE1OTAzIC0gSC4yNjQvTVBFRy00IEFWQyBjb2RlYyAtIENvcHlsZWZ0IDIwMDMtMjAxNyAtIGh0dHA6Ly93d3cudmlkZW9sYW4ub3JnL3gyNjQuaHRtbCAtIG9wdGlvbnM6IGNhYmFjPTEgcmVmPTMgZGVibG9jaz0xOjA6MCBhbmFseXNlPTB4MToweDExMSBtZT1oZXggc3VibWU9NyBwc3k9MSBwc3lfcmQ9MS4wMDowLjAwIG1peGVkX3JlZj0xIG1lX3JhbmdlPTE2IGNocm9tYV9tZT0xIHRyZWxsaXM9MSA4eDhkY3Q9MCBjcW09MCBkZWFkem9uZT0yMSwxMSBmYXN0X3Bza2lwPTEgY2hyb21hX3FwX29mZnNldD00IHRocmVhZHM9OCBsb29rYWhlYWRfdGhyZWFkcz0xIHNsaWNlZF90aHJlYWRzPTAgbnI9MCBkZWNpbWF0ZT0xIGludGVybGFjZWQ9MCBibHVyYXlfY29tcGF0PTAgY29uc3RyYWluZWRfaW50cmE9MCBiZnJhbWVzPTMgYl9weXJhbWlkPTIgYl9hZGFwdD0xIGJfYmlhcz0wIGRpcmVjdD0xIHdlaWdodGI9MSBvcGVuX2dvcD0wIHdlaWdodHA9MiBrZXlpbnQ9MjUwIGtleWludF9taW49MjUgc2NlbmVjdXQ9NDAgaW50cmFfcmVmcmVzaD0wIHJjX2xvb2thaGVhZD00MCByYz1jcmYgbWJ0cmVlPTEgY3JmPTIzLjAgcWNvbXA9MC42MCBxcG1pbj0wIHFwbWF4PTY5IHFwc3RlcD00IGlwX3JhdGlvPTEuNDAgYXE9MToxLjAwAIAAAAMoZYiEADP//vaG+BTYUyP+T7/8I/+5H7cfWfrixkIJvrVeQ9GAMl8a/5lGYaXpyc8t7R+vTNAEZz6HlLJIofgUkwDfMsjnE+J8s6FP3lFrFWUnaqCtNczDmf8G6bB2NtbtnQ89lb2DZOuQ7da+4qvowjmW9QD5uzHiDj8cp5KlNTJPp/okg/JdYR4GunvuQCgHy1bXfhWWH2HaoiF/8rpRVgmfuglfN0UyNqaOamwfA4YJZdddZcgU7t3rBrGzt+AwQJ4Ygi7Wj66Jb0X0n/eVHq4impXZZB0aQMM+EhzMejzdw7JIkFKkNBeQhYaNVU1tuvA0lyl9G0hfeTFDkHKNGf4YE3FTvrmtKaagJSBQlnbUFf3oaJMs2CX5cO3xqAg502KLr3BGiHqSJ8AWLTkiphAH/a0tpc2lNb0ZKwtor58tSY9jFa49mQTi+FmG9/wAXVECT12lGw8pJ6AnKi6Wlg5EhCaPMOqSawDYEPbMBND5kP0jJKBFJe7ffHN3YV+osz2AH6RrrPQ/scrkVXedDIQkAPdg1OIGuuqycnSK3R4vi80KIdLWnPk6SKfZHTip2WEAqiXh9r/csdl0hZak9c//8Nie7wDYLcpTQmBhennpXkYm74WrN65aUEXQg6d+/0NAfcTJIQijVl6C4Aoxf7UkOERD9dFvDtK+rKVSLqkKGMN/ax4fcDj3KQkKAK7LsbofGOCrsgQ9n8sFvdbbzZr5lSJgeBzYpsqfM46+20Edoliyc8U2Nk97sQAxBD5dJATIiF+VBN5CXbBlSZM2GjIrYa9/YfdG24AFL5GPy1VWf+4uG7jO8VFPDLV1loGyNhqswCh7MpP/LOzV23ouc6lNJ4AgcqgWfS5Raz1X5Z0zd+U9rVuGYPUatOP5alZd75ACsO3LEZzVQDilkMC7ZaCb/I6Vnnx5MjXh1O+QAB3a8Hkk+WRGA1RrcMsTb9wMA6yAOBxjoUJxBPnVi2wwJ/NxNFH9u9E80toUBzKdRfWricoma75J7bNCtTO6RCvwySB5bP2XeBiFoiXtzYscT1vWMxm3maI8EaJO88U3c0NT0RnZwAABCwAAABNBmiFsQz/+nhAEt+c2hPQMkMoYAAAAGEGaQjwhkymEN//+p4QCQdE/1K32fISpgQAAABtBmmRJ4Q8mUwU8M//+nhAIiMtoL9+QA0LVNqAAAAAQAZ6DakK/AX8jtzrQwvDdwQAAABhBmoVJ4Q8mUwIZ//6eEAR34h51ugZIZVUAAAAYQZqmSeEPJlMCG//+p4QBHfjpj/D6ttlfAAAAH0GayEnhDyZTBRE8N//+p4QBFfo58k06++tmKEfn1IEAAAAQAZ7nakK/AOIC851oYXiNwAAAAB1BmupJ4Q8mUwU8N//+p4QAsXup+1Xls+FGt0SvUwAAABABnwlqQr8Ajsroqs4/AaJhAAAAH0GbDEnhDyZTBTwz//6eEAGx+D4CmfjWfcxznTYqbIcAAAAQAZ8rakK/AFra+c60MLyCwAAAABhBmy1J4Q8mUwIZ//6eEAEO+If2yGPrCZUAAAAYQZtOSeEPJlMCG//+p4QALnitIIRP8twLAAAAGUGbb0nhDyZTAhv//qeEAC54rSC3BUJ8EpEAAAAbQZuSSeEPJlMCGf/+nhAAdop2wVkF/IE1gpPfAAAAEUGfsEURPCv/ABkmbmuPe9UbAAAADgGf0WpCvwAZIkM9EV4/AAAAGUGb00moQWiZTAhv//6nhAATb46Y/w+rbsMAAAAZQZv2SeEKUmUwIZ/+nhAAS1ItoL8nD6ZZdgAAABFBnhRFNEwr/wAPizFgkJW/4wAAAA4BnjVqQr8AD4s1iuBNjAAAABlBmjdJqEFomUwIZ//+nhAATUQ4/ngv5IrtAAAAGEGaWEnhClJlMCGf/p4QAE2+If2yGPrDZQAAABlBmnlJ4Q6JlMCG//6nhAANK6tIIRP8t6qAAAAAHkGam0nhDyZTBRE8M//+nhAAUavc1xz+HObzq7xhjQAAAA8BnrpqQr8AEN2eW4bNqqMAAAAYQZq8SeEPJlMCGf/+nhAAU+vcaF033XJNAAAAG0Ga3UnhDyZTAhv//qeEACCoAs220BgH9/EyoQAAABlBmv5J4Q8mUwIb//6nhAAzdIn+pHRpDW3AAAAAG0GbAUnhDyZTAhv//qeEAE/91P2q8tnwW1sO4AAAABJBnz9FETwr/wA/j8DoSWFrZ8EAAAAOAZ9AakK/AD+BAswcDmYAAAAZQZtCSahBaJlMCG///qeEADJ+wevZnwRYWwAAACBBm2RJ4QpSZTBREsN//qeEADE/AYG5/LWpOM1TW6JZXgAAABABn4NqQr8AJ826KrOPwH6xAAAAGkGbhUnhDomUwId//qmWAA9XxCHzyqzNswODAAAAEUGbqUnhDyZTAhv//qeEAAEnAAAAE0Gfx0URPC//ABHfQQTc365DRt0AAAAQAZ/mdEK/ABiAAAyS3+vKQAAAABABn+hqQr8AGIdqW4bNqkuAAAAAHkGb7UmoQWiZTAhv//6nhAAyfrDcyyxMjuPg1pbDzQAAABVBngtFESwv/wAdtOneb365EhZaNmAAAAAPAZ4qdEK/ABnJD8b1BGyzAAAAEAGeLGpCvwAo9jy3DZtT8IEAAAAZQZouSahBbJlMCG///qeEADJ+wevZnwRYWwAAABpBmlFJ4QpSZTAhv/6nhABLvo5+SLb/stv+PQAAABJBnm9FNEwr/wA8z8DopaSwZ/wAAAAPAZ6QakK/ADzBEzU0Dj/gAAAAG0GalUmoQWiZTAhv//6nhAAyfsH+cqQioRzDKQAAABVBnrNFESwv/wAdr+K2lcrkSOdvr1gAAAAQAZ7SdEK/ACoWjvK2UPTlgAAAAA8BntRqQr8AGwIvmbZkbJ8AAAAaQZrWSahBbJlMCG///qeEADD0if6rfMfiQ8AAAAAfQZr4SeEKUmUwUVLDf/6nhABJR81TWbc146fCGc4bHQAAABABnxdqQr8AO2z5jdDkg5A5AAAAHkGbGknhDomUwUTDv/6plgA3kFnKDNAp9Kp5/u09IAAAABABnzlqQr8AXRRomRNKzdlBAAAAEkGbPknhDyZTAh3//qmWAACVgAAAAAxBn1xFETwv/wAAsoEAAAAQAZ97dEK/AFntrbp2XZV/gQAAAA8Bn31qQr8AXThQa+7trZgAAAAhQZtiSahBaJlMCG///qeEAKg9zWv27Xo5+VZaay4Yk+NwAAAAFUGfgEURLC//AGSSS/M24md/c9x3dQAAABABn790Qr8AhvqJE+LMUbgQAAAADwGfoWpCvwCGyuRV4An9QwAAAB1Bm6RJqEFsmUwUTDf//qeEAEW+On3Wlmam3Ra+qAAAABABn8NqQr8AOKETNN9JByFxAAAAHUGbyEnhClJlMCGf/p4QALZ8Tvw/PS+5lleJ0MDDAAAAFUGf5kU0TC//ABuhHGM5Zcbh4R8IWQAAABABngV0Qr8AJruO8rZQ9PGBAAAAEAGeB2pCvwAZxm5rjxVtTqAAAAAZQZoJSahBaJlMCG///qeEABT8VpBCJ/luqwAAABhBmipJ4QpSZTAhv/6nhAAVjFaQQif5bqMAAAAdQZpNSeEOiZTAhv/+p4QAFa91P3o06OZZYmR3S+8AAAASQZ5rRRE8K/8AEdzRvNO5S9tdAAAAEAGejGpCvwASXNG80xVtZMEAAAAcQZqOSahBaJlMCG///qeEAA6PsrAhP8JwW6FRIQAAAB5BmrJJ4QpSZTAhn/6eEAAl3xD+Lo6fXI3ZrnK1PhEAAAARQZ7QRTRML/8ABdGNtwyDDOAAAAAQAZ7vdEK/AAfFsDW0yh7lwAAAAA8BnvFqQr8ABQ7KN1nq0SkAAAAZQZrzSahBaJlMCGf//p4QABifX3dpzdxfvAAAABhBmxRJ4QpSZTAhn/6eEAAX/193ac3cX9wAAAAYQZs1SeEOiZTAhv/+p4QABf/YPXsz4IxNAAAAGEGbVknhDyZTAhv//qeEAAXX3U4/w+rcawAAAB5Bm3hJ4Q8mUwURPDf//qeEAAi3x0x/ia41RB83iVMAAAAQAZ+XakK/AAcTnDXvNK0fwQAAAB1Bm5pJ4Q8mUwU8N//+p4QACHfHT3ebr762YoSAIwAAABABn7lqQr8ABuiO3OtDDBHBAAAAFkGbvknhDyZTAhv//qeEAAN377Pt6kAAAAAOQZ/cRRE8L/8AAgtANmEAAAAQAZ/7dEK/AARJUjvwAfdbQQAAABABn/1qQr8ABsErYwgafb/gAAAAHEGb4EmoQWiZTBTw3/6nhAAH7B4muNUS/RP8kkgAAAAQAZ4fakK/AAbAFjXvNK0jwQAAABxBmgJJ4QpSZTBSwz/+nhAAL6vuuI5/SOvv6a2gAAAAEAGeIWpCvwAKOo0TImlaFUEAAAAcQZokSeEOiZTBRMM//p4QAEtEOVbgvO19ffb0cAAAABABnkNqQr8AD4sweTA9fASBAAAAGEGaRUnhDyZTAhn//p4QAE1EOP54L+SK7QAAABhBmmZJ4Q8mUwIZ//6eEABPa9xoXTfdcpUAAAAYQZqHSeEPJlMCGf/+nhAAUavcaF033XJtAAAAGEGaqEnhDyZTAhn//p4QAFPr3GhdN91yTAAAABhBmslJ4Q8mUwIb//6nhAAWHFaQQif5bpsAAAAXQZrqSeEPJlMCG//+p4QAFqxWjqobbpMAAAAYQZsLSeEPJlMCHf/+qZYAEYRYbopwQbI4AAAAIEGbLUnhDyZTBRE8O//+qZYAG0+FGVWcoM0CTryj873oAAAAEAGfTGpCvwAsWDruH2zaT3EAAAASQZtRSeEPJlMCHf/+qZYAAJWBAAAAE0Gfb0URPC//AB8Yls1Myy5DRIsAAAAQAZ+OdEK/ACsprRklv9c3QAAAABABn5BqQr8AKzYR5MD17m6AAAAAGUGblUmoQWiZTAh3//6plgAar2l/X9doyFMAAAAQQZ+zRREsL/8AHxTp3+b5+AAAAB8Bn9J0Qr8AK9xVj4SlT//iD8+ln/+IErFZ/8xrarYHAAAAEAGf1GpCvwArLXznWhhed8EAAAAeQZvZSahBbJlMCHf//qmWABlILOUGaBT6VRm/zgzQAAAAEEGf90UVLC//AB206jewS80AAAAPAZ4WdEK/ABsElEKYI1eBAAAAEAGeGGpCvwAo9kQm4z69PggAAAAcQZodSahBbJlMCG///qeEAE9xWqY/1bt9g/XEeQAAABVBnjtFFSwv/wAvytMYH6LFsFykH3AAAAAQAZ5adEK/ADzRmRHYsxR1SQAAABABnlxqQr8AP4zB5LmfJQ2BAAAAGkGaXkmoQWyZTAh3//6plgAoXvq+uxBuKg6QAAAAGUGaYUnhClJlMCHf/qmWABoPaXhagn9gQsAAAAASQZ6fRTRMK/8AKg2AIBTAOUJBAAAAEAGeoGpCvwAo9kQm4z69PggAAAAcQZqlSahBaJlMCG///qeEAEtHzVNZtzXjp9q9qQAAABBBnsNFESwv/wAtbLFQgpaQAAAAEAGe4nRCvwA80ZkR2LMUdUkAAAAPAZ7kakK/AD4c4bA5Tf+BAAAAHEGa50moQWyZTBRMO//+qZYAJj9Lp5/vjpQInakAAAAQAZ8GakK/ADzBEzTfSQcf8QAAABFBmwtJ4QpSZTAhv/6nhAABJwAAABNBnylFNEwv/wAduJblMx8xEVepAAAAEAGfSHRCvwAqFo7ytlD05YEAAAAQAZ9KakK/ACj2RCbjPr0+CAAAABxBm09JqEFomUwIb//+p4QAT3Fapj/Vu32D9cR4AAAAFUGfbUURLC//AC/K0xgfosWwXKQfcQAAABABn4x0Qr8APNGZEdizFHVJAAAAEAGfjmpCvwA/jMHkuZ8lDYEAAAAaQZuQSahBbJlMCHf//qmWAChe+rKrM2zAV8AAAAAaQZu0SeEKUmUwIb/+p4QATb6OfkjAC3Ra9WAAAAAUQZ/SRTRML/8ALoyxW7SvXOOXIKEAAAAQAZ/xdEK/AD4cMBklv9cSQAAAABABn/NqQr8AKhYR5LmfJVuAAAAAGkGb9UmoQWiZTAh3//6plgAaD2l4WoJ/YELBAAAAGkGaGUnhClJlMCG//qeEAEtXYrNua8dPtXtQAAAAEEGeN0U0TC//AC1ssVCClpEAAAAQAZ5WdEK/ADzRmRHYsxR1SQAAAA8BnlhqQr8APhzhsDlN/4AAAAAbQZpbSahBaJlMFPDv/qmWACY/S6ef746UCJ2pAAAAEAGeempCvwA8wRM030kHH/AAAAASQZp/SeEKUmUwId/+qZYAAJWBAAAAE0GenUU0TC//AB24luUzHzERV6kAAAAQAZ68dEK/ACoWjvK2UPTlgAAAABABnr5qQr8AKPZEJuM+vT4IAAAAHEGao0moQWiZTAhv//6nhABPcVqmP9W7fYP1xHkAAAAVQZ7BRREsL/8AL8rTGB+ixbBcpB9wAAAAEAGe4HRCvwA80ZkR2LMUdUkAAAAQAZ7iakK/AD+MweS5nyUNgAAAABpBmuRJqEFsmUwId//+qZYAKF76sqszbMBXwQAAABtBmwhJ4QpSZTAhv/6nhABNvpif+64IFui16sEAAAAUQZ8mRTRML/8ALoyxW7SvXOOXIKEAAAAQAZ9FdEK/AD4cMBklv9cSQQAAABABn0dqQr8AKhYR5LmfJVuAAAAAJkGbTEmoQWiZTAhv//6nhAA2PrDcyyvGGfgUy2dnwKFKfZ5usQnwAAAAEEGfakURLC//AB/E9ZBPVTEAAAAPAZ+JdEK/ACoRjFwH5dFgAAAAEAGfi2pCvwAsVhHkuZ8lUYAAAAAaQZuNSahBbJlMCG///qeEADY++zH+H1bb5YEAAAAcQZuvSeEKUmUwUVLDf/6nhAA0/sH+cqQioRzCmQAAABABn85qQr8AKy1851oYXnfBAAAAHkGb0UnhDomUwUTDv/6plgAZSCzlBmgU+lWUfsUmgAAAABABn/BqQr8AKPZEJuM+vT4IAAAAG0Gb9UnhDyZTAhv//qeEAE9xWqY/1bt9g/XEeQAAABVBnhNFETwv/wAvytMYH6LFsFykH3AAAAAQAZ4ydEK/ADzRmRHYsxR1SAAAABABnjRqQr8AP4zB5LmfJQ2BAAAAGkGaNkmoQWiZTAh3//6plgAoXvqyqzNswFfAAAAAGkGaWknhClJlMCG//qeEAE2+jn5IwAt0WvVhAAAAFEGeeEU0TC//AC6MsVu0r1zjlyChAAAAEAGel3RCvwA+HDAZJb/XEkAAAAAQAZ6ZakK/ACoWEeS5nyVbgQAAABlBmp1JqEFomUwIb//+p4QAM77B69mfBFhTAAAAEkGeu0URLCv/ACoNgCAUwDlCQQAAABABntxqQr8AKPZEJuM+vT4JAAAAHUGawUmoQWyZTAhv//6nhABPcVqmP9W7fZXKPc+9AAAAFUGe/0UVLC//AC/K0xgfosWwXKQfcAAAABABnx50Qr8APNGZEdizFHVJAAAAEAGfAGpCvwA/jMHkuZ8lDYAAAAAZQZsCSahBbJlMCG///qeEAE/91OP8Pq23OwAAABFBmyZJ4QpSZTAhn/6eEAAEfAAAAAxBn0RFNEwv/wAAsoEAAAAQAZ9jdEK/AD2LAMR2XZW7gQAAABABn2VqQr8AP3zhr6oOnl/NAAAAGkGbaUuoQhBaJEYIKAfyAf2HgCFf/jhAABFxAAAAJ0Gfh0URLCv/Aq9j7UHE3arDSSblqoYHLLW9Htoi0m1n3Fmcp/DBmgAAACUBn6hqQr8Cr2PtQcTdqsNJJuWqhgcstb0WbD1bYHPJ7sFlAs5gAAALsG1vb3YAAABsbXZoZAAAAAAAAAAAAAAAAAAAA+gAAB+QAAEAAAEAAAAAAAAAAAAAAAABAAAAAAAAAAAAAAAAAAAAAQAAAAAAAAAAAAAAAAAAQAAAAAAAAAAAAAAAAAAAAAAAAAAAAAAAAAAAAAAAAAIAAAradHJhawAAAFx0a2hkAAAAAwAAAAAAAAAAAAAAAQAAAAAAAB+QAAAAAAAAAAAAAAAAAAAAAAABAAAAAAAAAAAAAAAAAAAAAQAAAAAAAAAAAAAAAAAAQAAAAAEQAAABEAAAAAAAJGVkdHMAAAAcZWxzdAAAAAAAAAABAAAfkAAABAAAAQAAAAAKUm1kaWEAAAAgbWRoZAAAAAAAAAAAAAAAAAAAMgAAAZQAVcQAAAAAAC1oZGxyAAAAAAAAAAB2aWRlAAAAAAAAAAAAAAAAVmlkZW9IYW5kbGVyAAAACf1taW5mAAAAFHZtaGQAAAABAAAAAAAAAAAAAAAkZGluZgAAABxkcmVmAAAAAAAAAAEAAAAMdXJsIAAAAAEAAAm9c3RibAAAAJVzdHNkAAAAAAAAAAEAAACFYXZjMQAAAAAAAAABAAAAAAAAAAAAAAAAAAAAAAEQARAASAAAAEgAAAAAAAAAAQAAAAAAAAAAAAAAAAAAAAAAAAAAAAAAAAAAAAAAAAAAABj//wAAAC9hdmNDAfQADf/hABdn9AANkZsoIhHQgAAAAwCAAAAZB4oUywEABWjr48RIAAAAGHN0dHMAAAAAAAAAAQAAAMoAAAIAAAAAFHN0c3MAAAAAAAAAAQAAAAEAAAWIY3R0cwAAAAAAAACvAAAAAwAABAAAAAABAAAGAAAAAAEAAAIAAAAAAgAABAAAAAABAAAGAAAAAAEAAAIAAAAAAQAABgAAAAABAAACAAAAAAEAAAYAAAAAAQAAAgAAAAADAAAEAAAAAAEAAAgAAAAAAgAAAgAAAAABAAAEAAAAAAEAAAgAAAAAAgAAAgAAAAADAAAEAAAAAAEAAAYAAAAAAQAAAgAAAAADAAAEAAAAAAEAAAgAAAAAAgAAAgAAAAABAAAEAAAAAAEAAAYAAAAAAQAAAgAAAAABAAAEAAAAAAEAAAoAAAAAAQAABAAAAAABAAAAAAAAAAEAAAIAAAAAAQAACgAAAAABAAAEAAAAAAEAAAAAAAAAAQAAAgAAAAABAAAEAAAAAAEAAAgAAAAAAgAAAgAAAAABAAAKAAAAAAEAAAQAAAAAAQAAAAAAAAABAAACAAAAAAEAAAQAAAAAAQAABgAAAAABAAACAAAAAAEAAAYAAAAAAQAAAgAAAAABAAAKAAAAAAEAAAQAAAAAAQAAAAAAAAABAAACAAAAAAEAAAoAAAAAAQAABAAAAAABAAAAAAAAAAEAAAIAAAAAAQAABgAAAAABAAACAAAAAAEAAAoAAAAAAQAABAAAAAABAAAAAAAAAAEAAAIAAAAAAgAABAAAAAABAAAIAAAAAAIAAAIAAAAAAQAABAAAAAABAAAKAAAAAAEAAAQAAAAAAQAAAAAAAAABAAACAAAAAAQAAAQAAAAAAQAABgAAAAABAAACAAAAAAEAAAYAAAAAAQAAAgAAAAABAAAKAAAAAAEAAAQAAAAAAQAAAAAAAAABAAACAAAAAAEAAAYAAAAAAQAAAgAAAAABAAAGAAAAAAEAAAIAAAAAAQAABgAAAAABAAACAAAAAAcAAAQAAAAAAQAABgAAAAABAAACAAAAAAEAAAoAAAAAAQAABAAAAAABAAAAAAAAAAEAAAIAAAAAAQAACgAAAAABAAAEAAAAAAEAAAAAAAAAAQAAAgAAAAABAAAKAAAAAAEAAAQAAAAAAQAAAAAAAAABAAACAAAAAAEAAAoAAAAAAQAABAAAAAABAAAAAAAAAAEAAAIAAAAAAQAABAAAAAABAAAIAAAAAAIAAAIAAAAAAQAACgAAAAABAAAEAAAAAAEAAAAAAAAAAQAAAgAAAAABAAAGAAAAAAEAAAIAAAAAAQAACgAAAAABAAAEAAAAAAEAAAAAAAAAAQAAAgAAAAABAAAKAAAAAAEAAAQAAAAAAQAAAAAAAAABAAACAAAAAAEAAAQAAAAAAQAACgAAAAABAAAEAAAAAAEAAAAAAAAAAQAAAgAAAAABAAAEAAAAAAEAAAoAAAAAAQAABAAAAAABAAAAAAAAAAEAAAIAAAAAAQAABgAAAAABAAACAAAAAAEAAAoAAAAAAQAABAAAAAABAAAAAAAAAAEAAAIAAAAAAQAACgAAAAABAAAEAAAAAAEAAAAAAAAAAQAAAgAAAAABAAAEAAAAAAEAAAoAAAAAAQAABAAAAAABAAAAAAAAAAEAAAIAAAAAAQAACgAAAAABAAAEAAAAAAEAAAAAAAAAAQAAAgAAAAABAAAEAAAAAAEAAAYAAAAAAQAAAgAAAAABAAAGAAAAAAEAAAIAAAAAAQAACgAAAAABAAAEAAAAAAEAAAAAAAAAAQAAAgAAAAABAAAEAAAAAAEAAAoAAAAAAQAABAAAAAABAAAAAAAAAAEAAAIAAAAAAQAACAAAAAACAAACAAAAAAEAAAoAAAAAAQAABAAAAAABAAAAAAAAAAEAAAIAAAAAAQAABAAAAAABAAAKAAAAAAEAAAQAAAAAAQAAAAAAAAABAAACAAAAAAEAAAgAAAAAAgAAAgAAAAAcc3RzYwAAAAAAAAABAAAAAQAAAMoAAAABAAADPHN0c3oAAAAAAAAAAAAAAMoAAAXdAAAAFwAAABwAAAAfAAAAFAAAABwAAAAcAAAAIwAAABQAAAAhAAAAFAAAACMAAAAUAAAAHAAAABwAAAAdAAAAHwAAABUAAAASAAAAHQAAAB0AAAAVAAAAEgAAAB0AAAAcAAAAHQAAACIAAAATAAAAHAAAAB8AAAAdAAAAHwAAABYAAAASAAAAHQAAACQAAAAUAAAAHgAAABUAAAAXAAAAFAAAABQAAAAiAAAAGQAAABMAAAAUAAAAHQAAAB4AAAAWAAAAEwAAAB8AAAAZAAAAFAAAABMAAAAeAAAAIwAAABQAAAAiAAAAFAAAABYAAAAQAAAAFAAAABMAAAAlAAAAGQAAABQAAAATAAAAIQAAABQAAAAhAAAAGQAAABQAAAAUAAAAHQAAABwAAAAhAAAAFgAAABQAAAAgAAAAIgAAABUAAAAUAAAAEwAAAB0AAAAcAAAAHAAAABwAAAAiAAAAFAAAACEAAAAUAAAAGgAAABIAAAAUAAAAFAAAACAAAAAUAAAAIAAAABQAAAAgAAAAFAAAABwAAAAcAAAAHAAAABwAAAAcAAAAGwAAABwAAAAkAAAAFAAAABYAAAAXAAAAFAAAABQAAAAdAAAAFAAAACMAAAAUAAAAIgAAABQAAAATAAAAFAAAACAAAAAZAAAAFAAAABQAAAAeAAAAHQAAABYAAAAUAAAAIAAAABQAAAAUAAAAEwAAACAAAAAUAAAAFQAAABcAAAAUAAAAFAAAACAAAAAZAAAAFAAAABQAAAAeAAAAHgAAABgAAAAUAAAAFAAAAB4AAAAeAAAAFAAAABQAAAATAAAAHwAAABQAAAAWAAAAFwAAABQAAAAUAAAAIAAAABkAAAAUAAAAFAAAAB4AAAAfAAAAGAAAABQAAAAUAAAAKgAAABQAAAATAAAAFAAAAB4AAAAgAAAAFAAAACIAAAAUAAAAHwAAABkAAAAUAAAAFAAAAB4AAAAeAAAAGAAAABQAAAAUAAAAHQAAABYAAAAUAAAAIQAAABkAAAAUAAAAFAAAAB0AAAAVAAAAEAAAABQAAAAUAAAAHgAAACsAAAApAAAAFHN0Y28AAAAAAAAAAQAAADAAAABidWR0YQAAAFptZXRhAAAAAAAAACFoZGxyAAAAAAAAAABtZGlyYXBwbAAAAAAAAAAAAAAAAC1pbHN0AAAAJal0b28AAAAdZGF0YQAAAAEAAAAATGF2ZjU3LjgzLjEwMA==\" type=\"video/mp4\" />\n",
       "             </video>"
      ],
      "text/plain": [
       "<IPython.core.display.HTML object>"
      ]
     },
     "execution_count": 58,
     "metadata": {},
     "output_type": "execute_result"
    }
   ],
   "source": [
    "agent = DQN_FC1(size, lr=.1, epsilon = 0.1, memory_size=2000, batch_size = 64)\n",
    "print('Training the mouse...')\n",
    "train(agent,env,epochs_train,prefix='fc_train',display_loss=True)\n",
    "print('...Done.')\n",
    "print('Testing the mouse:')\n",
    "test(agent,env,epochs_test,prefix='fc_test',display_score=True)\n",
    "HTML(display_videos('fc_test20.mp4'))"
   ]
  },
  {
   "cell_type": "markdown",
   "metadata": {
    "colab_type": "text",
    "id": "Se9ypjH9coOp"
   },
   "source": [
    "***\n",
    "***\n",
    "__Question 8__ Implement the DQN training algorithm using a CNN (for example, 2 convolutional layers and one final fully connected layer)."
   ]
  },
  {
   "cell_type": "code",
   "execution_count": 35,
   "metadata": {},
   "outputs": [],
   "source": [
    "class DQN_CNN1(DQN):\n",
    "    def __init__(self, *args,lr=0.1,**kwargs):\n",
    "        super(DQN_CNN1, self).__init__(*args,**kwargs)\n",
    "        \n",
    "        # CNN model\n",
    "        model = Sequential([Conv2D(30, kernel_size=(2,2), input_shape=(5, 5, self.n_state)),\n",
    "            BatchNormalization(),\n",
    "            Flatten(),\n",
    "            Dense(4)])\n",
    "        \n",
    "        model.compile(sgd(lr=lr, decay=1e-4, momentum=0.0), \"mse\")\n",
    "        self.model = model"
   ]
  },
  {
   "cell_type": "code",
   "execution_count": 44,
   "metadata": {
    "colab": {},
    "colab_type": "code",
    "id": "7HyTSmWkcoOr"
   },
   "outputs": [],
   "source": [
    "class DQN_CNN2(DQN):\n",
    "    def __init__(self, *args,lr=0.1,**kwargs):\n",
    "        super(DQN_CNN2, self).__init__(*args,**kwargs)\n",
    "        \n",
    "        # CNN model\n",
    "        model = Sequential([Conv2D(30, kernel_size=(2,2), input_shape=(5, 5, self.n_state)),\n",
    "            BatchNormalization(),\n",
    "            Conv2D(15, kernel_size=(2,2)),\n",
    "            BatchNormalization(),\n",
    "            Flatten(),\n",
    "            Dense(4)])\n",
    "        \n",
    "        model.compile(sgd(lr=lr, decay=1e-4, momentum=0.0), \"mse\")\n",
    "        self.model = model"
   ]
  },
  {
   "cell_type": "code",
   "execution_count": 13,
   "metadata": {},
   "outputs": [],
   "source": [
    "class DQN_CNN3(DQN):\n",
    "    def __init__(self, *args,lr=0.1,**kwargs):\n",
    "        super(DQN_CNN3, self).__init__(*args,**kwargs)\n",
    "        \n",
    "        # CNN model\n",
    "        model = Sequential([Conv2D(30, kernel_size=(2,2), input_shape=(5, 5, self.n_state)),\n",
    "            BatchNormalization(),\n",
    "            Conv2D(30, kernel_size=(2,2)),\n",
    "            BatchNormalization(),\n",
    "            Conv2D(15, kernel_size=(2,2)),\n",
    "            BatchNormalization(),\n",
    "            Flatten(),\n",
    "            Dense(4)])\n",
    "        \n",
    "        model.compile(sgd(lr=lr, decay=1e-4, momentum=0.0), \"mse\")\n",
    "        self.model = model"
   ]
  },
  {
   "cell_type": "code",
   "execution_count": 48,
   "metadata": {},
   "outputs": [],
   "source": [
    "class DQN_CNN4(DQN):\n",
    "    def __init__(self, *args,lr=0.1,**kwargs):\n",
    "        super(DQN_CNN4, self).__init__(*args,**kwargs)\n",
    "        \n",
    "        # CNN model\n",
    "        model = Sequential([Conv2D(30, kernel_size=(2,2), input_shape=(5, 5, self.n_state)),\n",
    "            BatchNormalization(),\n",
    "            Conv2D(60, kernel_size=(2,2)),\n",
    "            BatchNormalization(),\n",
    "            Conv2D(120, kernel_size=(2,2)),\n",
    "            BatchNormalization(),\n",
    "            Flatten(),\n",
    "            Dense(4)])\n",
    "        \n",
    "        model.compile(sgd(lr=lr, decay=1e-4, momentum=0.0), \"mse\")\n",
    "        self.model = model"
   ]
  },
  {
   "cell_type": "code",
   "execution_count": 50,
   "metadata": {},
   "outputs": [],
   "source": [
    "class DQN_CNN5(DQN):\n",
    "    def __init__(self, *args,lr=0.1,**kwargs):\n",
    "        super(DQN_CNN5, self).__init__(*args,**kwargs)\n",
    "        \n",
    "        # CNN model\n",
    "        model = Sequential([Conv2D(30, kernel_size=(2,2), input_shape=(5, 5, self.n_state)),\n",
    "            BatchNormalization(),\n",
    "            Conv2D(60, kernel_size=(2,2)),\n",
    "            BatchNormalization(),\n",
    "            Flatten(),\n",
    "            Dense(4)])\n",
    "        \n",
    "        model.compile(sgd(lr=lr, decay=1e-4, momentum=0.0), \"mse\")\n",
    "        self.model = model"
   ]
  },
  {
   "cell_type": "markdown",
   "metadata": {},
   "source": [
    "Tests made with the following parameters **fixed** <br>\n",
    "Learning Rate: 0.1, Memory: 2000, Batch Size: 32 "
   ]
  },
  {
   "cell_type": "markdown",
   "metadata": {},
   "source": [
    "| Model used | Averaged Test Score (Over 100 epochs) |\n",
    "|------------|---------------------------------------|\n",
    "| DQN_CNN1   | -0.98                                 |\n",
    "| DQN_CNN2   | -1.00                                 |\n",
    "|**DQN_CNN3**| **9.6**                               |\n",
    "| DQN_CNN4   | -0.90                                 |\n",
    "| DQN_CNN5   | -0.81                                 |"
   ]
  },
  {
   "cell_type": "markdown",
   "metadata": {},
   "source": [
    "**Trying to improve the performance by increasing batch size**"
   ]
  },
  {
   "cell_type": "markdown",
   "metadata": {},
   "source": [
    "Tests made with the following parameters **fixed** <br>\n",
    "Model: DQN_CNN3, Memory: 2000, Learning Rate: 0.1 "
   ]
  },
  {
   "cell_type": "markdown",
   "metadata": {},
   "source": [
    "| Batch Size | Averaged Test Score (Over 100 epochs) |\n",
    "|------------|---------------------------------------|\n",
    "| **32**     | **9.6**                               |\n",
    "| 64         | 7.31                                  |\n",
    "| 256        | 5.39                                  |"
   ]
  },
  {
   "cell_type": "markdown",
   "metadata": {},
   "source": [
    "**Trying different memory size**"
   ]
  },
  {
   "cell_type": "markdown",
   "metadata": {},
   "source": [
    "Tests made with the following parameters **fixed** <br>\n",
    "Model: DQN_CNN3, Learning Rate: 0.1, Batch Size: 32 "
   ]
  },
  {
   "cell_type": "markdown",
   "metadata": {},
   "source": [
    "| Memory | Averaged Test Score (Over 100 epochs) |\n",
    "|--------|---------------------------------------|\n",
    "| 250    | 0.915                                 |\n",
    "| 500    | 6.535                                 |\n",
    "| 1000   | 5.53                                  |\n",
    "| 2000   | 9.60                                  |\n",
    "|**5000**| **11.83**                             |"
   ]
  },
  {
   "cell_type": "markdown",
   "metadata": {},
   "source": [
    "**Trying different learning rates**"
   ]
  },
  {
   "cell_type": "markdown",
   "metadata": {},
   "source": [
    "Tests made with the following parameters **fixed** <br>\n",
    "Model: DQN_CNN3, Memory: 5000, Batch Size: 32 "
   ]
  },
  {
   "cell_type": "markdown",
   "metadata": {},
   "source": [
    "| Learning Rate | Averaged Test Score (Over 100 epochs) |\n",
    "|---------------|---------------------------------------|\n",
    "| 0.01          | 10.69                                 |\n",
    "| 0.05          | 7.80                                  |\n",
    "| **0.1**       | **11.83**                             |\n",
    "| 0.2           | -0.91                                 |\n",
    "| 0.5           | -1.10                                 |"
   ]
  },
  {
   "cell_type": "markdown",
   "metadata": {},
   "source": [
    "***"
   ]
  },
  {
   "cell_type": "markdown",
   "metadata": {},
   "source": [
    "Here is the CNN agent I'll be keeping : "
   ]
  },
  {
   "cell_type": "code",
   "execution_count": 88,
   "metadata": {
    "scrolled": true
   },
   "outputs": [
    {
     "name": "stdout",
     "output_type": "stream",
     "text": [
      "Training the mouse...\n",
      "Epoch 001/100 | Loss 0.0421 | Win/lose count 6.5/10.0 (-3.5)\n",
      "Epoch 002/100 | Loss 0.0753 | Win/lose count 1.5/4.0 (-2.5)\n",
      "Epoch 003/100 | Loss 0.0485 | Win/lose count 2.0/5.0 (-3.0)\n",
      "Epoch 004/100 | Loss 0.0323 | Win/lose count 2.0/5.0 (-3.0)\n",
      "Epoch 005/100 | Loss 0.2320 | Win/lose count 4.5/3.0 (1.5)\n",
      "Epoch 006/100 | Loss 0.2091 | Win/lose count 4.0/4.0 (0.0)\n",
      "Epoch 007/100 | Loss 0.4633 | Win/lose count 4.5/3.0 (1.5)\n",
      "Epoch 008/100 | Loss 0.9421 | Win/lose count 2.5/9.0 (-6.5)\n",
      "Epoch 009/100 | Loss 2.3085 | Win/lose count 3.0/10.0 (-7.0)\n",
      "Epoch 010/100 | Loss 2.2331 | Win/lose count 6.5/3.0 (3.5)\n",
      "Epoch 011/100 | Loss 2.1865 | Win/lose count 5.5/2.0 (3.5)\n",
      "Epoch 012/100 | Loss 2.1577 | Win/lose count 6.5/1.0 (5.5)\n",
      "Epoch 013/100 | Loss 1.9091 | Win/lose count 10.5/1.0 (9.5)\n",
      "Epoch 014/100 | Loss 1.9652 | Win/lose count 8.5/0 (8.5)\n",
      "Epoch 015/100 | Loss 1.8736 | Win/lose count 8.0/0 (8.0)\n",
      "Epoch 016/100 | Loss 1.9354 | Win/lose count 5.5/2.0 (3.5)\n",
      "Epoch 017/100 | Loss 1.7461 | Win/lose count 5.0/1.0 (4.0)\n",
      "Epoch 018/100 | Loss 2.0071 | Win/lose count 1.0/4.0 (-3.0)\n",
      "Epoch 019/100 | Loss 1.9916 | Win/lose count 7.0/2.0 (5.0)\n",
      "Epoch 020/100 | Loss 2.0157 | Win/lose count 7.0/3.0 (4.0)\n",
      "Epoch 021/100 | Loss 1.9297 | Win/lose count 4.5/4.0 (0.5)\n",
      "Epoch 022/100 | Loss 2.0483 | Win/lose count 7.0/0 (7.0)\n",
      "Epoch 023/100 | Loss 1.7982 | Win/lose count 11.5/5.0 (6.5)\n",
      "Epoch 024/100 | Loss 1.8962 | Win/lose count 4.5/5.0 (-0.5)\n",
      "Epoch 025/100 | Loss 1.9371 | Win/lose count 6.5/5.0 (1.5)\n",
      "Epoch 026/100 | Loss 1.9158 | Win/lose count 8.0/2.0 (6.0)\n",
      "Epoch 027/100 | Loss 1.8822 | Win/lose count 15.0/6.0 (9.0)\n",
      "Epoch 028/100 | Loss 1.8039 | Win/lose count 13.5/2.0 (11.5)\n",
      "Epoch 029/100 | Loss 2.0935 | Win/lose count 9.5/2.0 (7.5)\n",
      "Epoch 030/100 | Loss 1.9568 | Win/lose count 10.0/3.0 (7.0)\n",
      "Epoch 031/100 | Loss 1.8753 | Win/lose count 19.5/4.0 (15.5)\n",
      "Epoch 032/100 | Loss 1.9827 | Win/lose count 20.5/2.0 (18.5)\n",
      "Epoch 033/100 | Loss 1.8756 | Win/lose count 14.0/3.0 (11.0)\n",
      "Epoch 034/100 | Loss 1.9265 | Win/lose count 12.0/1.0 (11.0)\n",
      "Epoch 035/100 | Loss 1.8483 | Win/lose count 5.0/1.0 (4.0)\n",
      "Epoch 036/100 | Loss 1.8176 | Win/lose count 20.5/5.0 (15.5)\n",
      "Epoch 037/100 | Loss 1.7812 | Win/lose count 17.5/3.0 (14.5)\n",
      "Epoch 038/100 | Loss 1.8177 | Win/lose count 13.5/3.0 (10.5)\n",
      "Epoch 039/100 | Loss 1.8373 | Win/lose count 9.0/1.0 (8.0)\n",
      "Epoch 040/100 | Loss 1.8010 | Win/lose count 10.5/2.0 (8.5)\n",
      "Epoch 041/100 | Loss 1.8876 | Win/lose count 14.0/1.0 (13.0)\n",
      "Epoch 042/100 | Loss 1.8447 | Win/lose count 7.0/1.0 (6.0)\n",
      "Epoch 043/100 | Loss 1.9111 | Win/lose count 12.0/1.0 (11.0)\n",
      "Epoch 044/100 | Loss 1.8647 | Win/lose count 5.5/2.0 (3.5)\n",
      "Epoch 045/100 | Loss 1.7663 | Win/lose count 9.5/2.0 (7.5)\n",
      "Epoch 046/100 | Loss 1.8801 | Win/lose count 12.5/7.0 (5.5)\n",
      "Epoch 047/100 | Loss 1.8538 | Win/lose count 7.0/3.0 (4.0)\n",
      "Epoch 048/100 | Loss 1.8412 | Win/lose count 6.5/3.0 (3.5)\n",
      "Epoch 049/100 | Loss 1.8005 | Win/lose count 11.5/4.0 (7.5)\n",
      "Epoch 050/100 | Loss 1.7976 | Win/lose count 13.0/0 (13.0)\n",
      "Epoch 051/100 | Loss 1.8343 | Win/lose count 9.0/1.0 (8.0)\n",
      "Epoch 052/100 | Loss 1.8142 | Win/lose count 10.5/2.0 (8.5)\n",
      "Epoch 053/100 | Loss 1.7835 | Win/lose count 7.5/1.0 (6.5)\n",
      "Epoch 054/100 | Loss 1.7212 | Win/lose count 4.5/2.0 (2.5)\n",
      "Epoch 055/100 | Loss 1.8359 | Win/lose count 15.0/3.0 (12.0)\n",
      "Epoch 056/100 | Loss 1.7235 | Win/lose count 8.0/3.0 (5.0)\n",
      "Epoch 057/100 | Loss 1.8423 | Win/lose count 21.0/1.0 (20.0)\n",
      "Epoch 058/100 | Loss 1.8091 | Win/lose count 14.5/0 (14.5)\n",
      "Epoch 059/100 | Loss 1.8453 | Win/lose count 5.0/2.0 (3.0)\n",
      "Epoch 060/100 | Loss 1.8161 | Win/lose count 8.0/3.0 (5.0)\n",
      "Epoch 061/100 | Loss 1.7910 | Win/lose count 7.5/0 (7.5)\n",
      "Epoch 062/100 | Loss 1.7844 | Win/lose count 15.5/2.0 (13.5)\n",
      "Epoch 063/100 | Loss 1.7205 | Win/lose count 14.0/0 (14.0)\n",
      "Epoch 064/100 | Loss 1.7828 | Win/lose count 12.0/3.0 (9.0)\n",
      "Epoch 065/100 | Loss 1.7420 | Win/lose count 15.0/2.0 (13.0)\n",
      "Epoch 066/100 | Loss 1.7780 | Win/lose count 12.5/0 (12.5)\n",
      "Epoch 067/100 | Loss 1.8675 | Win/lose count 5.5/2.0 (3.5)\n",
      "Epoch 068/100 | Loss 1.8039 | Win/lose count 12.5/2.0 (10.5)\n",
      "Epoch 069/100 | Loss 1.8051 | Win/lose count 3.5/1.0 (2.5)\n",
      "Epoch 070/100 | Loss 1.7949 | Win/lose count 5.0/3.0 (2.0)\n",
      "Epoch 071/100 | Loss 1.7706 | Win/lose count 4.5/1.0 (3.5)\n",
      "Epoch 072/100 | Loss 1.7254 | Win/lose count 6.5/5.0 (1.5)\n",
      "Epoch 073/100 | Loss 1.7712 | Win/lose count 18.5/3.0 (15.5)\n",
      "Epoch 074/100 | Loss 1.7331 | Win/lose count 10.5/4.0 (6.5)\n",
      "Epoch 075/100 | Loss 1.8157 | Win/lose count 14.5/6.0 (8.5)\n",
      "Epoch 076/100 | Loss 1.8219 | Win/lose count 7.5/3.0 (4.5)\n",
      "Epoch 077/100 | Loss 1.7074 | Win/lose count 7.5/3.0 (4.5)\n",
      "Epoch 078/100 | Loss 1.7969 | Win/lose count 10.0/3.0 (7.0)\n",
      "Epoch 079/100 | Loss 1.8301 | Win/lose count 16.5/0 (16.5)\n",
      "Epoch 080/100 | Loss 1.7517 | Win/lose count 11.5/0 (11.5)\n",
      "Epoch 081/100 | Loss 1.7817 | Win/lose count 9.5/3.0 (6.5)\n",
      "Epoch 082/100 | Loss 1.7307 | Win/lose count 5.5/2.0 (3.5)\n",
      "Epoch 083/100 | Loss 1.7484 | Win/lose count 5.5/3.0 (2.5)\n",
      "Epoch 084/100 | Loss 1.7607 | Win/lose count 12.0/4.0 (8.0)\n",
      "Epoch 085/100 | Loss 1.6557 | Win/lose count 9.0/3.0 (6.0)\n",
      "Epoch 086/100 | Loss 1.7607 | Win/lose count 12.5/3.0 (9.5)\n",
      "Epoch 087/100 | Loss 1.7825 | Win/lose count 6.0/2.0 (4.0)\n",
      "Epoch 088/100 | Loss 1.7122 | Win/lose count 9.5/1.0 (8.5)\n",
      "Epoch 089/100 | Loss 1.7352 | Win/lose count 11.5/3.0 (8.5)\n",
      "Epoch 090/100 | Loss 1.7071 | Win/lose count 12.5/2.0 (10.5)\n",
      "Epoch 091/100 | Loss 1.7270 | Win/lose count 17.0/5.0 (12.0)\n",
      "Epoch 092/100 | Loss 1.7964 | Win/lose count 13.5/0 (13.5)\n",
      "Epoch 093/100 | Loss 1.7683 | Win/lose count 13.5/3.0 (10.5)\n",
      "Epoch 094/100 | Loss 1.7041 | Win/lose count 6.5/1.0 (5.5)\n",
      "Epoch 095/100 | Loss 1.7776 | Win/lose count 20.0/1.0 (19.0)\n",
      "Epoch 096/100 | Loss 1.7462 | Win/lose count 8.5/0 (8.5)\n",
      "Epoch 097/100 | Loss 1.8232 | Win/lose count 13.5/2.0 (11.5)\n",
      "Epoch 098/100 | Loss 1.6988 | Win/lose count 8.0/3.0 (5.0)\n",
      "Epoch 099/100 | Loss 1.7164 | Win/lose count 6.5/0 (6.5)\n",
      "Epoch 100/100 | Loss 1.6995 | Win/lose count 9.5/3.0 (6.5)\n",
      "...Done.\n",
      "Testing the mouse:\n",
      "Epoch: 1, win/lose count 12.5/2.0. Average score (10.5)\n",
      "Epoch: 2, win/lose count 5.5/0. Average score (8.0)\n",
      "Epoch: 3, win/lose count 10.5/3.0. Average score (7.833333333333333)\n",
      "Epoch: 4, win/lose count 2.5/0. Average score (6.5)\n",
      "Epoch: 5, win/lose count 9.5/1.0. Average score (6.9)\n",
      "Epoch: 6, win/lose count 5.0/6.0. Average score (5.583333333333333)\n",
      "Epoch: 7, win/lose count 20.5/6.0. Average score (6.857142857142857)\n",
      "Epoch: 8, win/lose count 4.5/1.0. Average score (6.4375)\n",
      "Epoch: 9, win/lose count 11.5/4.0. Average score (6.555555555555555)\n",
      "Epoch: 10, win/lose count 10.0/2.0. Average score (6.7)\n",
      "Epoch: 11, win/lose count 11.5/3.0. Average score (6.863636363636363)\n",
      "Epoch: 12, win/lose count 24.0/2.0. Average score (8.125)\n",
      "Epoch: 13, win/lose count 11.5/4.0. Average score (8.076923076923077)\n",
      "Epoch: 14, win/lose count 12.0/1.0. Average score (8.285714285714286)\n",
      "Epoch: 15, win/lose count 11.5/0. Average score (8.5)\n",
      "Epoch: 16, win/lose count 18.0/2.0. Average score (8.96875)\n",
      "Epoch: 17, win/lose count 13.0/3.0. Average score (9.029411764705882)\n",
      "Epoch: 18, win/lose count 7.0/0. Average score (8.916666666666666)\n",
      "Epoch: 19, win/lose count 9.0/1.0. Average score (8.868421052631579)\n",
      "Epoch: 20, win/lose count 5.5/1.0. Average score (8.65)\n",
      "Epoch: 21, win/lose count 11.5/2.0. Average score (8.69047619047619)\n",
      "Epoch: 22, win/lose count 8.0/3.0. Average score (8.522727272727273)\n",
      "Epoch: 23, win/lose count 16.0/1.0. Average score (8.804347826086957)\n",
      "Epoch: 24, win/lose count 14.5/4.0. Average score (8.875)\n",
      "Epoch: 25, win/lose count 4.5/3.0. Average score (8.58)\n",
      "Epoch: 26, win/lose count 22.5/3.0. Average score (9.0)\n",
      "Epoch: 27, win/lose count 7.0/0. Average score (8.925925925925926)\n",
      "Epoch: 28, win/lose count 23.0/2.0. Average score (9.357142857142858)\n",
      "Epoch: 29, win/lose count 6.0/2.0. Average score (9.172413793103448)\n",
      "Epoch: 30, win/lose count 13.5/1.0. Average score (9.283333333333333)\n",
      "Epoch: 31, win/lose count 6.0/0. Average score (9.17741935483871)\n",
      "Epoch: 32, win/lose count 11.5/1.0. Average score (9.21875)\n",
      "Epoch: 33, win/lose count 10.5/2.0. Average score (9.196969696969697)\n",
      "Epoch: 34, win/lose count 10.5/2.0. Average score (9.176470588235293)\n",
      "Epoch: 35, win/lose count 16.0/2.0. Average score (9.314285714285715)\n"
     ]
    },
    {
     "name": "stdout",
     "output_type": "stream",
     "text": [
      "Epoch: 36, win/lose count 9.0/1.0. Average score (9.277777777777779)\n",
      "Epoch: 37, win/lose count 9.0/1.0. Average score (9.243243243243244)\n",
      "Epoch: 38, win/lose count 4.5/2.0. Average score (9.06578947368421)\n",
      "Epoch: 39, win/lose count 11.5/1.0. Average score (9.102564102564102)\n",
      "Epoch: 40, win/lose count 8.5/6.0. Average score (8.9375)\n",
      "Epoch: 41, win/lose count 5.0/0. Average score (8.841463414634147)\n",
      "Epoch: 42, win/lose count 11.0/1.0. Average score (8.869047619047619)\n",
      "Epoch: 43, win/lose count 13.0/4.0. Average score (8.872093023255815)\n",
      "Epoch: 44, win/lose count 8.5/2.0. Average score (8.818181818181818)\n",
      "Epoch: 45, win/lose count 3.0/2.0. Average score (8.644444444444444)\n",
      "Epoch: 46, win/lose count 10.5/3.0. Average score (8.619565217391305)\n",
      "Epoch: 47, win/lose count 15.5/4.0. Average score (8.680851063829786)\n",
      "Epoch: 48, win/lose count 15.0/2.0. Average score (8.770833333333334)\n",
      "Epoch: 49, win/lose count 13.5/2.0. Average score (8.826530612244898)\n",
      "Epoch: 50, win/lose count 16.0/4.0. Average score (8.89)\n",
      "Epoch: 51, win/lose count 7.5/2.0. Average score (8.823529411764707)\n",
      "Epoch: 52, win/lose count 17.0/2.0. Average score (8.942307692307692)\n",
      "Epoch: 53, win/lose count 4.0/0. Average score (8.849056603773585)\n",
      "Epoch: 54, win/lose count 11.5/1.0. Average score (8.87962962962963)\n",
      "Epoch: 55, win/lose count 13.5/2.0. Average score (8.927272727272728)\n",
      "Epoch: 56, win/lose count 18.0/2.0. Average score (9.053571428571429)\n",
      "Epoch: 57, win/lose count 9.5/2.0. Average score (9.026315789473685)\n",
      "Epoch: 58, win/lose count 13.0/1.0. Average score (9.077586206896552)\n",
      "Epoch: 59, win/lose count 10.0/1.0. Average score (9.076271186440678)\n",
      "Epoch: 60, win/lose count 6.0/0. Average score (9.025)\n",
      "Epoch: 61, win/lose count 19.5/1.0. Average score (9.180327868852459)\n",
      "Epoch: 62, win/lose count 6.5/0. Average score (9.137096774193548)\n",
      "Epoch: 63, win/lose count 17.0/1.0. Average score (9.246031746031745)\n",
      "Epoch: 64, win/lose count 8.0/1.0. Average score (9.2109375)\n",
      "Epoch: 65, win/lose count 9.0/3.0. Average score (9.161538461538461)\n",
      "Epoch: 66, win/lose count 7.0/0. Average score (9.128787878787879)\n",
      "Epoch: 67, win/lose count 12.5/0. Average score (9.17910447761194)\n",
      "Epoch: 68, win/lose count 12.0/2.0. Average score (9.191176470588236)\n",
      "Epoch: 69, win/lose count 12.5/1.0. Average score (9.22463768115942)\n",
      "Epoch: 70, win/lose count 9.5/5.0. Average score (9.157142857142857)\n",
      "Epoch: 71, win/lose count 17.0/2.0. Average score (9.23943661971831)\n",
      "Epoch: 72, win/lose count 15.0/2.0. Average score (9.291666666666666)\n",
      "Epoch: 73, win/lose count 15.0/2.0. Average score (9.342465753424657)\n",
      "Epoch: 74, win/lose count 11.5/3.0. Average score (9.33108108108108)\n",
      "Epoch: 75, win/lose count 11.0/8.0. Average score (9.246666666666666)\n",
      "Epoch: 76, win/lose count 10.5/2.0. Average score (9.236842105263158)\n",
      "Epoch: 77, win/lose count 13.0/2.0. Average score (9.25974025974026)\n",
      "Epoch: 78, win/lose count 3.5/1.0. Average score (9.173076923076923)\n",
      "Epoch: 79, win/lose count 18.0/1.0. Average score (9.272151898734178)\n",
      "Epoch: 80, win/lose count 11.5/4.0. Average score (9.25)\n",
      "Epoch: 81, win/lose count 9.5/1.0. Average score (9.24074074074074)\n",
      "Epoch: 82, win/lose count 14.5/2.0. Average score (9.28048780487805)\n",
      "Epoch: 83, win/lose count 11.0/2.0. Average score (9.27710843373494)\n",
      "Epoch: 84, win/lose count 18.0/4.0. Average score (9.333333333333334)\n",
      "Epoch: 85, win/lose count 13.5/2.0. Average score (9.358823529411765)\n",
      "Epoch: 86, win/lose count 8.0/3.0. Average score (9.30813953488372)\n",
      "Epoch: 87, win/lose count 5.0/2.0. Average score (9.235632183908047)\n",
      "Epoch: 88, win/lose count 5.5/1.0. Average score (9.181818181818182)\n",
      "Epoch: 89, win/lose count 7.0/2.0. Average score (9.134831460674157)\n",
      "Epoch: 90, win/lose count 15.0/5.0. Average score (9.144444444444444)\n",
      "Epoch: 91, win/lose count 5.0/1.0. Average score (9.087912087912088)\n",
      "Epoch: 92, win/lose count 18.0/6.0. Average score (9.119565217391305)\n",
      "Epoch: 93, win/lose count 15.5/7.0. Average score (9.112903225806452)\n",
      "Epoch: 94, win/lose count 14.0/0. Average score (9.164893617021276)\n",
      "Epoch: 95, win/lose count 3.5/0. Average score (9.105263157894736)\n",
      "Epoch: 96, win/lose count 9.5/1.0. Average score (9.098958333333334)\n",
      "Epoch: 97, win/lose count 10.0/0. Average score (9.108247422680412)\n",
      "Epoch: 98, win/lose count 11.0/1.0. Average score (9.11734693877551)\n",
      "Epoch: 99, win/lose count 13.0/2.0. Average score (9.136363636363637)\n",
      "Epoch: 100, win/lose count 12.0/2.0. Average score (9.145)\n",
      "Final score: 9.145\n"
     ]
    },
    {
     "data": {
      "text/html": [
       "<video alt=\"test\" controls>\n",
       "                <source src=\"data:video/mp4;base64,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\" type=\"video/mp4\" />\n",
       "             </video>"
      ],
      "text/plain": [
       "<IPython.core.display.HTML object>"
      ]
     },
     "execution_count": 88,
     "metadata": {},
     "output_type": "execute_result"
    }
   ],
   "source": [
    "agent = DQN_CNN3(size, lr=.1, epsilon = 0.1, memory_size=5000, batch_size = 32)\n",
    "print('Training the mouse...')\n",
    "train(agent,env,epochs_train,prefix='cnn_train',display_loss=True)\n",
    "print('...Done.')\n",
    "print('Testing the mouse:')\n",
    "test(agent,env,epochs_test,prefix='cnn_test',display_score=True)\n",
    "HTML(display_videos('cnn_test20.mp4'))"
   ]
  },
  {
   "cell_type": "markdown",
   "metadata": {
    "colab_type": "text",
    "id": "WFLmAoiucoOy"
   },
   "source": [
    "***\n",
    "***\n",
    "__Question 9__ Test both algorithms and compare their performances. Which issue(s) do you observe? Observe also different behaviors by changing the temperature."
   ]
  },
  {
   "cell_type": "code",
   "execution_count": 89,
   "metadata": {
    "colab": {},
    "colab_type": "code",
    "id": "xRh9SdlBcoO0"
   },
   "outputs": [
    {
     "name": "stdout",
     "output_type": "stream",
     "text": [
      "Test of the CNN\n",
      "Epoch: 1, win/lose count 2.5/4.0. Average score (-1.5)\n",
      "Epoch: 2, win/lose count 13.0/5.0. Average score (3.25)\n",
      "Epoch: 3, win/lose count 20.5/4.0. Average score (7.666666666666667)\n",
      "Epoch: 4, win/lose count 9.5/3.0. Average score (7.375)\n",
      "Epoch: 5, win/lose count 7.5/3.0. Average score (6.8)\n",
      "Epoch: 6, win/lose count 16.0/3.0. Average score (7.833333333333333)\n",
      "Epoch: 7, win/lose count 17.0/1.0. Average score (9.0)\n",
      "Epoch: 8, win/lose count 10.5/1.0. Average score (9.0625)\n",
      "Epoch: 9, win/lose count 12.5/6.0. Average score (8.777777777777779)\n",
      "Epoch: 10, win/lose count 8.0/1.0. Average score (8.6)\n",
      "Epoch: 11, win/lose count 9.0/1.0. Average score (8.545454545454545)\n",
      "Epoch: 12, win/lose count 13.5/2.0. Average score (8.791666666666666)\n",
      "Epoch: 13, win/lose count 6.5/2.0. Average score (8.461538461538462)\n",
      "Epoch: 14, win/lose count 12.5/3.0. Average score (8.535714285714286)\n",
      "Epoch: 15, win/lose count 8.5/2.0. Average score (8.4)\n",
      "Epoch: 16, win/lose count 6.0/0. Average score (8.25)\n",
      "Epoch: 17, win/lose count 15.5/3.0. Average score (8.5)\n",
      "Epoch: 18, win/lose count 17.5/1.0. Average score (8.944444444444445)\n",
      "Epoch: 19, win/lose count 14.0/3.0. Average score (9.052631578947368)\n",
      "Epoch: 20, win/lose count 5.5/0. Average score (8.875)\n",
      "Epoch: 21, win/lose count 17.5/2.0. Average score (9.19047619047619)\n",
      "Epoch: 22, win/lose count 10.5/6.0. Average score (8.977272727272727)\n",
      "Epoch: 23, win/lose count 7.5/1.0. Average score (8.869565217391305)\n",
      "Epoch: 24, win/lose count 18.0/1.0. Average score (9.208333333333334)\n",
      "Epoch: 25, win/lose count 9.5/2.0. Average score (9.14)\n",
      "Epoch: 26, win/lose count 12.5/6.0. Average score (9.038461538461538)\n",
      "Epoch: 27, win/lose count 11.5/0. Average score (9.12962962962963)\n",
      "Epoch: 28, win/lose count 9.5/0. Average score (9.142857142857142)\n",
      "Epoch: 29, win/lose count 7.5/0. Average score (9.086206896551724)\n",
      "Epoch: 30, win/lose count 6.0/2.0. Average score (8.916666666666666)\n",
      "Epoch: 31, win/lose count 18.0/2.0. Average score (9.14516129032258)\n",
      "Epoch: 32, win/lose count 20.0/2.0. Average score (9.421875)\n",
      "Epoch: 33, win/lose count 7.0/1.0. Average score (9.318181818181818)\n",
      "Epoch: 34, win/lose count 9.0/1.0. Average score (9.279411764705882)\n",
      "Epoch: 35, win/lose count 6.5/2.0. Average score (9.142857142857142)\n",
      "Epoch: 36, win/lose count 7.0/1.0. Average score (9.055555555555555)\n",
      "Epoch: 37, win/lose count 20.0/3.0. Average score (9.27027027027027)\n",
      "Epoch: 38, win/lose count 15.0/3.0. Average score (9.342105263157896)\n",
      "Epoch: 39, win/lose count 17.0/2.0. Average score (9.487179487179487)\n",
      "Epoch: 40, win/lose count 17.0/4.0. Average score (9.575)\n",
      "Epoch: 41, win/lose count 11.0/0. Average score (9.609756097560975)\n",
      "Epoch: 42, win/lose count 16.0/4.0. Average score (9.666666666666666)\n",
      "Epoch: 43, win/lose count 17.5/1.0. Average score (9.825581395348838)\n",
      "Epoch: 44, win/lose count 7.0/0. Average score (9.761363636363637)\n",
      "Epoch: 45, win/lose count 11.0/4.0. Average score (9.7)\n",
      "Epoch: 46, win/lose count 11.5/1.0. Average score (9.717391304347826)\n",
      "Epoch: 47, win/lose count 14.0/3.0. Average score (9.74468085106383)\n",
      "Epoch: 48, win/lose count 13.0/3.0. Average score (9.75)\n",
      "Epoch: 49, win/lose count 3.5/1.0. Average score (9.60204081632653)\n",
      "Epoch: 50, win/lose count 14.5/1.0. Average score (9.68)\n",
      "Epoch: 51, win/lose count 13.5/4.0. Average score (9.676470588235293)\n",
      "Epoch: 52, win/lose count 21.0/2.0. Average score (9.85576923076923)\n",
      "Epoch: 53, win/lose count 8.5/1.0. Average score (9.81132075471698)\n",
      "Epoch: 54, win/lose count 16.0/3.0. Average score (9.87037037037037)\n",
      "Epoch: 55, win/lose count 10.5/2.0. Average score (9.845454545454546)\n",
      "Epoch: 56, win/lose count 12.0/0. Average score (9.883928571428571)\n",
      "Epoch: 57, win/lose count 18.0/3.0. Average score (9.973684210526315)\n",
      "Epoch: 58, win/lose count 10.5/4.0. Average score (9.913793103448276)\n",
      "Epoch: 59, win/lose count 8.5/2.0. Average score (9.85593220338983)\n",
      "Epoch: 60, win/lose count 9.0/1.0. Average score (9.825)\n",
      "Epoch: 61, win/lose count 12.0/2.0. Average score (9.827868852459016)\n",
      "Epoch: 62, win/lose count 13.5/1.0. Average score (9.870967741935484)\n",
      "Epoch: 63, win/lose count 5.5/0. Average score (9.801587301587302)\n",
      "Epoch: 64, win/lose count 6.5/5.0. Average score (9.671875)\n",
      "Epoch: 65, win/lose count 10.0/3.0. Average score (9.63076923076923)\n",
      "Epoch: 66, win/lose count 11.5/2.0. Average score (9.628787878787879)\n",
      "Epoch: 67, win/lose count 2.5/0. Average score (9.522388059701493)\n",
      "Epoch: 68, win/lose count 10.0/5.0. Average score (9.455882352941176)\n",
      "Epoch: 69, win/lose count 15.5/3.0. Average score (9.5)\n",
      "Epoch: 70, win/lose count 14.5/2.0. Average score (9.542857142857143)\n",
      "Epoch: 71, win/lose count 10.5/2.0. Average score (9.528169014084508)\n",
      "Epoch: 72, win/lose count 4.0/1.0. Average score (9.4375)\n",
      "Epoch: 73, win/lose count 12.5/4.0. Average score (9.424657534246576)\n",
      "Epoch: 74, win/lose count 12.0/2.0. Average score (9.432432432432432)\n",
      "Epoch: 75, win/lose count 14.5/6.0. Average score (9.42)\n",
      "Epoch: 76, win/lose count 9.0/7.0. Average score (9.322368421052632)\n",
      "Epoch: 77, win/lose count 8.5/0. Average score (9.311688311688311)\n",
      "Epoch: 78, win/lose count 9.5/0. Average score (9.314102564102564)\n",
      "Epoch: 79, win/lose count 11.5/1.0. Average score (9.329113924050633)\n",
      "Epoch: 80, win/lose count 8.5/0. Average score (9.31875)\n",
      "Epoch: 81, win/lose count 8.0/1.0. Average score (9.290123456790123)\n",
      "Epoch: 82, win/lose count 15.5/0. Average score (9.365853658536585)\n",
      "Epoch: 83, win/lose count 5.5/3.0. Average score (9.283132530120483)\n",
      "Epoch: 84, win/lose count 6.5/1.0. Average score (9.238095238095237)\n",
      "Epoch: 85, win/lose count 9.0/1.0. Average score (9.223529411764705)\n",
      "Epoch: 86, win/lose count 8.0/2.0. Average score (9.186046511627907)\n",
      "Epoch: 87, win/lose count 10.0/2.0. Average score (9.172413793103448)\n",
      "Epoch: 88, win/lose count 12.5/4.0. Average score (9.164772727272727)\n",
      "Epoch: 89, win/lose count 16.0/2.0. Average score (9.219101123595506)\n",
      "Epoch: 90, win/lose count 15.0/2.0. Average score (9.261111111111111)\n",
      "Epoch: 91, win/lose count 12.0/2.0. Average score (9.26923076923077)\n",
      "Epoch: 92, win/lose count 7.0/2.0. Average score (9.222826086956522)\n",
      "Epoch: 93, win/lose count 12.5/3.0. Average score (9.225806451612904)\n",
      "Epoch: 94, win/lose count 10.0/1.0. Average score (9.22340425531915)\n",
      "Epoch: 95, win/lose count 0/1.0. Average score (9.115789473684211)\n",
      "Epoch: 96, win/lose count 19.5/1.0. Average score (9.213541666666666)\n",
      "Epoch: 97, win/lose count 8.5/0. Average score (9.206185567010309)\n",
      "Epoch: 98, win/lose count 21.0/7.0. Average score (9.255102040816327)\n",
      "Epoch: 99, win/lose count 5.5/4.0. Average score (9.176767676767676)\n",
      "Epoch: 100, win/lose count 9.5/2.0. Average score (9.16)\n",
      "Final score: 9.16\n",
      "Test of the FC\n",
      "Epoch: 1, win/lose count 4.5/1.0. Average score (3.5)\n",
      "Epoch: 2, win/lose count 16.0/2.0. Average score (8.75)\n",
      "Epoch: 3, win/lose count 24.5/3.0. Average score (13.0)\n",
      "Epoch: 4, win/lose count 14.5/0. Average score (13.375)\n",
      "Epoch: 5, win/lose count 10.0/0. Average score (12.7)\n",
      "Epoch: 6, win/lose count 13.5/3.0. Average score (12.333333333333334)\n",
      "Epoch: 7, win/lose count 18.0/2.0. Average score (12.857142857142858)\n",
      "Epoch: 8, win/lose count 12.0/1.0. Average score (12.625)\n",
      "Epoch: 9, win/lose count 17.5/0. Average score (13.166666666666666)\n",
      "Epoch: 10, win/lose count 20.0/1.0. Average score (13.75)\n",
      "Epoch: 11, win/lose count 15.0/4.0. Average score (13.5)\n",
      "Epoch: 12, win/lose count 16.0/1.0. Average score (13.625)\n",
      "Epoch: 13, win/lose count 16.0/3.0. Average score (13.576923076923077)\n",
      "Epoch: 14, win/lose count 12.0/3.0. Average score (13.25)\n",
      "Epoch: 15, win/lose count 9.0/2.0. Average score (12.833333333333334)\n",
      "Epoch: 16, win/lose count 17.5/5.0. Average score (12.8125)\n",
      "Epoch: 17, win/lose count 14.5/3.0. Average score (12.735294117647058)\n",
      "Epoch: 18, win/lose count 12.5/3.0. Average score (12.555555555555555)\n",
      "Epoch: 19, win/lose count 6.0/3.0. Average score (12.052631578947368)\n",
      "Epoch: 20, win/lose count 11.0/1.0. Average score (11.95)\n",
      "Epoch: 21, win/lose count 15.5/7.0. Average score (11.785714285714286)\n",
      "Epoch: 22, win/lose count 15.0/3.0. Average score (11.795454545454545)\n",
      "Epoch: 23, win/lose count 12.5/5.0. Average score (11.608695652173912)\n",
      "Epoch: 24, win/lose count 13.0/3.0. Average score (11.541666666666666)\n",
      "Epoch: 25, win/lose count 16.0/2.0. Average score (11.64)\n"
     ]
    },
    {
     "name": "stdout",
     "output_type": "stream",
     "text": [
      "Epoch: 26, win/lose count 8.0/5.0. Average score (11.307692307692308)\n",
      "Epoch: 27, win/lose count 17.5/1.0. Average score (11.5)\n",
      "Epoch: 28, win/lose count 15.5/3.0. Average score (11.535714285714286)\n",
      "Epoch: 29, win/lose count 11.0/1.0. Average score (11.482758620689655)\n",
      "Epoch: 30, win/lose count 5.0/4.0. Average score (11.133333333333333)\n",
      "Epoch: 31, win/lose count 2.0/0. Average score (10.838709677419354)\n",
      "Epoch: 32, win/lose count 12.0/4.0. Average score (10.75)\n",
      "Epoch: 33, win/lose count 12.0/5.0. Average score (10.636363636363637)\n",
      "Epoch: 34, win/lose count 13.5/2.0. Average score (10.661764705882353)\n",
      "Epoch: 35, win/lose count 15.5/3.0. Average score (10.714285714285714)\n",
      "Epoch: 36, win/lose count 12.0/3.0. Average score (10.666666666666666)\n",
      "Epoch: 37, win/lose count 6.0/1.0. Average score (10.513513513513514)\n",
      "Epoch: 38, win/lose count 10.0/1.0. Average score (10.473684210526315)\n",
      "Epoch: 39, win/lose count 19.5/0. Average score (10.705128205128204)\n",
      "Epoch: 40, win/lose count 16.5/2.0. Average score (10.8)\n",
      "Epoch: 41, win/lose count 14.5/2.0. Average score (10.841463414634147)\n",
      "Epoch: 42, win/lose count 19.5/3.0. Average score (10.976190476190476)\n",
      "Epoch: 43, win/lose count 14.0/4.0. Average score (10.953488372093023)\n",
      "Epoch: 44, win/lose count 20.5/3.0. Average score (11.102272727272727)\n",
      "Epoch: 45, win/lose count 14.5/2.0. Average score (11.133333333333333)\n",
      "Epoch: 46, win/lose count 12.0/3.0. Average score (11.08695652173913)\n",
      "Epoch: 47, win/lose count 13.5/2.0. Average score (11.095744680851064)\n",
      "Epoch: 48, win/lose count 6.0/0. Average score (10.989583333333334)\n",
      "Epoch: 49, win/lose count 5.5/2.0. Average score (10.83673469387755)\n",
      "Epoch: 50, win/lose count 5.5/2.0. Average score (10.69)\n",
      "Epoch: 51, win/lose count 12.5/2.0. Average score (10.686274509803921)\n",
      "Epoch: 52, win/lose count 12.0/6.0. Average score (10.596153846153847)\n",
      "Epoch: 53, win/lose count 9.5/2.0. Average score (10.537735849056604)\n",
      "Epoch: 54, win/lose count 12.5/4.0. Average score (10.5)\n",
      "Epoch: 55, win/lose count 15.5/3.0. Average score (10.536363636363637)\n",
      "Epoch: 56, win/lose count 15.0/3.0. Average score (10.5625)\n",
      "Epoch: 57, win/lose count 10.5/0. Average score (10.56140350877193)\n",
      "Epoch: 58, win/lose count 21.5/3.0. Average score (10.698275862068966)\n",
      "Epoch: 59, win/lose count 13.0/5.0. Average score (10.652542372881356)\n",
      "Epoch: 60, win/lose count 10.0/0. Average score (10.641666666666667)\n",
      "Epoch: 61, win/lose count 9.5/1.0. Average score (10.60655737704918)\n",
      "Epoch: 62, win/lose count 10.5/3.0. Average score (10.556451612903226)\n",
      "Epoch: 63, win/lose count 5.5/3.0. Average score (10.428571428571429)\n",
      "Epoch: 64, win/lose count 14.5/1.0. Average score (10.4765625)\n",
      "Epoch: 65, win/lose count 16.0/5.0. Average score (10.484615384615385)\n",
      "Epoch: 66, win/lose count 17.0/3.0. Average score (10.537878787878787)\n",
      "Epoch: 67, win/lose count 5.0/0. Average score (10.455223880597014)\n",
      "Epoch: 68, win/lose count 12.5/2.0. Average score (10.455882352941176)\n",
      "Epoch: 69, win/lose count 5.5/2.0. Average score (10.355072463768115)\n",
      "Epoch: 70, win/lose count 13.5/2.0. Average score (10.371428571428572)\n",
      "Epoch: 71, win/lose count 10.5/1.0. Average score (10.359154929577464)\n",
      "Epoch: 72, win/lose count 8.0/1.0. Average score (10.3125)\n",
      "Epoch: 73, win/lose count 13.5/3.0. Average score (10.315068493150685)\n",
      "Epoch: 74, win/lose count 14.5/2.0. Average score (10.344594594594595)\n",
      "Epoch: 75, win/lose count 14.0/2.0. Average score (10.366666666666667)\n",
      "Epoch: 76, win/lose count 14.5/2.0. Average score (10.394736842105264)\n",
      "Epoch: 77, win/lose count 17.5/2.0. Average score (10.46103896103896)\n",
      "Epoch: 78, win/lose count 19.5/2.0. Average score (10.551282051282051)\n",
      "Epoch: 79, win/lose count 9.0/2.0. Average score (10.50632911392405)\n",
      "Epoch: 80, win/lose count 22.5/3.0. Average score (10.61875)\n",
      "Epoch: 81, win/lose count 5.0/0. Average score (10.549382716049383)\n",
      "Epoch: 82, win/lose count 17.0/3.0. Average score (10.591463414634147)\n",
      "Epoch: 83, win/lose count 12.5/5.0. Average score (10.55421686746988)\n",
      "Epoch: 84, win/lose count 13.0/2.0. Average score (10.55952380952381)\n",
      "Epoch: 85, win/lose count 18.5/3.0. Average score (10.617647058823529)\n",
      "Epoch: 86, win/lose count 16.5/0. Average score (10.686046511627907)\n",
      "Epoch: 87, win/lose count 16.0/2.0. Average score (10.724137931034482)\n",
      "Epoch: 88, win/lose count 16.5/1.0. Average score (10.778409090909092)\n",
      "Epoch: 89, win/lose count 17.5/4.0. Average score (10.808988764044944)\n",
      "Epoch: 90, win/lose count 12.0/1.0. Average score (10.811111111111112)\n",
      "Epoch: 91, win/lose count 21.0/2.0. Average score (10.901098901098901)\n",
      "Epoch: 92, win/lose count 14.0/3.0. Average score (10.902173913043478)\n",
      "Epoch: 93, win/lose count 19.0/3.0. Average score (10.956989247311828)\n",
      "Epoch: 94, win/lose count 12.0/1.0. Average score (10.957446808510639)\n",
      "Epoch: 95, win/lose count 5.0/1.0. Average score (10.884210526315789)\n",
      "Epoch: 96, win/lose count 16.0/2.0. Average score (10.916666666666666)\n",
      "Epoch: 97, win/lose count 4.0/0. Average score (10.845360824742269)\n",
      "Epoch: 98, win/lose count 13.0/4.0. Average score (10.826530612244898)\n",
      "Epoch: 99, win/lose count 11.0/1.0. Average score (10.818181818181818)\n",
      "Epoch: 100, win/lose count 18.5/4.0. Average score (10.855)\n",
      "Final score: 10.855\n"
     ]
    }
   ],
   "source": [
    "env = Environment(grid_size=size, max_time=T,temperature=0.3)\n",
    "agent_cnn = DQN_CNN3(size, lr=.1, epsilon = 0.1, memory_size=5000, batch_size = 32)\n",
    "agent_cnn.load(name_weights='cnn_trainmodel.h5',name_model='cnn_trainmodel.json')\n",
    "\n",
    "agent_fc = DQN_FC1(size, lr=.1, epsilon = 0.1, memory_size=2000, batch_size = 64)\n",
    "agent_fc.load(name_weights='fc_trainmodel.h5',name_model='fc_trainmodel.json')\n",
    "print('Test of the CNN')\n",
    "test(agent_cnn,env,epochs_test,prefix='cnn_test',display_score=True)\n",
    "print('Test of the FC')\n",
    "test(agent_fc,env,epochs_test,prefix='fc_test',display_score=True)"
   ]
  },
  {
   "cell_type": "code",
   "execution_count": 90,
   "metadata": {
    "colab": {},
    "colab_type": "code",
    "id": "tX5-SE44coO4"
   },
   "outputs": [
    {
     "data": {
      "text/html": [
       "<video alt=\"test\" controls>\n",
       "                <source src=\"data:video/mp4;base64,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\" type=\"video/mp4\" />\n",
       "             </video>"
      ],
      "text/plain": [
       "<IPython.core.display.HTML object>"
      ]
     },
     "execution_count": 90,
     "metadata": {},
     "output_type": "execute_result"
    }
   ],
   "source": [
    "HTML(display_videos('cnn_test98.mp4'))"
   ]
  },
  {
   "cell_type": "code",
   "execution_count": 91,
   "metadata": {
    "colab": {},
    "colab_type": "code",
    "id": "7VGY-Ia0coO9"
   },
   "outputs": [
    {
     "data": {
      "text/html": [
       "<video alt=\"test\" controls>\n",
       "                <source src=\"data:video/mp4;base64,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\" type=\"video/mp4\" />\n",
       "             </video>"
      ],
      "text/plain": [
       "<IPython.core.display.HTML object>"
      ]
     },
     "execution_count": 91,
     "metadata": {},
     "output_type": "execute_result"
    }
   ],
   "source": [
    "HTML(display_videos('fc_test99.mp4'))"
   ]
  },
  {
   "cell_type": "markdown",
   "metadata": {},
   "source": [
    "**Changing the temperature**"
   ]
  },
  {
   "cell_type": "code",
   "execution_count": 92,
   "metadata": {},
   "outputs": [
    {
     "name": "stdout",
     "output_type": "stream",
     "text": [
      "Test of the CNN\n",
      "Final score: 2.83\n",
      "Test of the FC\n",
      "Final score: 3.53\n"
     ]
    }
   ],
   "source": [
    "env = Environment(grid_size=size, max_time=T,temperature=0.1)\n",
    "agent_cnn = DQN_CNN3(size, lr=.1, epsilon = 0.1, memory_size=5000, batch_size = 32)\n",
    "agent_cnn.load(name_weights='cnn_trainmodel.h5',name_model='cnn_trainmodel.json')\n",
    "\n",
    "agent_fc = DQN_FC1(size, lr=.1, epsilon = 0.1, memory_size=2000, batch_size = 64)\n",
    "agent_fc.load(name_weights='fc_trainmodel.h5',name_model='fc_trainmodel.json')\n",
    "print('Test of the CNN')\n",
    "test(agent_cnn,env,epochs_test,prefix='cnn_test',display_score=False)\n",
    "print('Test of the FC')\n",
    "test(agent_fc,env,epochs_test,prefix='fc_test',display_score=False)\n",
    "\n",
    "\n",
    "HTML(display_videos('fc_test99.mp4'))"
   ]
  },
  {
   "cell_type": "code",
   "execution_count": 34,
   "metadata": {},
   "outputs": [
    {
     "data": {
      "text/html": [
       "<video alt=\"test\" controls>\n",
       "                <source src=\"data:video/mp4;base64,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\" type=\"video/mp4\" />\n",
       "             </video>"
      ],
      "text/plain": [
       "<IPython.core.display.HTML object>"
      ]
     },
     "execution_count": 34,
     "metadata": {},
     "output_type": "execute_result"
    }
   ],
   "source": [
    "#HTML(display_videos('fc_test99.mp4'))\n",
    "HTML(display_videos('cnn_test98.mp4'))"
   ]
  },
  {
   "cell_type": "code",
   "execution_count": 93,
   "metadata": {},
   "outputs": [
    {
     "name": "stdout",
     "output_type": "stream",
     "text": [
      "Test of the CNN\n",
      "Final score: 16.58\n",
      "Test of the FC\n",
      "Final score: 18.9\n"
     ]
    }
   ],
   "source": [
    "env = Environment(grid_size=size, max_time=T,temperature=0.5)\n",
    "agent_cnn = DQN_CNN3(size, lr=.1, epsilon = 0.1, memory_size=5000, batch_size = 32)\n",
    "agent_cnn.load(name_weights='cnn_trainmodel.h5',name_model='cnn_trainmodel.json')\n",
    "\n",
    "agent_fc = DQN_FC1(size, lr=.1, epsilon = 0.1, memory_size=2000, batch_size = 64)\n",
    "agent_fc.load(name_weights='fc_trainmodel.h5',name_model='fc_trainmodel.json')\n",
    "print('Test of the CNN')\n",
    "test(agent_cnn,env,epochs_test,prefix='cnn_test',display_score=False)\n",
    "print('Test of the FC')\n",
    "test(agent_fc,env,epochs_test,prefix='fc_test',display_score=False)"
   ]
  },
  {
   "cell_type": "code",
   "execution_count": 34,
   "metadata": {},
   "outputs": [
    {
     "data": {
      "text/html": [
       "<video alt=\"test\" controls>\n",
       "                <source src=\"data:video/mp4;base64,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\" type=\"video/mp4\" />\n",
       "             </video>"
      ],
      "text/plain": [
       "<IPython.core.display.HTML object>"
      ]
     },
     "execution_count": 34,
     "metadata": {},
     "output_type": "execute_result"
    }
   ],
   "source": [
    "#HTML(display_videos('fc_test99.mp4'))\n",
    "HTML(display_videos('cnn_test98.mp4'))"
   ]
  },
  {
   "cell_type": "code",
   "execution_count": 94,
   "metadata": {},
   "outputs": [
    {
     "name": "stdout",
     "output_type": "stream",
     "text": [
      "Test of the CNN\n",
      "Final score: 39.615\n",
      "Test of the FC\n",
      "Final score: 40.005\n"
     ]
    }
   ],
   "source": [
    "env = Environment(grid_size=size, max_time=T,temperature=0.8)\n",
    "agent_cnn = DQN_CNN3(size, lr=.1, epsilon = 0.1, memory_size=5000, batch_size = 32)\n",
    "agent_cnn.load(name_weights='cnn_trainmodel.h5',name_model='cnn_trainmodel.json')\n",
    "\n",
    "agent_fc = DQN_FC1(size, lr=.1, epsilon = 0.1, memory_size=2000, batch_size = 64)\n",
    "agent_fc.load(name_weights='fc_trainmodel.h5',name_model='fc_trainmodel.json')\n",
    "print('Test of the CNN')\n",
    "test(agent_cnn,env,epochs_test,prefix='cnn_test',display_score=False)\n",
    "print('Test of the FC')\n",
    "test(agent_fc,env,epochs_test,prefix='fc_test',display_score=False)"
   ]
  },
  {
   "cell_type": "code",
   "execution_count": 34,
   "metadata": {},
   "outputs": [
    {
     "data": {
      "text/html": [
       "<video alt=\"test\" controls>\n",
       "                <source src=\"data:video/mp4;base64,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\" type=\"video/mp4\" />\n",
       "             </video>"
      ],
      "text/plain": [
       "<IPython.core.display.HTML object>"
      ]
     },
     "execution_count": 34,
     "metadata": {},
     "output_type": "execute_result"
    }
   ],
   "source": [
    "#HTML(display_videos('fc_test99.mp4'))\n",
    "HTML(display_videos('cnn_test98.mp4'))"
   ]
  },
  {
   "cell_type": "markdown",
   "metadata": {
    "colab_type": "text",
    "id": "NnxQ__ehcoPB"
   },
   "source": [
    "Both of the agent have the same behoavior regarding exploration : when their local environment becomes empty of bonuses, they oscillate and stop exploring. This is because their only mean of exploration is through a random taking a random action with probability <code>espilon</code> at each time step, which is almost always not enough to get out of the no-bonus zone. <br>\n",
    "I am a bit surprised the CNN doesn't perform better than the one layer FC DQN. The CNN DQN always perform very slightly less good than the FC DQN. <br>\n",
    "Finally, by changing the temperature, we see that, without surprise, both DQN get a higher average score if the temperature increase, because bonuses are abundant. When the temperature is low, bonuses and maluses are scarce and the agents, both the CNN one and the FC one, oscillate after a short amount of time in each epoch."
   ]
  },
  {
   "cell_type": "markdown",
   "metadata": {
    "colab_type": "text",
    "id": "Ggw7q8CZcoPC"
   },
   "source": [
    "***\n",
    "\n",
    "The algorithm tends to not explore the map which can be an issue. We propose two ideas in order to encourage exploration:\n",
    "1. Incorporating a decreasing $\\epsilon$-greedy exploration. You can use the method ```set_epsilon```\n",
    "2. Append via the environment a new state that describes if a cell has been visited or not\n",
    "\n",
    "***\n",
    "__Question 10__ Design a new ```train_explore``` function and environment class ```EnvironmentExploring``` to tackle the issue of exploration.\n",
    "\n"
   ]
  },
  {
   "cell_type": "code",
   "execution_count": 16,
   "metadata": {
    "colab": {},
    "colab_type": "code",
    "id": "d12OJB0icoPD"
   },
   "outputs": [],
   "source": [
    "def train_explore(agent,env,epochs,epsilon_decay,prefix='',display_loss=False):\n",
    "    # Same function as train but we add the decaying of epsilon\n",
    "    # Number of won games\n",
    "    score = 0\n",
    "    loss = 0\n",
    "    \n",
    "    # At the beginning of each epoch, we decay epsilon by the decay parameter\n",
    "    # epsilon is multiplied by epsilon_decay\n",
    "    for e in range(epochs):\n",
    "        if e>0:\n",
    "            agent.set_epsilon(epsilon_decay*agent.epsilon)\n",
    "        # At each epoch, we restart to a fresh game and get the initial state\n",
    "        state = env.reset()\n",
    "        # This assumes that the games will terminate\n",
    "        game_over = False\n",
    "\n",
    "        win = 0\n",
    "        lose = 0\n",
    "\n",
    "        while not game_over:\n",
    "            # The agent performs an action\n",
    "            action = agent.act(state)\n",
    "\n",
    "            # Apply an action to the environment, get the next state, the reward\n",
    "            # and if the games end\n",
    "            prev_state = state\n",
    "            state, reward, game_over = env.act(action, train=True)\n",
    "\n",
    "            # Update the counters\n",
    "            if reward > 0:\n",
    "                win = win + reward\n",
    "            if reward < 0:\n",
    "                lose = lose -reward\n",
    "\n",
    "            # Apply the reinforcement strategy\n",
    "            loss = agent.reinforce(prev_state, state,  action, reward, game_over)\n",
    "        \n",
    "        # Save as a mp4\n",
    "        if (e+1) % 10 == 0:\n",
    "            env.draw(prefix+str(e+1))\n",
    "            \n",
    "        if display_loss:\n",
    "            print(\"Epoch {:03d}/{:03d} | Loss {:.4f} | Win/lose count {}/{} ({})\"\n",
    "                  .format(e+1, epochs, loss, win, lose, win-lose))\n",
    "        agent.save(name_weights=prefix+'model.h5',name_model=prefix+'model.json')\n",
    "    \n",
    "        \n",
    "class EnvironmentExploring(Environment):\n",
    "    def __init__(self, grid_size=10, max_time=500, temperature=0.1):\n",
    "        super(EnvironmentExploring, self).__init__(grid_size, max_time, temperature)\n",
    "        # This accounts for a visited state. We get a malus if the mouse goes there\n",
    "        self.malus_position = np.zeros((self.grid_size,self.grid_size))\n",
    "        \n",
    "    # We only need to rewrite 2 functions from Environment:\n",
    "    # The act function and the reset function\n",
    "    def act(self, action, train=False):\n",
    "        \"\"\"This function returns the new state, reward and decides if the\n",
    "        game ends.\"\"\"\n",
    "\n",
    "        self.get_frame(int(self.t))\n",
    "\n",
    "        self.position = np.zeros((self.grid_size, self.grid_size))\n",
    "\n",
    "        self.position[0:2,:]= -1\n",
    "        self.position[:,0:2] = -1\n",
    "        self.position[-2:, :] = -1\n",
    "        #self.position[-2:, :] = -1\n",
    "        self.position[:, -2:] = -1\n",
    "\n",
    "        self.position[self.x, self.y] = 1\n",
    "        if action == 0:\n",
    "            if self.x == self.grid_size-3:\n",
    "                self.x = self.x-1\n",
    "            else:\n",
    "                self.x = self.x + 1\n",
    "        elif action == 1:\n",
    "            if self.x == 2:\n",
    "                self.x = self.x+1\n",
    "            else:\n",
    "                self.x = self.x-1\n",
    "        elif action == 2:\n",
    "            if self.y == self.grid_size - 3:\n",
    "                self.y = self.y - 1\n",
    "            else:\n",
    "                self.y = self.y + 1\n",
    "        elif action == 3:\n",
    "            if self.y == 2:\n",
    "                self.y = self.y + 1\n",
    "            else:\n",
    "                self.y = self.y - 1\n",
    "        else:\n",
    "            RuntimeError('Error: action not recognized')\n",
    "\n",
    "        self.t = self.t + 1\n",
    "        #reward = self.board[self.x, self.y] --> previously in Environment\n",
    "        reward = 0\n",
    "        if train:\n",
    "            reward = -self.malus_position[self.x, self.y]\n",
    "        self.malus_position[self.x, self.y] = 0.1\n",
    "\n",
    "        reward = reward + self.board[self.x, self.y]\n",
    "        \n",
    "        self.board[self.x, self.y] = 0\n",
    "        game_over = self.t > self.max_time\n",
    "        \n",
    "        # Previously in Environment:\n",
    "        #state = np.concatenate((self.board.reshape(self.grid_size, self.grid_size,1),\n",
    "        #                self.position.reshape(self.grid_size, self.grid_size,1)),axis=2)\n",
    "        state = np.concatenate((self.malus_position.reshape(self.grid_size, self.grid_size,1),\n",
    "                                self.board.reshape(self.grid_size, self.grid_size,1),\n",
    "                        self.position.reshape(self.grid_size, self.grid_size,1)),axis=2)\n",
    "        \n",
    "        state = state[self.x-2:self.x+3,self.y-2:self.y+3,:]\n",
    "\n",
    "        return state, reward, game_over\n",
    "\n",
    "    def reset(self):\n",
    "        \"\"\"This function resets the game and returns the initial state\"\"\"\n",
    "\n",
    "        self.x = np.random.randint(3, self.grid_size-3, size=1)[0]\n",
    "        self.y = np.random.randint(3, self.grid_size-3, size=1)[0]\n",
    "\n",
    "\n",
    "        bonus = 0.5*np.random.binomial(1,self.temperature,size=self.grid_size**2)\n",
    "        bonus = bonus.reshape(self.grid_size,self.grid_size)\n",
    "\n",
    "        malus = -1.0*np.random.binomial(1,self.temperature,size=self.grid_size**2)\n",
    "        malus = malus.reshape(self.grid_size, self.grid_size)\n",
    "\n",
    "        self.to_draw = np.zeros((self.max_time+2, self.grid_size*self.scale, self.grid_size*self.scale, 3))\n",
    "\n",
    "\n",
    "        malus[bonus>0]=0\n",
    "\n",
    "        self.board = bonus + malus\n",
    "\n",
    "        self.position = np.zeros((self.grid_size, self.grid_size))\n",
    "        self.position[0:2,:]= -1\n",
    "        self.position[:,0:2] = -1\n",
    "        self.position[-2:, :] = -1\n",
    "        #self.position[-2:, :] = -1\n",
    "        self.position[:, -2:] = -1\n",
    "        self.board[self.x,self.y] = 0\n",
    "        self.t = 0\n",
    "\n",
    "        # Previously in Environment:\n",
    "        #state = np.concatenate((self.board.reshape(self.grid_size, self.grid_size,1),\n",
    "                        #self.position.reshape(self.grid_size, self.grid_size,1)),axis=2)\n",
    "\n",
    "        # 3 \"feature\" states instead of 2\n",
    "        # You will have to change n_state to 3 because you will use one more layer!\n",
    "        state = np.concatenate((self.malus_position.reshape(self.grid_size, self.grid_size,1),\n",
    "                                self.board.reshape(self.grid_size, self.grid_size,1),\n",
    "                        self.position.reshape(self.grid_size, self.grid_size,1)),axis=2)\n",
    "        state = state[self.x - 2:self.x + 3, self.y - 2:self.y + 3, :]\n",
    "        return state"
   ]
  },
  {
   "cell_type": "code",
   "execution_count": 27,
   "metadata": {
    "colab": {},
    "colab_type": "code",
    "id": "6U3DmYgxcoPH"
   },
   "outputs": [
    {
     "data": {
      "text/html": [
       "<video alt=\"test\" controls>\n",
       "                <source src=\"data:video/mp4;base64,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\" type=\"video/mp4\" />\n",
       "             </video>"
      ],
      "text/plain": [
       "<IPython.core.display.HTML object>"
      ]
     },
     "execution_count": 27,
     "metadata": {},
     "output_type": "execute_result"
    }
   ],
   "source": [
    "# Training DQN\n",
    "# memory_size=5000 crashed so I used 2000\n",
    "epochs_train = 500\n",
    "env = EnvironmentExploring(grid_size=size, max_time=T, temperature=0.3)\n",
    "agent = DQN_CNN3(size, lr=.1, epsilon = 0.4, memory_size=2000, batch_size = 32,n_state=3)\n",
    "train_explore(agent,env,epochs_train, epsilon_decay=0.95,prefix='cnn_train_explore')\n",
    "HTML(display_videos('cnn_train_explore10.mp4'))"
   ]
  },
  {
   "cell_type": "code",
   "execution_count": 28,
   "metadata": {
    "colab": {},
    "colab_type": "code",
    "id": "6DjWAeoccoPM",
    "scrolled": true
   },
   "outputs": [
    {
     "name": "stdout",
     "output_type": "stream",
     "text": [
      "Epoch: 1, win/lose count 19.0/0. Average score (19.0)\n",
      "Epoch: 2, win/lose count 4.0/0. Average score (11.5)\n",
      "Epoch: 3, win/lose count 15.5/0. Average score (12.833333333333334)\n",
      "Epoch: 4, win/lose count 10.5/0. Average score (12.25)\n",
      "Epoch: 5, win/lose count 11.5/0. Average score (12.1)\n",
      "Epoch: 6, win/lose count 14.5/0. Average score (12.5)\n",
      "Epoch: 7, win/lose count 5.5/0. Average score (11.5)\n",
      "Epoch: 8, win/lose count 18.0/0. Average score (12.3125)\n",
      "Epoch: 9, win/lose count 13.5/0. Average score (12.444444444444445)\n",
      "Epoch: 10, win/lose count 12.0/0. Average score (12.4)\n",
      "Epoch: 11, win/lose count 8.5/0. Average score (12.045454545454545)\n",
      "Epoch: 12, win/lose count 6.0/0. Average score (11.541666666666666)\n",
      "Epoch: 13, win/lose count 9.0/0. Average score (11.346153846153847)\n",
      "Epoch: 14, win/lose count 8.0/0. Average score (11.107142857142858)\n",
      "Epoch: 15, win/lose count 17.5/0. Average score (11.533333333333333)\n",
      "Epoch: 16, win/lose count 10.5/0. Average score (11.46875)\n",
      "Epoch: 17, win/lose count 9.0/0. Average score (11.323529411764707)\n",
      "Epoch: 18, win/lose count 5.0/0. Average score (10.972222222222221)\n",
      "Epoch: 19, win/lose count 15.5/0. Average score (11.210526315789474)\n",
      "Epoch: 20, win/lose count 16.5/0. Average score (11.475)\n",
      "Epoch: 21, win/lose count 9.0/0. Average score (11.357142857142858)\n",
      "Epoch: 22, win/lose count 21.5/0. Average score (11.818181818181818)\n",
      "Epoch: 23, win/lose count 4.0/0. Average score (11.478260869565217)\n",
      "Epoch: 24, win/lose count 2.0/0. Average score (11.083333333333334)\n",
      "Epoch: 25, win/lose count 9.0/0. Average score (11.0)\n",
      "Epoch: 26, win/lose count 21.0/0. Average score (11.384615384615385)\n",
      "Epoch: 27, win/lose count 7.0/0. Average score (11.222222222222221)\n",
      "Epoch: 28, win/lose count 10.0/0. Average score (11.178571428571429)\n",
      "Epoch: 29, win/lose count 20.0/0. Average score (11.482758620689655)\n",
      "Epoch: 30, win/lose count 11.5/0. Average score (11.483333333333333)\n",
      "Epoch: 31, win/lose count 13.0/0. Average score (11.53225806451613)\n",
      "Epoch: 32, win/lose count 6.5/0. Average score (11.375)\n",
      "Epoch: 33, win/lose count 15.5/1.0. Average score (11.469696969696969)\n",
      "Epoch: 34, win/lose count 7.5/0. Average score (11.352941176470589)\n",
      "Epoch: 35, win/lose count 10.5/0. Average score (11.32857142857143)\n",
      "Epoch: 36, win/lose count 10.5/0. Average score (11.305555555555555)\n",
      "Epoch: 37, win/lose count 16.5/0. Average score (11.445945945945946)\n",
      "Epoch: 38, win/lose count 12.0/0. Average score (11.460526315789474)\n",
      "Epoch: 39, win/lose count 5.5/0. Average score (11.307692307692308)\n",
      "Epoch: 40, win/lose count 15.5/0. Average score (11.4125)\n",
      "Epoch: 41, win/lose count 6.0/0. Average score (11.28048780487805)\n",
      "Epoch: 42, win/lose count 9.0/0. Average score (11.226190476190476)\n",
      "Epoch: 43, win/lose count 5.5/1.0. Average score (11.069767441860465)\n",
      "Epoch: 44, win/lose count 12.5/0. Average score (11.102272727272727)\n",
      "Epoch: 45, win/lose count 19.5/0. Average score (11.28888888888889)\n",
      "Epoch: 46, win/lose count 12.5/0. Average score (11.315217391304348)\n",
      "Epoch: 47, win/lose count 4.0/0. Average score (11.159574468085106)\n",
      "Epoch: 48, win/lose count 9.5/0. Average score (11.125)\n",
      "Epoch: 49, win/lose count 19.5/1.0. Average score (11.275510204081632)\n",
      "Epoch: 50, win/lose count 16.5/0. Average score (11.38)\n",
      "Epoch: 51, win/lose count 15.5/0. Average score (11.46078431372549)\n",
      "Epoch: 52, win/lose count 15.5/0. Average score (11.538461538461538)\n",
      "Epoch: 53, win/lose count 4.0/0. Average score (11.39622641509434)\n",
      "Epoch: 54, win/lose count 11.5/0. Average score (11.398148148148149)\n",
      "Epoch: 55, win/lose count 21.0/0. Average score (11.572727272727272)\n",
      "Epoch: 56, win/lose count 10.0/0. Average score (11.544642857142858)\n",
      "Epoch: 57, win/lose count 8.0/0. Average score (11.482456140350877)\n",
      "Epoch: 58, win/lose count 8.5/0. Average score (11.431034482758621)\n",
      "Epoch: 59, win/lose count 4.0/0. Average score (11.305084745762711)\n",
      "Epoch: 60, win/lose count 4.0/0. Average score (11.183333333333334)\n",
      "Epoch: 61, win/lose count 11.0/0. Average score (11.180327868852459)\n",
      "Epoch: 62, win/lose count 3.5/0. Average score (11.056451612903226)\n",
      "Epoch: 63, win/lose count 17.5/0. Average score (11.158730158730158)\n",
      "Epoch: 64, win/lose count 10.5/0. Average score (11.1484375)\n",
      "Epoch: 65, win/lose count 0.5/0. Average score (10.984615384615385)\n",
      "Epoch: 66, win/lose count 9.5/0. Average score (10.962121212121213)\n",
      "Epoch: 67, win/lose count 11.0/0. Average score (10.962686567164178)\n",
      "Epoch: 68, win/lose count 12.0/0. Average score (10.977941176470589)\n",
      "Epoch: 69, win/lose count 7.5/0. Average score (10.927536231884059)\n",
      "Epoch: 70, win/lose count 15.5/0. Average score (10.992857142857142)\n",
      "Epoch: 71, win/lose count 3.0/0. Average score (10.880281690140846)\n",
      "Epoch: 72, win/lose count 9.5/0. Average score (10.86111111111111)\n",
      "Epoch: 73, win/lose count 22.5/0. Average score (11.020547945205479)\n",
      "Epoch: 74, win/lose count 7.5/0. Average score (10.972972972972974)\n",
      "Epoch: 75, win/lose count 15.0/0. Average score (11.026666666666667)\n",
      "Epoch: 76, win/lose count 6.5/0. Average score (10.967105263157896)\n",
      "Epoch: 77, win/lose count 5.0/0. Average score (10.88961038961039)\n",
      "Epoch: 78, win/lose count 5.0/0. Average score (10.814102564102564)\n",
      "Epoch: 79, win/lose count 15.0/0. Average score (10.867088607594937)\n",
      "Epoch: 80, win/lose count 13.0/0. Average score (10.89375)\n",
      "Epoch: 81, win/lose count 5.5/0. Average score (10.82716049382716)\n",
      "Epoch: 82, win/lose count 15.0/0. Average score (10.878048780487806)\n",
      "Epoch: 83, win/lose count 7.5/0. Average score (10.837349397590362)\n",
      "Epoch: 84, win/lose count 4.0/0. Average score (10.755952380952381)\n",
      "Epoch: 85, win/lose count 17.0/0. Average score (10.829411764705883)\n",
      "Epoch: 86, win/lose count 1.0/0. Average score (10.715116279069768)\n",
      "Epoch: 87, win/lose count 6.5/0. Average score (10.666666666666666)\n",
      "Epoch: 88, win/lose count 7.5/0. Average score (10.630681818181818)\n",
      "Epoch: 89, win/lose count 0/0. Average score (10.51123595505618)\n",
      "Epoch: 90, win/lose count 9.0/0. Average score (10.494444444444444)\n",
      "Epoch: 91, win/lose count 11.0/0. Average score (10.5)\n",
      "Epoch: 92, win/lose count 15.0/0. Average score (10.548913043478262)\n",
      "Epoch: 93, win/lose count 11.5/0. Average score (10.559139784946236)\n",
      "Epoch: 94, win/lose count 9.0/0. Average score (10.542553191489361)\n",
      "Epoch: 95, win/lose count 14.0/0. Average score (10.578947368421053)\n",
      "Epoch: 96, win/lose count 14.5/0. Average score (10.619791666666666)\n",
      "Epoch: 97, win/lose count 7.5/0. Average score (10.587628865979381)\n",
      "Epoch: 98, win/lose count 6.0/0. Average score (10.540816326530612)\n",
      "Epoch: 99, win/lose count 19.0/1.0. Average score (10.616161616161616)\n",
      "Epoch: 100, win/lose count 3.0/0. Average score (10.54)\n",
      "Final score: 10.54\n"
     ]
    }
   ],
   "source": [
    "# Evaluation\n",
    "test(agent,env,epochs_test,prefix='cnn_test_explore',display_score=True)"
   ]
  },
  {
   "cell_type": "code",
   "execution_count": 29,
   "metadata": {},
   "outputs": [
    {
     "data": {
      "text/html": [
       "<video alt=\"test\" controls>\n",
       "                <source src=\"data:video/mp4;base64,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\" type=\"video/mp4\" />\n",
       "             </video>"
      ],
      "text/plain": [
       "<IPython.core.display.HTML object>"
      ]
     },
     "execution_count": 29,
     "metadata": {},
     "output_type": "execute_result"
    }
   ],
   "source": [
    "HTML(display_videos('cnn_test_explore3.mp4'))"
   ]
  },
  {
   "cell_type": "code",
   "execution_count": 30,
   "metadata": {},
   "outputs": [
    {
     "data": {
      "text/html": [
       "<video alt=\"test\" controls>\n",
       "                <source src=\"data:video/mp4;base64,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\" type=\"video/mp4\" />\n",
       "             </video>"
      ],
      "text/plain": [
       "<IPython.core.display.HTML object>"
      ]
     },
     "execution_count": 30,
     "metadata": {},
     "output_type": "execute_result"
    }
   ],
   "source": [
    "# Training FC\n",
    "env = EnvironmentExploring(grid_size=size, max_time=T, temperature=0.3)\n",
    "agent = DQN_FC1(size, lr=.1, epsilon = 0.2, memory_size=2000, batch_size = 64,n_state=3)\n",
    "train_explore(agent,env,epochs_train, epsilon_decay=0.9,prefix='fc_train_explore')\n",
    "HTML(display_videos('fc_train_explore10.mp4'))"
   ]
  },
  {
   "cell_type": "code",
   "execution_count": 31,
   "metadata": {
    "scrolled": true
   },
   "outputs": [
    {
     "name": "stdout",
     "output_type": "stream",
     "text": [
      "Epoch: 1, win/lose count 5.5/0. Average score (5.5)\n",
      "Epoch: 2, win/lose count 13.0/0. Average score (9.25)\n",
      "Epoch: 3, win/lose count 17.0/0. Average score (11.833333333333334)\n",
      "Epoch: 4, win/lose count 13.5/0. Average score (12.25)\n",
      "Epoch: 5, win/lose count 11.5/0. Average score (12.1)\n",
      "Epoch: 6, win/lose count 16.5/0. Average score (12.833333333333334)\n",
      "Epoch: 7, win/lose count 19.0/0. Average score (13.714285714285714)\n",
      "Epoch: 8, win/lose count 19.5/0. Average score (14.4375)\n",
      "Epoch: 9, win/lose count 15.0/0. Average score (14.5)\n",
      "Epoch: 10, win/lose count 12.5/0. Average score (14.3)\n",
      "Epoch: 11, win/lose count 9.0/0. Average score (13.818181818181818)\n",
      "Epoch: 12, win/lose count 7.0/0. Average score (13.25)\n",
      "Epoch: 13, win/lose count 11.5/0. Average score (13.115384615384615)\n",
      "Epoch: 14, win/lose count 5.0/0. Average score (12.535714285714286)\n",
      "Epoch: 15, win/lose count 3.5/0. Average score (11.933333333333334)\n",
      "Epoch: 16, win/lose count 14.0/0. Average score (12.0625)\n",
      "Epoch: 17, win/lose count 4.5/1.0. Average score (11.558823529411764)\n",
      "Epoch: 18, win/lose count 10.5/0. Average score (11.5)\n",
      "Epoch: 19, win/lose count 14.0/1.0. Average score (11.578947368421053)\n",
      "Epoch: 20, win/lose count 5.5/1.0. Average score (11.225)\n",
      "Epoch: 21, win/lose count 12.0/0. Average score (11.261904761904763)\n",
      "Epoch: 22, win/lose count 5.0/0. Average score (10.977272727272727)\n",
      "Epoch: 23, win/lose count 11.5/0. Average score (11.0)\n",
      "Epoch: 24, win/lose count 21.0/0. Average score (11.416666666666666)\n",
      "Epoch: 25, win/lose count 16.0/0. Average score (11.6)\n",
      "Epoch: 26, win/lose count 3.5/0. Average score (11.288461538461538)\n",
      "Epoch: 27, win/lose count 14.5/0. Average score (11.407407407407407)\n",
      "Epoch: 28, win/lose count 6.0/0. Average score (11.214285714285714)\n",
      "Epoch: 29, win/lose count 6.5/0. Average score (11.051724137931034)\n",
      "Epoch: 30, win/lose count 11.5/0. Average score (11.066666666666666)\n",
      "Epoch: 31, win/lose count 7.0/0. Average score (10.935483870967742)\n",
      "Epoch: 32, win/lose count 10.0/1.0. Average score (10.875)\n",
      "Epoch: 33, win/lose count 11.5/0. Average score (10.893939393939394)\n",
      "Epoch: 34, win/lose count 9.5/0. Average score (10.852941176470589)\n",
      "Epoch: 35, win/lose count 4.0/0. Average score (10.657142857142857)\n",
      "Epoch: 36, win/lose count 5.5/0. Average score (10.51388888888889)\n",
      "Epoch: 37, win/lose count 11.5/0. Average score (10.54054054054054)\n",
      "Epoch: 38, win/lose count 21.5/0. Average score (10.828947368421053)\n",
      "Epoch: 39, win/lose count 9.5/0. Average score (10.794871794871796)\n",
      "Epoch: 40, win/lose count 15.5/0. Average score (10.9125)\n",
      "Epoch: 41, win/lose count 20.0/0. Average score (11.134146341463415)\n",
      "Epoch: 42, win/lose count 16.0/0. Average score (11.25)\n",
      "Epoch: 43, win/lose count 10.5/0. Average score (11.232558139534884)\n",
      "Epoch: 44, win/lose count 9.5/0. Average score (11.193181818181818)\n",
      "Epoch: 45, win/lose count 19.0/1.0. Average score (11.344444444444445)\n",
      "Epoch: 46, win/lose count 21.0/0. Average score (11.554347826086957)\n",
      "Epoch: 47, win/lose count 5.0/0. Average score (11.414893617021276)\n",
      "Epoch: 48, win/lose count 5.5/0. Average score (11.291666666666666)\n",
      "Epoch: 49, win/lose count 17.0/0. Average score (11.408163265306122)\n",
      "Epoch: 50, win/lose count 15.5/1.0. Average score (11.47)\n",
      "Epoch: 51, win/lose count 9.0/0. Average score (11.42156862745098)\n",
      "Epoch: 52, win/lose count 6.0/0. Average score (11.317307692307692)\n",
      "Epoch: 53, win/lose count 4.5/0. Average score (11.18867924528302)\n",
      "Epoch: 54, win/lose count 20.5/0. Average score (11.36111111111111)\n",
      "Epoch: 55, win/lose count 6.0/0. Average score (11.263636363636364)\n",
      "Epoch: 56, win/lose count 19.0/0. Average score (11.401785714285714)\n",
      "Epoch: 57, win/lose count 6.0/0. Average score (11.307017543859649)\n",
      "Epoch: 58, win/lose count 18.5/0. Average score (11.431034482758621)\n",
      "Epoch: 59, win/lose count 15.5/0. Average score (11.5)\n",
      "Epoch: 60, win/lose count 13.0/0. Average score (11.525)\n",
      "Epoch: 61, win/lose count 10.0/0. Average score (11.5)\n",
      "Epoch: 62, win/lose count 3.5/0. Average score (11.370967741935484)\n",
      "Epoch: 63, win/lose count 21.5/0. Average score (11.531746031746032)\n",
      "Epoch: 64, win/lose count 12.0/0. Average score (11.5390625)\n",
      "Epoch: 65, win/lose count 9.5/0. Average score (11.507692307692308)\n",
      "Epoch: 66, win/lose count 10.5/0. Average score (11.492424242424242)\n",
      "Epoch: 67, win/lose count 1.5/0. Average score (11.343283582089553)\n",
      "Epoch: 68, win/lose count 3.5/0. Average score (11.227941176470589)\n",
      "Epoch: 69, win/lose count 8.0/1.0. Average score (11.166666666666666)\n",
      "Epoch: 70, win/lose count 11.5/1.0. Average score (11.157142857142857)\n",
      "Epoch: 71, win/lose count 12.0/0. Average score (11.169014084507042)\n",
      "Epoch: 72, win/lose count 3.5/0. Average score (11.0625)\n",
      "Epoch: 73, win/lose count 9.0/0. Average score (11.034246575342467)\n",
      "Epoch: 74, win/lose count 9.0/1.0. Average score (10.993243243243244)\n",
      "Epoch: 75, win/lose count 5.5/0. Average score (10.92)\n",
      "Epoch: 76, win/lose count 13.5/0. Average score (10.953947368421053)\n",
      "Epoch: 77, win/lose count 7.0/0. Average score (10.902597402597403)\n",
      "Epoch: 78, win/lose count 21.5/0. Average score (11.038461538461538)\n",
      "Epoch: 79, win/lose count 20.0/1.0. Average score (11.139240506329115)\n",
      "Epoch: 80, win/lose count 5.5/0. Average score (11.06875)\n",
      "Epoch: 81, win/lose count 19.0/2.0. Average score (11.141975308641975)\n",
      "Epoch: 82, win/lose count 9.5/0. Average score (11.121951219512194)\n",
      "Epoch: 83, win/lose count 13.5/0. Average score (11.150602409638553)\n",
      "Epoch: 84, win/lose count 16.0/0. Average score (11.208333333333334)\n",
      "Epoch: 85, win/lose count 5.0/0. Average score (11.135294117647058)\n",
      "Epoch: 86, win/lose count 5.5/0. Average score (11.069767441860465)\n",
      "Epoch: 87, win/lose count 7.0/0. Average score (11.022988505747126)\n",
      "Epoch: 88, win/lose count 1.0/0. Average score (10.909090909090908)\n",
      "Epoch: 89, win/lose count 8.5/0. Average score (10.882022471910112)\n",
      "Epoch: 90, win/lose count 3.5/0. Average score (10.8)\n",
      "Epoch: 91, win/lose count 13.5/0. Average score (10.82967032967033)\n",
      "Epoch: 92, win/lose count 21.0/0. Average score (10.940217391304348)\n",
      "Epoch: 93, win/lose count 19.5/0. Average score (11.03225806451613)\n",
      "Epoch: 94, win/lose count 1.5/0. Average score (10.930851063829786)\n",
      "Epoch: 95, win/lose count 11.0/0. Average score (10.93157894736842)\n",
      "Epoch: 96, win/lose count 5.0/0. Average score (10.869791666666666)\n",
      "Epoch: 97, win/lose count 7.5/0. Average score (10.835051546391753)\n",
      "Epoch: 98, win/lose count 13.5/0. Average score (10.862244897959183)\n",
      "Epoch: 99, win/lose count 17.0/0. Average score (10.924242424242424)\n",
      "Epoch: 100, win/lose count 5.0/0. Average score (10.865)\n",
      "Final score: 10.865\n"
     ]
    }
   ],
   "source": [
    "# Evaluation\n",
    "test(agent,env,epochs_test,prefix='fc_test_explore',display_score=True)"
   ]
  },
  {
   "cell_type": "code",
   "execution_count": 32,
   "metadata": {},
   "outputs": [
    {
     "data": {
      "text/html": [
       "<video alt=\"test\" controls>\n",
       "                <source src=\"data:video/mp4;base64,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\" type=\"video/mp4\" />\n",
       "             </video>"
      ],
      "text/plain": [
       "<IPython.core.display.HTML object>"
      ]
     },
     "execution_count": 32,
     "metadata": {},
     "output_type": "execute_result"
    }
   ],
   "source": [
    "HTML(display_videos('fc_test_explore10.mp4'))"
   ]
  },
  {
   "cell_type": "markdown",
   "metadata": {},
   "source": [
    "I tried different parameters for the exploration task. I went from <code>epochs_train=100</code>, <code>epsilon=0.5</code>, <code>epsilon_decay=0.9</code> to <code>epochs_train=100</code>, <code>epsilon=0.1</code>, <code>epsilon_decay=0.99</code> which took a lot of time to try to have a good exploration. I settled on increasing the training time to <code>epochs_train=500</code>, starting at a medium-low <code>epsilon=0.2</code> and a slow decay <code>epsilon_decay=0.95</code>. <br>\n",
    "The exploration seems to make the test score a bit better. I tried both the FC and CNN DQN and found by looking through the videos that the exploration doesn't seem to add a lot to the FC, but it seems that with the CNN, the agent does try to go further and not where it has already been, in order to collect more bonuses."
   ]
  },
  {
   "cell_type": "markdown",
   "metadata": {
    "colab_type": "text",
    "id": "ajv4r330coPX"
   },
   "source": [
    "***\n",
    "***\n",
    "__BONUS question__ Use the expert DQN from the previous question to generate some winning games. Train a model that mimicks its behavior. Compare the performances."
   ]
  },
  {
   "cell_type": "markdown",
   "metadata": {
    "colab_type": "text",
    "id": "cb2qY_aScoPY"
   },
   "source": []
  },
  {
   "cell_type": "markdown",
   "metadata": {
    "colab_type": "text",
    "id": "_65VQ651coPZ"
   },
   "source": [
    "***"
   ]
  }
 ],
 "metadata": {
  "kernelspec": {
   "display_name": "Python 3",
   "language": "python",
   "name": "python3"
  },
  "language_info": {
   "codemirror_mode": {
    "name": "ipython",
    "version": 3
   },
   "file_extension": ".py",
   "mimetype": "text/x-python",
   "name": "python",
   "nbconvert_exporter": "python",
   "pygments_lexer": "ipython3",
   "version": "3.6.10"
  }
 },
 "nbformat": 4,
 "nbformat_minor": 4
}
